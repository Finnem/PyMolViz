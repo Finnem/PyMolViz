{
 "cells": [
  {
   "cell_type": "markdown",
   "metadata": {},
   "source": [
    "### CGOCollection\n",
    "_CGOCollections_, as the name indicates are collections of CGOs, **C**ompiled **G**raphics **O**bjects.  In PyMOLViz this corresponds to every class that inherits from _Points_. This includes every class except for the ColorMap that has been presented thus far. However it specifically excludes any volumetric class. \n",
    "\n",
    "CGOCollections are _Displayables_ and have therefore a _name_ and a _write_ function. They are special in that all _Displayables_ that are part of a _CGOCollection_ will be combined and appear in PyMOL as the **same** _Displayable_ under the name of the Collection (unless they are also added by different means)."
   ]
  },
  {
   "cell_type": "code",
   "execution_count": 1,
   "metadata": {},
   "outputs": [],
   "source": [
    "import pymolviz as pmv\n",
    "import numpy as np"
   ]
  },
  {
   "cell_type": "code",
   "execution_count": 2,
   "metadata": {},
   "outputs": [
    {
     "name": "stderr",
     "output_type": "stream",
     "text": [
      "WARNING:root:Interpreted 3 values as a single color. If you intended them to be values to extrapolate from, set values_are_single_color to False. If you intended them to be a color, set values_are_single_color to True to suppress this warning.\n",
      "WARNING:root:Interpreted 3 values as a single color. If you intended them to be values to extrapolate from, set values_are_single_color to False. If you intended them to be a color, set values_are_single_color to True to suppress this warning.\n"
     ]
    }
   ],
   "source": [
    "points = pmv.Points(np.random.rand(10,3), color = (1,0,0), name = \"points\")\n",
    "lines = pmv.Lines(np.hstack([np.random.rand(10,3), np.random.rand(10,3)]), color = (0,0,1), name =\"lines\")\n",
    "collection = pmv.CGOCollection([points, lines], name = \"collection\")\n",
    "collection.write(\"out/basic_collection.py\")"
   ]
  }
 ],
 "metadata": {
  "kernelspec": {
   "display_name": "tf_Finn",
   "language": "python",
   "name": "python3"
  },
  "language_info": {
   "codemirror_mode": {
    "name": "ipython",
    "version": 3
   },
   "file_extension": ".py",
   "mimetype": "text/x-python",
   "name": "python",
   "nbconvert_exporter": "python",
   "pygments_lexer": "ipython3",
   "version": "3.8.12"
  },
  "orig_nbformat": 4
 },
 "nbformat": 4,
 "nbformat_minor": 2
}
