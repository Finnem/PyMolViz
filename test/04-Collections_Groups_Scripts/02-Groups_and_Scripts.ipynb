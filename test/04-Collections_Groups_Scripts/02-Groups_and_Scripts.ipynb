{
 "cells": [
  {
   "cell_type": "markdown",
   "metadata": {},
   "source": [
    "# Groups and Scripts"
   ]
  },
  {
   "cell_type": "code",
   "execution_count": 1,
   "metadata": {},
   "outputs": [],
   "source": [
    "import numpy as np\n",
    "import pymolviz as pmv"
   ]
  },
  {
   "cell_type": "markdown",
   "metadata": {},
   "source": [
    "### Groups\n",
    "Groups are used to gather multiple _Displayables_. Other than with _CGOCollections_, any other _Displayable_ **that is not a _Group_** can be gathered. They are part of PyMOLs GUI. They are themselves also _Displayables_ and therefore a _name_ and a _write_ function. Any _Displayable_ that is part of a _Group_ will also be loaded into PyMOL itself. We made use of the _Group_ class when implementing the coordinate axes."
   ]
  },
  {
   "cell_type": "code",
   "execution_count": 6,
   "metadata": {},
   "outputs": [
    {
     "name": "stdout",
     "output_type": "stream",
     "text": [
      "(3, 3) (3, 3) (3, 3)\n"
     ]
    }
   ],
   "source": [
    "start = np.zeros((3,3))\n",
    "end = np.eye(3) * 5\n",
    "a3 = pmv.Arrows(np.hstack([start, end]), name = \"coordinate_axes_arrows\", color = end / 5, linewidth=.1, head_length=.1)\n",
    "labels = pmv.Labels(end * 1.1, name = \"coordinate_axes_labels\", labels = [\"x\", \"y\", \"z\"])\n",
    "g = pmv.Group([a3, labels], \"coordinate_axes\")\n",
    "g.write(\"out/coordinate_axes.py\")"
   ]
  },
  {
   "cell_type": "markdown",
   "metadata": {},
   "source": [
    "### Scripts\n",
    "_Scripts_ lie at the root of the implementation of PyMOLViz as any _Displayable_ is converted to a _Script_ when its _write_ function is called. The _Script_ class is used to actually convert its _Displayables_ into runnable python scripts. It can be used to gather different _Displayables_ which should be loaded with a single script. **_Scripts_ themselves are not _Displayables_ but rather represent a collection of _Displayables_ that should be converted into a single python script.**\n",
    "\n",
    "We could use the _Script_ class to write the coordinate axes and the bunny to a single script:"
   ]
  },
  {
   "cell_type": "code",
   "execution_count": null,
   "metadata": {},
   "outputs": [
    {
     "name": "stdout",
     "output_type": "stream",
     "text": [
      "(3, 3) (3, 3) (3, 3)\n"
     ]
    }
   ],
   "source": [
    "bunny_points = np.load('../data/Bunny.npy')\n",
    "m2 = pmv.Mesh(bunny_points * 0.01, color = \"beige\", name = \"bunny\")\n",
    "s = pmv.Script([g, m2])\n",
    "s.write(\"out/bunny_with_coordinates.py\")"
   ]
  }
 ],
 "metadata": {
  "kernelspec": {
   "display_name": "DD_py38",
   "language": "python",
   "name": "python3"
  },
  "language_info": {
   "codemirror_mode": {
    "name": "ipython",
    "version": 3
   },
   "file_extension": ".py",
   "mimetype": "text/x-python",
   "name": "python",
   "nbconvert_exporter": "python",
   "pygments_lexer": "ipython3",
   "version": "3.8.12"
  },
  "orig_nbformat": 4
 },
 "nbformat": 4,
 "nbformat_minor": 2
}
