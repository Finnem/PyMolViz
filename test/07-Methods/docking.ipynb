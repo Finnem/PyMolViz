{
 "cells": [
  {
   "cell_type": "code",
   "execution_count": 1,
   "metadata": {},
   "outputs": [],
   "source": [
    "from xbpy import rdutil\n",
    "import pymolviz as pmv"
   ]
  },
  {
   "cell_type": "code",
   "execution_count": 2,
   "metadata": {},
   "outputs": [],
   "source": [
    "mol_paths = \"../../../../Side_Projects/Uridylpeptides/2 Docking/0 BS SP Docking/bs/5ckr_a_homology_p_no_ligand_prepped_0/5ckr_a_homology_p_no_ligand_prepped_0_dock_pv.maegz\"\n",
    "target_name=\"_5ckr_implicit_homology\""
   ]
  },
  {
   "cell_type": "code",
   "execution_count": 3,
   "metadata": {},
   "outputs": [],
   "source": [
    "mols = rdutil.read_molecules(mol_paths)"
   ]
  },
  {
   "cell_type": "code",
   "execution_count": 4,
   "metadata": {},
   "outputs": [],
   "source": [
    "visualized_mols_by_source = {}\n",
    "scores_by_source = {}\n",
    "for i, mol in enumerate(mols):\n",
    "    if i == 0:\n",
    "        continue\n",
    "    source = mol.GetProp('s_m_Source_File') + target_name\n",
    "    vis_list = visualized_mols_by_source.get(source, [])\n",
    "    vis_list.append(mol)\n",
    "    visualized_mols_by_source[source] = vis_list\n",
    "    scores = scores_by_source.get(source, [])\n",
    "    scores.append(mol.GetDoubleProp('r_i_docking_score'))\n",
    "    scores_by_source[source] = scores"
   ]
  },
  {
   "cell_type": "code",
   "execution_count": 5,
   "metadata": {},
   "outputs": [
    {
     "name": "stdout",
     "output_type": "stream",
     "text": [
      "color=(0.9677975592919913, 0.44127456009157356, 0.5358103155058701)\n",
      "color=(0.8616090647292522, 0.536495730113334, 0.19548899031476086)\n",
      "color=(0.46810256823426105, 0.6699492535792404, 0.1928958739904499)\n",
      "color=(0.21044753832183283, 0.6773105080456748, 0.6433941168468681)\n",
      "color=(0.2197995660828324, 0.6625157876850336, 0.7732093159317209)\n",
      "color=(0.8004936186423958, 0.47703363533737203, 0.9579547196007522)\n",
      "color=(0.8616090647292522, 0.536495730113334, 0.19548899031476086)\n",
      "color=(0.6804189127793346, 0.6151497514677574, 0.19405452111445337)\n",
      "color=(0.20125317221201128, 0.6907920815379025, 0.47966761189275336)\n",
      "color=(0.2197995660828324, 0.6625157876850336, 0.7732093159317209)\n"
     ]
    }
   ],
   "source": [
    "colors = pmv.get_distinct_colors(len(visualized_mols_by_source))\n",
    "for (source, visualized_mols), color in zip(visualized_mols_by_source.items(), colors):\n",
    "    print(f\"{color=}\")\n",
    "    #source = \"Tunicamycin PDB_kekulized.pdb\"\n",
    "    visualized_mols = visualized_mols_by_source[source]\n",
    "    scores = scores_by_source[source]\n",
    "    visualizations = pmv.ranked_highlighting(visualized_mols, scores, name = f\"{source}\", element_colors = {\"C\": color}, as_molecules=True)\n",
    "    visualizations.write(f\"visualizations_{source}.py\")\n",
    "    #pmv.Group(visualizations, name=f\"{source}_Group\").write(f\"visualizations_{source}.py\")\n",
    "    #break"
   ]
  },
  {
   "cell_type": "code",
   "execution_count": 6,
   "metadata": {},
   "outputs": [
    {
     "ename": "TypeError",
     "evalue": "'Expressions' object is not subscriptable",
     "output_type": "error",
     "traceback": [
      "\u001b[0;31m---------------------------------------------------------------------------\u001b[0m",
      "\u001b[0;31mTypeError\u001b[0m                                 Traceback (most recent call last)",
      "\u001b[0;32m/tmp/ipykernel_8871/2235262436.py\u001b[0m in \u001b[0;36m<module>\u001b[0;34m\u001b[0m\n\u001b[0;32m----> 1\u001b[0;31m \u001b[0mvisualizations\u001b[0m\u001b[0;34m[\u001b[0m\u001b[0;36m0\u001b[0m\u001b[0;34m]\u001b[0m\u001b[0;34m.\u001b[0m\u001b[0mcolormap\u001b[0m\u001b[0;34m.\u001b[0m\u001b[0mget_color\u001b[0m\u001b[0;34m(\u001b[0m\u001b[0;36m3\u001b[0m\u001b[0;34m)\u001b[0m\u001b[0;34m\u001b[0m\u001b[0;34m\u001b[0m\u001b[0m\n\u001b[0m",
      "\u001b[0;31mTypeError\u001b[0m: 'Expressions' object is not subscriptable"
     ]
    }
   ],
   "source": [
    "visualizations[0].colormap.get_color(3)"
   ]
  },
  {
   "cell_type": "code",
   "execution_count": null,
   "metadata": {},
   "outputs": [
    {
     "data": {
      "text/plain": [
       "1"
      ]
     },
     "execution_count": 16,
     "metadata": {},
     "output_type": "execute_result"
    }
   ],
   "source": [
    "visualizations[0].color[1]"
   ]
  },
  {
   "cell_type": "code",
   "execution_count": null,
   "metadata": {},
   "outputs": [],
   "source": []
  }
 ],
 "metadata": {
  "kernelspec": {
   "display_name": "DD_py38",
   "language": "python",
   "name": "python3"
  },
  "language_info": {
   "codemirror_mode": {
    "name": "ipython",
    "version": 3
   },
   "file_extension": ".py",
   "mimetype": "text/x-python",
   "name": "python",
   "nbconvert_exporter": "python",
   "pygments_lexer": "ipython3",
   "version": "3.8.12"
  }
 },
 "nbformat": 4,
 "nbformat_minor": 2
}
