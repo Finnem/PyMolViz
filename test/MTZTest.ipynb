{
 "cells": [
  {
   "cell_type": "code",
   "execution_count": 1,
   "metadata": {},
   "outputs": [],
   "source": [
    "import gemmi\n",
    "import pymolviz as pmv"
   ]
  },
  {
   "cell_type": "code",
   "execution_count": 2,
   "metadata": {},
   "outputs": [],
   "source": [
    "import numpy as np\n",
    "from xbpy import rdutil"
   ]
  },
  {
   "cell_type": "code",
   "execution_count": 3,
   "metadata": {},
   "outputs": [],
   "source": [
    "prot = rdutil.read_molecules(\"4de3.pdb\")[0]"
   ]
  },
  {
   "cell_type": "code",
   "execution_count": 4,
   "metadata": {},
   "outputs": [],
   "source": [
    "positions = []\n",
    "for atom in prot.GetAtoms():\n",
    "    positions.append(rdutil.position(atom))\n",
    "positions = np.array(positions)\n",
    "min_pos = np.min(positions, axis=0)\n",
    "max_pos = np.max(positions, axis=0)"
   ]
  },
  {
   "cell_type": "code",
   "execution_count": 5,
   "metadata": {},
   "outputs": [],
   "source": [
    "buffer = 5\n",
    "min_pos -= buffer\n",
    "max_pos += buffer"
   ]
  },
  {
   "cell_type": "code",
   "execution_count": 6,
   "metadata": {},
   "outputs": [],
   "source": [
    "mtz = gemmi.read_mtz_file(\"4de3_phases.mtz\")\n",
    "#mtz.switch_to_original_hkl()"
   ]
  },
  {
   "cell_type": "code",
   "execution_count": 7,
   "metadata": {},
   "outputs": [
    {
     "data": {
      "text/plain": [
       "['H',\n",
       " 'K',\n",
       " 'L',\n",
       " 'FREE',\n",
       " 'FP',\n",
       " 'SIGFP',\n",
       " 'FC',\n",
       " 'PHIC',\n",
       " 'FC_ALL',\n",
       " 'PHIC_ALL',\n",
       " 'FWT',\n",
       " 'PHWT',\n",
       " 'DELFWT',\n",
       " 'PHDELWT',\n",
       " 'FOM',\n",
       " 'FC_ALL_LS',\n",
       " 'PHIC_ALL_LS']"
      ]
     },
     "execution_count": 7,
     "metadata": {},
     "output_type": "execute_result"
    }
   ],
   "source": [
    "mtz.column_labels()"
   ]
  },
  {
   "cell_type": "code",
   "execution_count": 8,
   "metadata": {},
   "outputs": [],
   "source": [
    "map = mtz.transform_f_phi_to_map(\"FP\", \"PHIC\", sample_rate = 2.6)"
   ]
  },
  {
   "cell_type": "code",
   "execution_count": 9,
   "metadata": {},
   "outputs": [],
   "source": [
    "total_std = np.std(map.array, axis=None)"
   ]
  },
  {
   "cell_type": "code",
   "execution_count": 10,
   "metadata": {},
   "outputs": [],
   "source": [
    "counts = 1/np.array(map.array.shape,dtype=float)\n",
    "m = gemmi.Mat33()\n",
    "m.fromlist([[float(counts[0]),0.,0.],[0.,float(counts[1]),0.],[0.,0.,float(counts[2])]])\n",
    "m = map.unit_cell.fractionalization_matrix.inverse().multiply(m)"
   ]
  },
  {
   "cell_type": "code",
   "execution_count": 11,
   "metadata": {},
   "outputs": [
    {
     "data": {
      "text/plain": [
       "<gemmi.Mat33 [0.501933, 0, -0.0950668]\n",
       "             [0, 0.53594, 0]\n",
       "             [0, 0, 0.518998]>"
      ]
     },
     "execution_count": 11,
     "metadata": {},
     "output_type": "execute_result"
    }
   ],
   "source": [
    "m"
   ]
  },
  {
   "cell_type": "code",
   "execution_count": 12,
   "metadata": {},
   "outputs": [],
   "source": [
    "transform = gemmi.Transform(m, gemmi.Vec3(0,0,0))\n",
    "values = np.zeros((30,30,30), dtype = np.float32)\n",
    "map.interpolate_values(values, transform)"
   ]
  },
  {
   "cell_type": "code",
   "execution_count": 13,
   "metadata": {},
   "outputs": [],
   "source": [
    "indices = np.indices(values.shape).reshape(3,-1).T"
   ]
  },
  {
   "cell_type": "code",
   "execution_count": 14,
   "metadata": {},
   "outputs": [],
   "source": [
    "for index in indices:\n",
    "    if not np.allclose(values[tuple(index)], map.get_value(*index)):\n",
    "        print(index, values[tuple(index)], map.get_value(*index))"
   ]
  },
  {
   "cell_type": "code",
   "execution_count": 15,
   "metadata": {},
   "outputs": [],
   "source": [
    "positions = (np.array(m.tolist()).reshape(3,3) @ np.indices(values.shape).reshape(3,-1)).T"
   ]
  },
  {
   "cell_type": "code",
   "execution_count": 16,
   "metadata": {},
   "outputs": [
    {
     "data": {
      "text/plain": [
       "array([-0.09506676,  0.        ,  0.51899831])"
      ]
     },
     "execution_count": 16,
     "metadata": {},
     "output_type": "execute_result"
    }
   ],
   "source": [
    "positions[1]"
   ]
  },
  {
   "cell_type": "code",
   "execution_count": 17,
   "metadata": {},
   "outputs": [],
   "source": [
    "for index in np.indices(values.shape).reshape(3,-1).T[10:]:\n",
    "    position = np.array(m.tolist()).reshape(3,3) @ index\n",
    "    target_position = np.array(map.get_position(*index).tolist())\n",
    "    if not np.allclose(target_position, position):\n",
    "        print(index, position, target_position)\n",
    "        break"
   ]
  },
  {
   "cell_type": "code",
   "execution_count": 18,
   "metadata": {},
   "outputs": [],
   "source": [
    "pmv.Points(positions[values.flatten() > total_std], color = values.flatten()[values.flatten() > total_std]).to_script(name = \"reduced_points\").write(\"mtz_test3_points.py\")"
   ]
  },
  {
   "cell_type": "code",
   "execution_count": 19,
   "metadata": {},
   "outputs": [],
   "source": [
    "regular_data = pmv.RegularData(positions, values.flatten(), step_count= np.array(values.shape))"
   ]
  },
  {
   "cell_type": "code",
   "execution_count": 20,
   "metadata": {},
   "outputs": [],
   "source": [
    "\n",
    "std = regular_data.values.std()\n",
    "mean = regular_data.values.mean()\n",
    "v1 = pmv.Volume(regular_data, \"test1\", clims = np.array([0, total_std, 2 * total_std]))"
   ]
  },
  {
   "cell_type": "code",
   "execution_count": 21,
   "metadata": {},
   "outputs": [],
   "source": [
    "s = pmv.Script([v1])\n",
    "s.write(\"mtz_test2.py\")"
   ]
  },
  {
   "cell_type": "code",
   "execution_count": 22,
   "metadata": {},
   "outputs": [],
   "source": [
    "step_size = np.array([0.5,0.5,0.5])\n",
    "m = gemmi.Mat33()\n",
    "m.fromlist([[step_size[0],0.,0.],[0.,step_size[1],0.],[0.,0.,step_size[2]]])\n",
    "transform = gemmi.Transform(m, gemmi.Vec3(*min_pos))\n",
    "values = np.zeros(np.ceil((max_pos - min_pos) / step_size).astype(int), dtype = np.float32)\n",
    "map.interpolate_values(values, transform)"
   ]
  },
  {
   "cell_type": "code",
   "execution_count": 23,
   "metadata": {},
   "outputs": [],
   "source": [
    "positions = (np.array(m.tolist()).reshape(3,3) @ np.indices(values.shape).reshape(3,-1)).T + np.array(min_pos)"
   ]
  },
  {
   "cell_type": "code",
   "execution_count": 24,
   "metadata": {},
   "outputs": [],
   "source": [
    "sorted_indices = np.lexsort((positions[:, 2], positions[:, 1], positions[:, 0]))"
   ]
  },
  {
   "cell_type": "code",
   "execution_count": 25,
   "metadata": {},
   "outputs": [
    {
     "data": {
      "text/plain": [
       "True"
      ]
     },
     "execution_count": 25,
     "metadata": {},
     "output_type": "execute_result"
    }
   ],
   "source": [
    "np.all(sorted_indices == np.arange(len(positions)))"
   ]
  },
  {
   "cell_type": "code",
   "execution_count": 26,
   "metadata": {},
   "outputs": [],
   "source": [
    "regular_data = pmv.RegularData(positions, values.flatten(), step_count= np.array(values.shape))"
   ]
  },
  {
   "cell_type": "code",
   "execution_count": 27,
   "metadata": {},
   "outputs": [
    {
     "data": {
      "text/plain": [
       "array([193, 148, 186])"
      ]
     },
     "execution_count": 27,
     "metadata": {},
     "output_type": "execute_result"
    }
   ],
   "source": [
    "np.array(values.shape)"
   ]
  },
  {
   "cell_type": "code",
   "execution_count": 28,
   "metadata": {},
   "outputs": [],
   "source": [
    "std = regular_data.values.std()\n",
    "mean = regular_data.values.mean()"
   ]
  },
  {
   "cell_type": "code",
   "execution_count": 29,
   "metadata": {},
   "outputs": [],
   "source": [
    "v1 = pmv.Volume(regular_data, \"test1\", clims = [mean, mean + 1 * std, mean + 2 * std])\n",
    "v3 = pmv.IsoVolume(regular_data, \"testr3\",  clims = [mean + 0.5 * std, mean + 1 * std ,mean + 2 * std], alphas=[1, 1, 1], selection=\"sele\", carve = 3, margin = 0.5)"
   ]
  },
  {
   "cell_type": "code",
   "execution_count": 30,
   "metadata": {},
   "outputs": [],
   "source": [
    "s = pmv.Script([v1, v3])\n",
    "s.write(\"mtz_test.py\")"
   ]
  },
  {
   "cell_type": "code",
   "execution_count": 31,
   "metadata": {},
   "outputs": [
    {
     "name": "stderr",
     "output_type": "stream",
     "text": [
      "WARNING:root:No name provided for Collection. Using default name: Collection_0. It is highly recommended to provide meaningful names.\n",
      "WARNING:root:No name provided for mesh when creating script. Try passing a name(s) to the add function or a dictionary mapping names to the objects.\n"
     ]
    }
   ],
   "source": [
    "p1 = pmv.Points(positions[values.flatten() > total_std])\n",
    "p1.to_script().write(\"mtz_points.py\")"
   ]
  },
  {
   "cell_type": "code",
   "execution_count": null,
   "metadata": {},
   "outputs": [],
   "source": []
  }
 ],
 "metadata": {
  "kernelspec": {
   "display_name": "DD_py38",
   "language": "python",
   "name": "python3"
  },
  "language_info": {
   "codemirror_mode": {
    "name": "ipython",
    "version": 3
   },
   "file_extension": ".py",
   "mimetype": "text/x-python",
   "name": "python",
   "nbconvert_exporter": "python",
   "pygments_lexer": "ipython3",
   "version": "3.8.12"
  },
  "orig_nbformat": 4
 },
 "nbformat": 4,
 "nbformat_minor": 2
}
