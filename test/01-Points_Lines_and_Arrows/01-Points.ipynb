{
 "cells": [
  {
   "cell_type": "markdown",
   "metadata": {},
   "source": [
    "# Points\n",
    "One of the most common use-cases for fast visualization is to quickly show multiple points in PyMol. While this can also be done using pseudo-atoms, a CGO representation is more performant.\n",
    "\n",
    "PyMolViz additionally allows to quickly color any points by given values, automatically normalizing and assigning colors from a given colormap."
   ]
  },
  {
   "cell_type": "markdown",
   "metadata": {},
   "source": [
    "## Imports and Setup"
   ]
  },
  {
   "cell_type": "code",
   "execution_count": 1,
   "metadata": {},
   "outputs": [],
   "source": [
    "import numpy as np\n",
    "import pandas as pd\n",
    "import pymolviz as pmv"
   ]
  },
  {
   "cell_type": "markdown",
   "metadata": {},
   "source": [
    "## Basic points"
   ]
  },
  {
   "cell_type": "code",
   "execution_count": 2,
   "metadata": {},
   "outputs": [],
   "source": [
    "vertices = np.random.rand(10,3) * 10\n",
    "p = pmv.Points(vertices)"
   ]
  },
  {
   "cell_type": "code",
   "execution_count": 4,
   "metadata": {},
   "outputs": [
    {
     "name": "stderr",
     "output_type": "stream",
     "text": [
      "WARNING:root:No name provided for Points. Using default name: Points_0. It is highly recommended to provide meaningful names.\n"
     ]
    },
    {
     "name": "stdout",
     "output_type": "stream",
     "text": [
      "\n",
      "Points_0 = [\n",
      "        \n",
      "COLOR,1.0,0.0,0.0,1.0,SPHERE,4.965339376844304,2.756870426460817,9.4507031748626,0.3,COLOR,1.0,0.0,0.0,1.0,SPHERE,1.7408082281453063,1.3545847514603282,4.414392438416101,0.3,COLOR,1.0,0.0,0.0,1.0,SPHERE,1.0460064868269825,3.142922979920253,6.322657743000134,0.3,COLOR,1.0,0.0,0.0,1.0,SPHERE,9.078676661201378,7.390462980723724,3.26272040652979,0.3,COLOR,1.0,0.0,0.0,1.0,SPHERE,2.410422635339453,9.984325800970197,7.640425383213221,0.3,COLOR,1.0,0.0,0.0,1.0,SPHERE,8.504502090205454,5.412938663280766,7.952826173041753,0.3,COLOR,1.0,0.0,0.0,1.0,SPHERE,1.9656195351608485,6.981180593446837,4.457728353664979,0.3,COLOR,1.0,0.0,0.0,1.0,SPHERE,3.1238511289923077,9.636611675917706,3.9587002565201668,0.3,COLOR,1.0,0.0,0.0,1.0,SPHERE,8.861842355001082,8.844030670846287,3.8295880986114783,0.3,COLOR,1.0,0.0,0.0,1.0,SPHERE,4.517567122121559,2.3394000425501913,4.215061167676836,0.3\n",
      "\n",
      "            ]\n",
      "cmd.load_cgo(Points_0, \"Points_0\", state=1)\n",
      "cmd.set(\"cgo_transparency\", 0, \"Points_0\")\n",
      "        \n"
     ]
    }
   ],
   "source": [
    "print(p._script_string())"
   ]
  },
  {
   "cell_type": "code",
   "execution_count": 5,
   "metadata": {},
   "outputs": [],
   "source": [
    "p.write(\"basic_points.py\")"
   ]
  },
  {
   "cell_type": "code",
   "execution_count": null,
   "metadata": {},
   "outputs": [],
   "source": []
  }
 ],
 "metadata": {
  "kernelspec": {
   "display_name": "DD_py38",
   "language": "python",
   "name": "python3"
  },
  "language_info": {
   "codemirror_mode": {
    "name": "ipython",
    "version": 3
   },
   "file_extension": ".py",
   "mimetype": "text/x-python",
   "name": "python",
   "nbconvert_exporter": "python",
   "pygments_lexer": "ipython3",
   "version": "3.8.12"
  },
  "orig_nbformat": 4
 },
 "nbformat": 4,
 "nbformat_minor": 2
}
