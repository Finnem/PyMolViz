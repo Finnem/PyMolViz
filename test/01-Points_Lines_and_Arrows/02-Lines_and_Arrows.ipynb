{
 "cells": [
  {
   "cell_type": "markdown",
   "metadata": {},
   "source": [
    "# Lines\n",
    "Lines can be useful to relationships between points or indicate directions or distances. Once again as CGOs lines from PyMOLViz are significantly more performant than loading simplified molecules into PyMOL.\n",
    "\n",
    "Lines inherit from Points, thus the coloring follows a similar scheme. However instead of coloring each point, it is also possible to pass a color for each line."
   ]
  },
  {
   "cell_type": "markdown",
   "metadata": {},
   "source": [
    "## Imports and Setup"
   ]
  },
  {
   "cell_type": "code",
   "execution_count": 1,
   "metadata": {},
   "outputs": [],
   "source": [
    "import numpy as np\n",
    "import pymolviz as pmv"
   ]
  },
  {
   "cell_type": "markdown",
   "metadata": {},
   "source": [
    "## Basic Lines\n",
    "Instead of points lines can also be generated. For this the _Lines_ constructor can be used. Lines inherits from Points and also accepts a set of vertices as its first argument. Lines are then drawn between each 2 consecutive points. If the color argument is an array-like, it can either specify a color for each single line or each point."
   ]
  },
  {
   "cell_type": "code",
   "execution_count": 2,
   "metadata": {},
   "outputs": [],
   "source": [
    "starts = np.random.rand(10,3) * 1\n",
    "ends = np.random.rand(10,3) * 10\n",
    "values = np.linalg.norm(ends, axis = 1)\n",
    "\n",
    "l = pmv.Lines(np.hstack([starts, ends]), name = \"basic_lines\", color = values)"
   ]
  },
  {
   "cell_type": "code",
   "execution_count": 3,
   "metadata": {},
   "outputs": [],
   "source": [
    "l.write(\"out/basic_lines.py\")"
   ]
  },
  {
   "cell_type": "markdown",
   "metadata": {},
   "source": [
    "## Different colored ends"
   ]
  },
  {
   "cell_type": "code",
   "execution_count": 4,
   "metadata": {},
   "outputs": [],
   "source": [
    "values = np.full((5,4), [\"yellow\",\"red\", \"green\", \"blue\"]).flatten()\n",
    "l2 = pmv.Lines(np.hstack([starts, ends]), name = \"different_lines\", color = values)\n",
    "l2.write(\"out/different_lines.py\")"
   ]
  },
  {
   "cell_type": "markdown",
   "metadata": {},
   "source": [
    "## Arrows\n",
    "Instead of just creating lines, the direction can be indicated via Arrows. Arrows inherit from lines.\n",
    "Arrows get 2 additional keywords, indicating how their head should be shaped:\n",
    "*head_length* and *head_width* both are relative values w.r.t. their length and default to .2.\n",
    "\n",
    "If color is an array, it can either be passed as with lines, i.e. each line, or each end, or for each point of the arrow."
   ]
  },
  {
   "cell_type": "code",
   "execution_count": 5,
   "metadata": {},
   "outputs": [],
   "source": [
    "a1 = pmv.Arrows(np.hstack([starts, ends]), name = \"basic_arrows\", color = values)\n",
    "a1.write(\"out/basic_arrows.py\")"
   ]
  },
  {
   "cell_type": "code",
   "execution_count": 7,
   "metadata": {},
   "outputs": [],
   "source": [
    "values = np.random.rand(10,10, 3).reshape(-1, 3)\n",
    "a2 = pmv.Arrows(np.hstack([starts, ends]), name = \"random_arrows\", color = values)\n",
    "a2.write(\"out/random_arrows.py\")"
   ]
  },
  {
   "cell_type": "markdown",
   "metadata": {},
   "source": [
    "## Coordinate Axes\n",
    "Using the _Arrows_ and the _Labels_ classes we can create coordinate axes:"
   ]
  },
  {
   "cell_type": "code",
   "execution_count": 12,
   "metadata": {},
   "outputs": [],
   "source": [
    "start = np.zeros((3,3))\n",
    "end = np.eye(3)\n",
    "a3 = pmv.Arrows(np.hstack([start, end]), name = \"coordinate_axes_arrows\", color = end)\n",
    "labels = pmv.Labels(end * 1.1, name = \"coordinate_axes_labels\", labels = [\"x\", \"y\", \"z\"])\n",
    "pmv.Group([a3, labels], \"coordinate_axes\").write(\"out/coordinate_axes.py\")"
   ]
  }
 ],
 "metadata": {
  "kernelspec": {
   "display_name": "DD_py38",
   "language": "python",
   "name": "python3"
  },
  "language_info": {
   "codemirror_mode": {
    "name": "ipython",
    "version": 3
   },
   "file_extension": ".py",
   "mimetype": "text/x-python",
   "name": "python",
   "nbconvert_exporter": "python",
   "pygments_lexer": "ipython3",
   "version": "3.8.12"
  },
  "orig_nbformat": 4
 },
 "nbformat": 4,
 "nbformat_minor": 2
}
