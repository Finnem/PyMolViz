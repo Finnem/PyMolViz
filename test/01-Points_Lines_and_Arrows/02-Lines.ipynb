{
 "cells": [
  {
   "cell_type": "markdown",
   "metadata": {},
   "source": [
    "# Lines\n",
    "Lines can be useful to relationships between points or indicate directions or distances. Once again as CGOs lines from PyMOLViz are significantly more performant than loading simplified molecules into PyMOL.\n",
    "\n",
    "Lines inherit from Points, thus the coloring follows a similar scheme. However instead of coloring each point, it is also possible to pass a color for each line."
   ]
  },
  {
   "cell_type": "markdown",
   "metadata": {},
   "source": [
    "## Imports and Setup"
   ]
  },
  {
   "cell_type": "code",
   "execution_count": 1,
   "metadata": {},
   "outputs": [],
   "source": [
    "import numpy as np\n",
    "import pymolviz as pmv"
   ]
  },
  {
   "cell_type": "markdown",
   "metadata": {},
   "source": [
    "## Basic points"
   ]
  },
  {
   "cell_type": "code",
   "execution_count": 2,
   "metadata": {},
   "outputs": [],
   "source": [
    "vertices = np.random.rand(20,3) * 10\n",
    "l = pmv.Lines(vertices, color = np.random.rand(10,1).flatten())"
   ]
  },
  {
   "cell_type": "code",
   "execution_count": 3,
   "metadata": {},
   "outputs": [
    {
     "name": "stderr",
     "output_type": "stream",
     "text": [
      "WARNING:root:No name provided for Lines. Using default name: Lines_0. It is highly recommended to provide meaningful names.\n"
     ]
    },
    {
     "name": "stdout",
     "output_type": "stream",
     "text": [
      "\n",
      "Lines_0 = [\n",
      "        \n",
      "LINEWIDTH,1,BEGIN,LINES,COLOR,0.8132256824298348,0.9209534794309882,0.9540945790080738,1.0,VERTEX,2.6416450397911415,3.067014002789439,6.058416844869685,COLOR,0.8132256824298348,0.9209534794309882,0.9540945790080738,1.0,VERTEX,0.7144685126923223,1.9665807706426564,0.19365768370380398,COLOR,0.26289888504421377,0.4346020761245675,0.6939638600538255,1.0,VERTEX,7.595279583348008,0.8562558280013155,8.066108139738146,COLOR,0.26289888504421377,0.4346020761245675,0.6939638600538255,1.0,VERTEX,2.10925452554381,6.408165228582842,7.852495716294664,COLOR,0.19215686274509805,0.21176470588235294,0.5843137254901961,1.0,VERTEX,4.434117331200741,7.513193375029469,2.189292521274462,COLOR,0.19215686274509805,0.21176470588235294,0.5843137254901961,1.0,VERTEX,3.9563146049660505,7.9931458808728415,5.626859571045101,COLOR,0.9934640522875817,0.7477124183006536,0.4418300653594771,1.0,VERTEX,0.6860956184304556,2.260728116647104,4.4164120676615255,COLOR,0.9934640522875817,0.7477124183006536,0.4418300653594771,1.0,VERTEX,4.513257817756898,6.846848434273429,0.13255127142556167,COLOR,0.7969242599000386,0.9129565551710881,0.9494809688581315,1.0,VERTEX,9.241681436238409,1.3283864383081656,5.0018783477795035,COLOR,0.7969242599000386,0.9129565551710881,0.9494809688581315,1.0,VERTEX,5.91315944395753,9.314164416468898,4.588458571139874,COLOR,0.8676662821991542,0.2398308342945021,0.1766243752402922,1.0,VERTEX,5.734036922890972,9.978213133672515,9.628049942556263,COLOR,0.8676662821991542,0.2398308342945021,0.1766243752402922,1.0,VERTEX,2.1197296249269995,2.683863745056887,1.4172118250719468,COLOR,0.8239138792772011,0.16978085351787775,0.15255670895809306,1.0,VERTEX,2.5470231416854796,1.4083349888608332,8.90247864758419,COLOR,0.8239138792772011,0.16978085351787775,0.15255670895809306,1.0,VERTEX,5.916264397390161,9.890915140298421,1.1591037383417513,COLOR,0.29588619761630147,0.488965782391388,0.7214917339484814,1.0,VERTEX,3.853680392345656,2.9609890270776518,7.905544721062795,COLOR,0.29588619761630147,0.488965782391388,0.7214917339484814,1.0,VERTEX,2.0595233266367075,2.5946228698315474,6.763526804431561,COLOR,0.6470588235294118,0.0,0.14901960784313725,1.0,VERTEX,6.652440254036876,3.8849443381055258,8.790152545539954,COLOR,0.6470588235294118,0.0,0.14901960784313725,1.0,VERTEX,2.2899061354351637,5.514293049593572,7.333456064557311,COLOR,0.9951557093425606,0.8322952710495963,0.5213379469434832,1.0,VERTEX,7.44886625659814,9.480928769353337,1.8354097410928982,COLOR,0.9951557093425606,0.8322952710495963,0.5213379469434832,1.0,VERTEX,4.259100031054144,7.253114625490694,2.6130267398191043,END\n",
      "\n",
      "            ]\n",
      "cmd.load_cgo(Lines_0, \"Lines_0\", state=1)\n",
      "cmd.set(\"cgo_transparency\", 0, \"Lines_0\")\n",
      "        \n"
     ]
    }
   ],
   "source": [
    "print(l._script_string())"
   ]
  },
  {
   "cell_type": "code",
   "execution_count": 4,
   "metadata": {},
   "outputs": [],
   "source": [
    "l.write(\"basic_lines.py\")"
   ]
  },
  {
   "cell_type": "code",
   "execution_count": 5,
   "metadata": {},
   "outputs": [],
   "source": [
    "\n",
    "l = pmv.Arrows(vertices, color = np.random.rand(10,1).flatten())"
   ]
  },
  {
   "cell_type": "code",
   "execution_count": 6,
   "metadata": {},
   "outputs": [
    {
     "name": "stderr",
     "output_type": "stream",
     "text": [
      "WARNING:root:No name provided for Arrows. Using default name: Arrows_0. It is highly recommended to provide meaningful names.\n"
     ]
    }
   ],
   "source": [
    "\n",
    "l.write(\"basic_arrows.py\")"
   ]
  }
 ],
 "metadata": {
  "kernelspec": {
   "display_name": "DD_py38",
   "language": "python",
   "name": "python3"
  },
  "language_info": {
   "codemirror_mode": {
    "name": "ipython",
    "version": 3
   },
   "file_extension": ".py",
   "mimetype": "text/x-python",
   "name": "python",
   "nbconvert_exporter": "python",
   "pygments_lexer": "ipython3",
   "version": "3.8.12"
  },
  "orig_nbformat": 4
 },
 "nbformat": 4,
 "nbformat_minor": 2
}
