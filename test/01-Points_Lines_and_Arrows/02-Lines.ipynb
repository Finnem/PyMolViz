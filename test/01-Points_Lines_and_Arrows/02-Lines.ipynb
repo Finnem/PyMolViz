{
 "cells": [
  {
   "cell_type": "markdown",
   "metadata": {},
   "source": [
    "# Lines\n",
    "Lines can be useful to relationships between points or indicate directions or distances. Once again as CGOs lines from PyMOLViz are significantly more performant than loading simplified molecules into PyMOL.\n",
    "\n",
    "Lines inherit from Points, thus the coloring follows a similar scheme. However instead of coloring each point, it is also possible to pass a color for each line."
   ]
  },
  {
   "cell_type": "markdown",
   "metadata": {},
   "source": [
    "## Imports and Setup"
   ]
  },
  {
   "cell_type": "code",
   "execution_count": 1,
   "metadata": {},
   "outputs": [],
   "source": [
    "import numpy as np\n",
    "import pandas as pd\n",
    "import pymolviz as pmv"
   ]
  },
  {
   "cell_type": "markdown",
   "metadata": {},
   "source": [
    "## Basic points"
   ]
  },
  {
   "cell_type": "code",
   "execution_count": 2,
   "metadata": {},
   "outputs": [
    {
     "name": "stdout",
     "output_type": "stream",
     "text": [
      "10\n"
     ]
    }
   ],
   "source": [
    "vertices = np.random.rand(20,3) * 10\n",
    "l = pmv.Lines(vertices, color = np.random.rand(10,1).flatten())"
   ]
  },
  {
   "cell_type": "code",
   "execution_count": 3,
   "metadata": {},
   "outputs": [
    {
     "name": "stderr",
     "output_type": "stream",
     "text": [
      "WARNING:root:No name provided for Lines. Using default name: Lines_0. It is highly recommended to provide meaningful names.\n"
     ]
    },
    {
     "name": "stdout",
     "output_type": "stream",
     "text": [
      "\n",
      "Lines_0 = [\n",
      "        \n",
      "LINEWIDTH,1,BEGIN,LINES,COLOR,0.6325259515570935,0.8205305651672434,0.8971164936562861,1.0,VERTEX,6.208236551747314,1.9064837922642786,0.8603733563523397,COLOR,0.6325259515570935,0.8205305651672434,0.8971164936562861,1.0,VERTEX,6.375398275366168,1.0641064721792126,4.4599514461168575,COLOR,0.7393310265282584,0.08858131487889273,0.1508650519031142,1.0,VERTEX,7.391589480963417,5.980246261777763,5.311473878549274,COLOR,0.7393310265282584,0.08858131487889273,0.1508650519031142,1.0,VERTEX,9.078225612974682,5.1587864931619105,9.603002782274785,COLOR,0.6470588235294118,0.0,0.14901960784313725,1.0,VERTEX,2.5091139703414314,2.5704825276537346,4.501367548530778,COLOR,0.6470588235294118,0.0,0.14901960784313725,1.0,VERTEX,7.567133234423426,3.346238851091373,4.28605578857746,COLOR,0.29588619761630147,0.488965782391388,0.7214917339484814,1.0,VERTEX,5.878140468375719,4.352925644397727,6.522359921500436,COLOR,0.29588619761630147,0.488965782391388,0.7214917339484814,1.0,VERTEX,6.632116441908371,3.219379688048778,3.1850715965762175,COLOR,0.9651672433679355,0.48742791234140714,0.29042675893886966,1.0,VERTEX,2.1973048682313845,6.534500409422982,6.3377885854310945,COLOR,0.9651672433679355,0.48742791234140714,0.29042675893886966,1.0,VERTEX,7.089625547707925,1.2143978666450517,9.135211093214352,COLOR,0.9345636293733179,0.38054594386774315,0.24121491733948483,1.0,VERTEX,3.1625113071886632,9.544671152160609,4.372710616706921,COLOR,0.9345636293733179,0.38054594386774315,0.24121491733948483,1.0,VERTEX,2.765413100445848,7.095968203732372,1.2302294865771923,COLOR,0.41153402537485584,0.6267589388696656,0.7928489042675894,1.0,VERTEX,4.870902135700108,6.24050911433605,1.1819028122911968,COLOR,0.41153402537485584,0.6267589388696656,0.7928489042675894,1.0,VERTEX,9.525392701978564,2.644443590337909,7.182793590120628,COLOR,0.19215686274509805,0.21176470588235294,0.5843137254901961,1.0,VERTEX,9.210027752675549,5.148454490561681,7.402130330535504,COLOR,0.19215686274509805,0.21176470588235294,0.5843137254901961,1.0,VERTEX,4.628901256545561,7.117940910651303,9.759069323784596,COLOR,0.9690119184928874,0.9880046136101499,0.805997693194925,1.0,VERTEX,1.7871027369925374,2.435239832600934,0.7272602977388443,COLOR,0.9690119184928874,0.9880046136101499,0.805997693194925,1.0,VERTEX,4.7299559522975425,6.690580664498388,5.052509816083541,COLOR,0.32479815455594,0.5234140715109573,0.7393310265282584,1.0,VERTEX,8.4275730893373,9.135879686393912,8.298558815932472,COLOR,0.32479815455594,0.5234140715109573,0.7393310265282584,1.0,VERTEX,3.6581191151600976,8.986429545772111,2.2985312583972384,END\n",
      "\n",
      "            ]\n",
      "cmd.load_cgo(Lines_0, \"Lines_0\", state=1)\n",
      "cmd.set(\"cgo_transparency\", 0, \"Lines_0\")\n",
      "        \n"
     ]
    }
   ],
   "source": [
    "print(l._script_string())"
   ]
  },
  {
   "cell_type": "code",
   "execution_count": 4,
   "metadata": {},
   "outputs": [],
   "source": [
    "l.write(\"basic_lines.py\")"
   ]
  },
  {
   "cell_type": "code",
   "execution_count": null,
   "metadata": {},
   "outputs": [],
   "source": []
  }
 ],
 "metadata": {
  "kernelspec": {
   "display_name": "DD_py38",
   "language": "python",
   "name": "python3"
  },
  "language_info": {
   "codemirror_mode": {
    "name": "ipython",
    "version": 3
   },
   "file_extension": ".py",
   "mimetype": "text/x-python",
   "name": "python",
   "nbconvert_exporter": "python",
   "pygments_lexer": "ipython3",
   "version": "3.8.12"
  },
  "orig_nbformat": 4
 },
 "nbformat": 4,
 "nbformat_minor": 2
}
