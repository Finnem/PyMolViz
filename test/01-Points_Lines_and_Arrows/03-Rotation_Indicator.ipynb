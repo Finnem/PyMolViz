{
 "cells": [
  {
   "cell_type": "markdown",
   "metadata": {},
   "source": [
    "# Rotation Indicators\n",
    "A more complex mesh that can be used to show rotations around an axis.\n",
    "\n",
    "The rotation indicator takes a position, an axis of rotation and a vector to start the indicator at."
   ]
  },
  {
   "cell_type": "code",
   "execution_count": 1,
   "metadata": {},
   "outputs": [],
   "source": [
    "import numpy as np\n",
    "import pymolviz as pmv\n",
    "\n",
    "center_position = np.array([1,1,1])\n",
    "start_position = np.array([1, 1, 2])\n",
    "angle = np.deg2rad(90)\n",
    "axis = np.array([0, 1, 0])\n",
    "\n",
    "rotation_indicator = pmv.Rotation_Indicator(center_position, start_position, axis, angle, name = \"Test Rotation Indicator\")\n",
    "start_point = pmv.Points(start_position, color='red', name = \"Start Point\")\n",
    "center_point = pmv.Points(center_position, color='blue', name = \"Center Point\")\n",
    "axis_arrow = pmv.Arrows.from_start_end(center_position, center_position + axis, color='green', name = \"Axis Arrow\")\n",
    "pmv.Group([rotation_indicator, start_point, center_point, axis_arrow], name = \"Rotation Indicator Test Group\").write(\"out/rotation_indicator_test.py\")"
   ]
  },
  {
   "cell_type": "code",
   "execution_count": null,
   "metadata": {},
   "outputs": [],
   "source": []
  }
 ],
 "metadata": {
  "kernelspec": {
   "display_name": "DD_py38",
   "language": "python",
   "name": "python3"
  },
  "language_info": {
   "codemirror_mode": {
    "name": "ipython",
    "version": 3
   },
   "file_extension": ".py",
   "mimetype": "text/x-python",
   "name": "python",
   "nbconvert_exporter": "python",
   "pygments_lexer": "ipython3",
   "version": "3.8.12"
  }
 },
 "nbformat": 4,
 "nbformat_minor": 2
}
