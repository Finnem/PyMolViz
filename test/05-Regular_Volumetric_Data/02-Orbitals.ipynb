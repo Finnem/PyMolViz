{
 "cells": [
  {
   "cell_type": "code",
   "execution_count": 1,
   "metadata": {},
   "outputs": [],
   "source": [
    "import numpy as np\n",
    "import scipy as sp"
   ]
  },
  {
   "cell_type": "code",
   "execution_count": 2,
   "metadata": {},
   "outputs": [],
   "source": [
    "import pymolviz as pmv"
   ]
  },
  {
   "cell_type": "code",
   "execution_count": 3,
   "metadata": {},
   "outputs": [],
   "source": [
    "origin = np.array([-20.0, -20.0, -20.0])\n",
    "step_sizes = np.array([1, 1, 1])\n",
    "step_counts = np.array([40, 40, 40])\n",
    "\n",
    "x  = np.linspace(origin[0], origin[0] + step_sizes[0] * step_counts[0], step_counts[0])\n",
    "y  = np.linspace(origin[1], origin[1] + step_sizes[1] * step_counts[1], step_counts[1])\n",
    "z  = np.linspace(origin[2], origin[2] + step_sizes[2] * step_counts[2], step_counts[2])\n",
    "xx, yy, zz = np.meshgrid(x, y, z)\n",
    "positions = np.array([xx.flatten(), yy.flatten(), zz.flatten()]).T"
   ]
  },
  {
   "cell_type": "code",
   "execution_count": 4,
   "metadata": {},
   "outputs": [],
   "source": [
    "def to_spherical(positions):\n",
    "    r = np.sqrt(np.sum(positions**2, axis=1))\n",
    "    theta = np.arccos(positions[:, 2] / r)\n",
    "    phi = np.arctan2(positions[:, 1], positions[:, 0])\n",
    "    return np.array([r, theta, phi]).T"
   ]
  },
  {
   "cell_type": "code",
   "execution_count": 5,
   "metadata": {},
   "outputs": [],
   "source": [
    "spherical = to_spherical(positions)"
   ]
  },
  {
   "cell_type": "code",
   "execution_count": 6,
   "metadata": {},
   "outputs": [
    {
     "data": {
      "text/plain": [
       "array([[34.64101615,  2.18627604, -2.35619449],\n",
       "       [34.0591588 ,  2.16168597, -2.35619449],\n",
       "       [33.49860409,  2.13625713, -2.35619449],\n",
       "       ...,\n",
       "       [33.49860409,  1.00533552,  0.78539816],\n",
       "       [34.0591588 ,  0.97990668,  0.78539816],\n",
       "       [34.64101615,  0.95531662,  0.78539816]])"
      ]
     },
     "execution_count": 6,
     "metadata": {},
     "output_type": "execute_result"
    }
   ],
   "source": [
    "spherical"
   ]
  },
  {
   "cell_type": "code",
   "execution_count": 7,
   "metadata": {},
   "outputs": [],
   "source": [
    "def N(m, l):\n",
    "    m = np.abs(m)\n",
    "    return np.sqrt(2 * l + 1) * np.sqrt(np.math.factorial(l - m) / np.math.factorial(l + m))\n",
    "\n"
   ]
  },
  {
   "cell_type": "code",
   "execution_count": 8,
   "metadata": {},
   "outputs": [],
   "source": [
    "l = 2"
   ]
  },
  {
   "cell_type": "code",
   "execution_count": 9,
   "metadata": {},
   "outputs": [],
   "source": [
    "legendre_results = np.array([sp.special.lpmn(l, l, np.cos(theta))[0] for theta in spherical[:, 1]])"
   ]
  },
  {
   "cell_type": "code",
   "execution_count": 10,
   "metadata": {},
   "outputs": [],
   "source": [
    "legendre_results\n",
    "def Y(m, l, theta, phi):\n",
    "    return N(m, l) * legendre_results[:, m, l] * np.exp(1j * m * phi)\n",
    "values = {}\n",
    "\n",
    "for m in range(-l, l + 1):\n",
    "    values[(m, l)] = Y(np.abs(m), l, spherical[:, 1], spherical[:, 2])"
   ]
  },
  {
   "cell_type": "code",
   "execution_count": 11,
   "metadata": {},
   "outputs": [],
   "source": [
    "reg_datas = {key : pmv.RegularData(np.abs(val)**2, origin=origin, step_sizes=step_sizes, step_counts=step_counts) for key, val in values.items()}"
   ]
  },
  {
   "cell_type": "code",
   "execution_count": 12,
   "metadata": {},
   "outputs": [
    {
     "data": {
      "text/plain": [
       "{(-2, 2): <pymolviz.volumetric.RegularData.RegularData at 0x7f561050a940>,\n",
       " (-1, 2): <pymolviz.volumetric.RegularData.RegularData at 0x7f55a99b98b0>,\n",
       " (0, 2): <pymolviz.volumetric.RegularData.RegularData at 0x7f55a99b9bb0>,\n",
       " (1, 2): <pymolviz.volumetric.RegularData.RegularData at 0x7f55a99b99d0>,\n",
       " (2, 2): <pymolviz.volumetric.RegularData.RegularData at 0x7f55a99b9e50>}"
      ]
     },
     "execution_count": 12,
     "metadata": {},
     "output_type": "execute_result"
    }
   ],
   "source": [
    "reg_datas"
   ]
  },
  {
   "cell_type": "code",
   "execution_count": 13,
   "metadata": {},
   "outputs": [],
   "source": [
    "iso_vols = {key : pmv.IsoVolume(reg_data, f\"{key[0]}_{key[1]}\", clims = np.linspace(0,3 ,100)) for key, reg_data in reg_datas.items()}"
   ]
  },
  {
   "cell_type": "code",
   "execution_count": 14,
   "metadata": {},
   "outputs": [
    {
     "name": "stderr",
     "output_type": "stream",
     "text": [
      "WARNING:root:No name provided for RegularData. Using default name: RegularData_0. It is highly recommended to provide meaningful names.\n",
      "WARNING:root:No name provided for RegularData. Using default name: RegularData_1. It is highly recommended to provide meaningful names.\n",
      "WARNING:root:No name provided for RegularData. Using default name: RegularData_2. It is highly recommended to provide meaningful names.\n",
      "WARNING:root:No name provided for RegularData. Using default name: RegularData_3. It is highly recommended to provide meaningful names.\n",
      "WARNING:root:No name provided for RegularData. Using default name: RegularData_4. It is highly recommended to provide meaningful names.\n"
     ]
    }
   ],
   "source": [
    "pmv.Script(iso_vols.values()).write(\"orbitals.py\")"
   ]
  },
  {
   "cell_type": "code",
   "execution_count": 15,
   "metadata": {},
   "outputs": [],
   "source": [
    "distance_values = np.linalg.norm(positions, axis=1)"
   ]
  },
  {
   "cell_type": "code",
   "execution_count": 16,
   "metadata": {},
   "outputs": [],
   "source": [
    "reg2_data = pmv.RegularData(distance_values, origin=origin, step_sizes=step_sizes, step_counts=step_counts)"
   ]
  },
  {
   "cell_type": "code",
   "execution_count": 17,
   "metadata": {},
   "outputs": [
    {
     "ename": "TypeError",
     "evalue": "'module' object is not callable",
     "output_type": "error",
     "traceback": [
      "\u001b[0;31m---------------------------------------------------------------------------\u001b[0m",
      "\u001b[0;31mTypeError\u001b[0m                                 Traceback (most recent call last)",
      "\u001b[0;32m/tmp/ipykernel_11051/4047525838.py\u001b[0m in \u001b[0;36m<module>\u001b[0;34m\u001b[0m\n\u001b[0;32m----> 1\u001b[0;31m \u001b[0miso_surfs\u001b[0m \u001b[0;34m=\u001b[0m \u001b[0;34m{\u001b[0m\u001b[0mkey\u001b[0m \u001b[0;34m:\u001b[0m \u001b[0mpmv\u001b[0m\u001b[0;34m.\u001b[0m\u001b[0mIsoSurface\u001b[0m\u001b[0;34m(\u001b[0m\u001b[0mreg2_data\u001b[0m\u001b[0;34m,\u001b[0m \u001b[0;36m5\u001b[0m\u001b[0;34m,\u001b[0m \u001b[0;34mf\"{key[0]}_{key[1]}_surface\"\u001b[0m\u001b[0;34m,\u001b[0m \u001b[0mcolor\u001b[0m \u001b[0;34m=\u001b[0m \u001b[0mpmv\u001b[0m\u001b[0;34m.\u001b[0m\u001b[0mColorRamp\u001b[0m\u001b[0;34m(\u001b[0m\u001b[0mreg_data\u001b[0m\u001b[0;34m)\u001b[0m\u001b[0;34m)\u001b[0m \u001b[0;32mfor\u001b[0m \u001b[0mkey\u001b[0m\u001b[0;34m,\u001b[0m \u001b[0mreg_data\u001b[0m \u001b[0;32min\u001b[0m \u001b[0mreg_datas\u001b[0m\u001b[0;34m.\u001b[0m\u001b[0mitems\u001b[0m\u001b[0;34m(\u001b[0m\u001b[0;34m)\u001b[0m\u001b[0;34m}\u001b[0m\u001b[0;34m\u001b[0m\u001b[0;34m\u001b[0m\u001b[0m\n\u001b[0m",
      "\u001b[0;32m/tmp/ipykernel_11051/4047525838.py\u001b[0m in \u001b[0;36m<dictcomp>\u001b[0;34m(.0)\u001b[0m\n\u001b[0;32m----> 1\u001b[0;31m \u001b[0miso_surfs\u001b[0m \u001b[0;34m=\u001b[0m \u001b[0;34m{\u001b[0m\u001b[0mkey\u001b[0m \u001b[0;34m:\u001b[0m \u001b[0mpmv\u001b[0m\u001b[0;34m.\u001b[0m\u001b[0mIsoSurface\u001b[0m\u001b[0;34m(\u001b[0m\u001b[0mreg2_data\u001b[0m\u001b[0;34m,\u001b[0m \u001b[0;36m5\u001b[0m\u001b[0;34m,\u001b[0m \u001b[0;34mf\"{key[0]}_{key[1]}_surface\"\u001b[0m\u001b[0;34m,\u001b[0m \u001b[0mcolor\u001b[0m \u001b[0;34m=\u001b[0m \u001b[0mpmv\u001b[0m\u001b[0;34m.\u001b[0m\u001b[0mColorRamp\u001b[0m\u001b[0;34m(\u001b[0m\u001b[0mreg_data\u001b[0m\u001b[0;34m)\u001b[0m\u001b[0;34m)\u001b[0m \u001b[0;32mfor\u001b[0m \u001b[0mkey\u001b[0m\u001b[0;34m,\u001b[0m \u001b[0mreg_data\u001b[0m \u001b[0;32min\u001b[0m \u001b[0mreg_datas\u001b[0m\u001b[0;34m.\u001b[0m\u001b[0mitems\u001b[0m\u001b[0;34m(\u001b[0m\u001b[0;34m)\u001b[0m\u001b[0;34m}\u001b[0m\u001b[0;34m\u001b[0m\u001b[0;34m\u001b[0m\u001b[0m\n\u001b[0m",
      "\u001b[0;31mTypeError\u001b[0m: 'module' object is not callable"
     ]
    }
   ],
   "source": [
    "\n",
    "iso_surfs = {key : pmv.IsoSurface(reg2_data, 5, f\"{key[0]}_{key[1]}_surface\", color = pmv.ColorRamp(reg_data)) for key, reg_data in reg_datas.items()}"
   ]
  },
  {
   "cell_type": "code",
   "execution_count": null,
   "metadata": {},
   "outputs": [
    {
     "name": "stderr",
     "output_type": "stream",
     "text": [
      "WARNING:root:No name provided for RegularData. Using default name: RegularData_5. It is highly recommended to provide meaningful names.\n"
     ]
    },
    {
     "name": "stderr",
     "output_type": "stream",
     "text": [
      "WARNING:root:No name provided for ColorRamp. Using default name: ColorRamp_0. It is highly recommended to provide meaningful names.\n",
      "WARNING:root:No name provided for ColorRamp. Using default name: ColorRamp_1. It is highly recommended to provide meaningful names.\n",
      "WARNING:root:No name provided for ColorRamp. Using default name: ColorRamp_2. It is highly recommended to provide meaningful names.\n",
      "WARNING:root:No name provided for ColorRamp. Using default name: ColorRamp_3. It is highly recommended to provide meaningful names.\n",
      "WARNING:root:No name provided for ColorRamp. Using default name: ColorRamp_4. It is highly recommended to provide meaningful names.\n"
     ]
    }
   ],
   "source": [
    "g = pmv.Group(iso_surfs.values(), \"orbitals\")\n",
    "g.write(\"orbital_surfs.py\")"
   ]
  },
  {
   "cell_type": "code",
   "execution_count": null,
   "metadata": {},
   "outputs": [],
   "source": []
  }
 ],
 "metadata": {
  "kernelspec": {
   "display_name": "tf_Finn",
   "language": "python",
   "name": "python3"
  },
  "language_info": {
   "codemirror_mode": {
    "name": "ipython",
    "version": 3
   },
   "file_extension": ".py",
   "mimetype": "text/x-python",
   "name": "python",
   "nbconvert_exporter": "python",
   "pygments_lexer": "ipython3",
   "version": "3.8.12"
  },
  "orig_nbformat": 4
 },
 "nbformat": 4,
 "nbformat_minor": 2
}
