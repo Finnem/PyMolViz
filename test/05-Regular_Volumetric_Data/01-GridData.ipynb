{
 "cells": [
  {
   "cell_type": "code",
   "execution_count": 1,
   "metadata": {},
   "outputs": [],
   "source": [
    "import pymolviz as pmv\n",
    "import numpy as np"
   ]
  },
  {
   "cell_type": "markdown",
   "metadata": {},
   "source": []
  },
  {
   "cell_type": "markdown",
   "metadata": {},
   "source": [
    "## GridData\n",
    "Volumetric Displays are all based on the _GridData_ class. As the name implies it stores data on a grid. The grid can either be specified by its _positions_ or by an _origin_, _step_sizes_ and _step_counts_, each being a 3-dimensional vector. At least currently non-orthogonal Grids are not supported. _GridData_ is a _Displayable_, and thus can be loaded into PyMOL on its own.\n",
    "\n",
    "As a simple example we create a 1 by 1 cube at \\[0, 0, 0\\] and assign values as the  hamming distance from origin."
   ]
  },
  {
   "cell_type": "code",
   "execution_count": 2,
   "metadata": {},
   "outputs": [],
   "source": [
    "grid = np.array([[0, 0, 0],\n",
    "        [0, 0, 1],\n",
    "        [0, 1, 0],\n",
    "        [0, 1, 1],\n",
    "        [1, 0, 0],\n",
    "        [1, 0, 1],\n",
    "        [1, 1, 0],\n",
    "        [1, 1, 1]])\n",
    "\n",
    "values = np.sum(grid, axis=1)\n",
    "grid_data = pmv.GridData(values, grid, name = \"grid_data\")\n",
    "grid_data.write(\"out/basic_grid_data.py\")"
   ]
  },
  {
   "cell_type": "code",
   "execution_count": 3,
   "metadata": {},
   "outputs": [],
   "source": [
    "points = grid_data.to_points(name = \"grid_data_points\", radius = 0.1)\n",
    "points.write(\"out/basic_grid_data_points.py\")"
   ]
  },
  {
   "cell_type": "markdown",
   "metadata": {},
   "source": [
    "## Reading external volumetric data\n",
    "PyMOLViz currently supports reading xyz files containing volumetric data created by turbomole, as well as mtz files using [_gemmi_](https://gemmi.readthedocs.io/en/latest/).\n",
    "\n",
    "### Reading xyz files\n",
    "One example was already in the _Points_ chapter.\n",
    "\n",
    "The _from_xyz_ function has the argument _in_bohr_ which defaults to True. This signifies that the data from the xyz file is in Bohr (as is the default for turbomole outputs), but we want to see it in Angström. If you want to leave the data in its original form you need to pass `in_bohr = False`. "
   ]
  },
  {
   "cell_type": "code",
   "execution_count": 4,
   "metadata": {},
   "outputs": [],
   "source": [
    "data = pmv.GridData.from_xyz(\"../data/td.xyz\", name = \"td\")\n",
    "cmap = pmv.ColorMap([0, 0.5])\n",
    "points = data.to_points(name = \"td_points\", radius = 0.1, render_as=\"Dots\", colormap = cmap)\n",
    "pmv.Script([data, points]).write(\"out/td_points.py\")"
   ]
  },
  {
   "cell_type": "markdown",
   "metadata": {},
   "source": [
    "### Reading mtz files\n",
    "Reading mtz files is more complicated, since they usually hold a lot of information and you need to pick what information you would like to display. If you want more than a quick way to display the information you need to take a deeper look into the documentation, e.g. for the [MTZ Format](https://www.ccp4.ac.uk/html/mtzformat.html) or how to handle them with [gemmi](https://gemmi.readthedocs.io/en/latest/hkl.html).\n",
    "\n",
    "PyMOLViz allows to specify the structure factor column and the phase column from the mtz file to compute the grid data. additionally you can specify the sample rate and the area in which to display the data via the _min_pos_ and _max_pos_ keywords.\n",
    "\n",
    "For standard files you want the following structure factors and phases (see https://www.globalphasing.com/buster/wiki/index.cgi?MTZcolumns, https://www.ccp4.ac.uk/html/refmac5/keywords/xray-general.html):\n",
    "* 2mFo-dFc: Factor: \"FWT\", Phase: \"PHWT\"\n",
    "* mFo-dFc: Factor: \"DELFWT\", Phase: \"PHDELWT\"\n",
    "* Fc: Factor: \"FC\", Phase: \"PHIC\"\n",
    "* Fo: Factor: \"FP\", Phase: usually N/A"
   ]
  },
  {
   "cell_type": "code",
   "execution_count": 5,
   "metadata": {},
   "outputs": [],
   "source": [
    "from rdkit import Chem\n",
    "prot = Chem.MolFromPDBFile('../data/4de3.pdb')\n",
    "positions = prot.GetConformer().GetPositions()\n",
    "buffer = 5\n",
    "min_pos = np.min(positions, axis = 0) - buffer\n",
    "max_pos = np.max(positions, axis = 0) + buffer\n",
    "data = pmv.GridData.from_mtz('../data/4de3_phases.mtz', min_pos = min_pos, max_pos = max_pos, step_sizes = [1, 1, 1], name = 'mtz_4de3')\n",
    "data.write(\"out/mtz_4de3.py\")"
   ]
  },
  {
   "cell_type": "code",
   "execution_count": null,
   "metadata": {},
   "outputs": [],
   "source": []
  }
 ],
 "metadata": {
  "kernelspec": {
   "display_name": "DD_py38",
   "language": "python",
   "name": "python3"
  },
  "language_info": {
   "codemirror_mode": {
    "name": "ipython",
    "version": 3
   },
   "file_extension": ".py",
   "mimetype": "text/x-python",
   "name": "python",
   "nbconvert_exporter": "python",
   "pygments_lexer": "ipython3",
   "version": "3.8.12"
  },
  "orig_nbformat": 4
 },
 "nbformat": 4,
 "nbformat_minor": 2
}
