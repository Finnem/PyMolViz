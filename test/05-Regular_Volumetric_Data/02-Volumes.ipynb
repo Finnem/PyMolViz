{
 "cells": [
  {
   "cell_type": "code",
   "execution_count": 1,
   "metadata": {},
   "outputs": [],
   "source": [
    "import pymolviz as pmv\n",
    "import numpy as np"
   ]
  },
  {
   "cell_type": "markdown",
   "metadata": {},
   "source": [
    "## Volumes\n",
    "Once the data is available there are two major types of displaying them. Via transparent volumes or via isosurfaces. First we will show how to use volumes.\n"
   ]
  },
  {
   "cell_type": "code",
   "execution_count": 2,
   "metadata": {},
   "outputs": [],
   "source": [
    "grid = np.array([[0, 0, 0],\n",
    "        [0, 0, 1],\n",
    "        [0, 1, 0],\n",
    "        [0, 1, 1],\n",
    "        [1, 0, 0],\n",
    "        [1, 0, 1],\n",
    "        [1, 1, 0],\n",
    "        [1, 1, 1]])\n",
    "\n",
    "values = np.sum(grid, axis=1)\n",
    "grid_data = pmv.GridData(values, grid, name = \"grid_data\")"
   ]
  },
  {
   "cell_type": "code",
   "execution_count": 3,
   "metadata": {},
   "outputs": [],
   "source": [
    "v1 = pmv.Volume(grid_data, name = \"grid_data_volume\")\n",
    "v1.write(\"out/basic_volume.py\")"
   ]
  },
  {
   "cell_type": "markdown",
   "metadata": {},
   "source": [
    "A _Volume_ is defined by values which are mapped to (color, alpha) value pairs, with the color for every point inbetween being interpolated. In PyMOLViz, this is done by specifying the _alphas_ and _clims_ keywords for the _Volume_. The _clims_ define the values at which a new color is used by passing the clim to the _Volume's_ _ColorMap_, which can be specified using the _colormap_ keyword in a similar fashion to the _Points_ class."
   ]
  },
  {
   "cell_type": "markdown",
   "metadata": {},
   "source": [
    "As an example we will try to show a clearer distinction between points below 1.5 and above 1.5 by adjusting our colormap:"
   ]
  },
  {
   "cell_type": "code",
   "execution_count": 4,
   "metadata": {},
   "outputs": [],
   "source": [
    "values = [np.min(grid_data.values), 1.5, 1.5, np.max(grid_data.values)]\n",
    "color_values = [0, 0.35, 0.65, 1]\n",
    "cmap = pmv.ColorMap(list(zip(values, color_values)), name=\"distinct_colormap\")\n",
    "v2 = pmv.Volume(grid_data, name = \"distinct_volume\", colormap = cmap)\n",
    "pmv.Script([v2, cmap]).write(\"out/distinct_volume.py\")"
   ]
  },
  {
   "cell_type": "markdown",
   "metadata": {},
   "source": [
    "If we dont want to distinguish so many colors, we can pass different _clims_ to the _Volume_ constructor:\n"
   ]
  },
  {
   "cell_type": "code",
   "execution_count": 5,
   "metadata": {},
   "outputs": [],
   "source": [
    "clims = [\n",
    "    np.min(grid_data.values),\n",
    "    np.mean(grid_data.values),\n",
    "    np.max(grid_data.values)\n",
    "]\n",
    "v3 = pmv.Volume(grid_data, name = \"less_colors_volume\", clims = clims)\n",
    "v3.write(\"out/less_colors_volume.py\")"
   ]
  },
  {
   "cell_type": "code",
   "execution_count": 6,
   "metadata": {},
   "outputs": [],
   "source": [
    "clims = [\n",
    "    np.min(grid_data.values),\n",
    "    np.mean(grid_data.values),\n",
    "    np.mean(grid_data.values),\n",
    "    np.max(grid_data.values),\n",
    "    np.max(grid_data.values)\n",
    "]\n",
    "v4 = pmv.Volume(grid_data, name = \"less_colors_volume2\", clims = clims)\n",
    "v4.write(\"out/less_colors_volume2.py\")"
   ]
  },
  {
   "cell_type": "code",
   "execution_count": 7,
   "metadata": {},
   "outputs": [],
   "source": [
    "clims = [\n",
    "    np.min(grid_data.values),\n",
    "    np.mean(grid_data.values),\n",
    "    np.max(grid_data.values)\n",
    "]\n",
    "v3 = pmv.Volume(grid_data, name = \"less_colors_volume3\", clims = clims, alphas = [0.03, 0.005, 0.03])\n",
    "v3.write(\"out/less_colors_volume3.py\")"
   ]
  },
  {
   "cell_type": "markdown",
   "metadata": {},
   "source": [
    "By default the clims are chosen as 33 even spaced values between mean plus/minus 5 standard deviations. The alpha values are chosen based on the point densities between the points in that region.\n",
    "\n",
    "As a more practical example we will show the density around the N-methyl acetamide:\n"
   ]
  },
  {
   "cell_type": "code",
   "execution_count": 8,
   "metadata": {},
   "outputs": [],
   "source": [
    "data = pmv.GridData.from_xyz(\"../data/td.xyz\", name = \"td\")\n",
    "cmap = pmv.ColorMap([0, 0.5])\n",
    "v4 = pmv.Volume(data, name = \"td_volume\", colormap = cmap)\n",
    "v4.write(\"out/td_volume.py\")"
   ]
  },
  {
   "cell_type": "markdown",
   "metadata": {},
   "source": [
    "### IsoVolumes\n",
    "Sometimes it is hard to see what is going on using Volumes (at least in their default setting). In order to simplify generating Volumes showing iso-surfaces PyMOLViz has the class _IsoVolume_. It still makes use of the PyMOLs volume functionality but creates \"coloring peaks\" at the given values."
   ]
  },
  {
   "cell_type": "code",
   "execution_count": 9,
   "metadata": {},
   "outputs": [],
   "source": [
    "cmap = pmv.ColorMap([0, 0.5], colormap = \"viridis\")\n",
    "v5 = pmv.IsoVolume(data, name = \"td_isovolume\", colormap = cmap)\n",
    "v5.write(\"out/td_isovolume.py\")"
   ]
  },
  {
   "cell_type": "code",
   "execution_count": 10,
   "metadata": {},
   "outputs": [],
   "source": [
    "from rdkit import Chem\n",
    "prot = Chem.MolFromPDBFile('../data/4de3.pdb')\n",
    "positions = prot.GetConformer().GetPositions()\n",
    "buffer = 5\n",
    "min_pos = np.min(positions, axis = 0) - buffer\n",
    "max_pos = np.max(positions, axis = 0) + buffer\n",
    "data = pmv.GridData.from_mtz('../data/4de3_phases.mtz', min_pos = min_pos, max_pos = max_pos, step_sizes = [1, 1, 1], name = 'mtz_4de3')\n",
    "cmap = pmv.ColorMap([-1, 1])\n",
    "v6 = pmv.IsoVolume(data, name = \"mtz_4de3_volume\", colormap = cmap)\n",
    "v6.alphas[v6.alphas > 0] = 1\n",
    "v6.write(\"out/mtz_4de3_isovolume.py\")"
   ]
  },
  {
   "cell_type": "code",
   "execution_count": 11,
   "metadata": {},
   "outputs": [],
   "source": [
    "v7 = pmv.IsoVolume(data, name = \"mtz_4de3_volume\", colormap = cmap, carve = 2, selection = \"4de3\")\n",
    "v7.alphas[v7.alphas > 0] = 1\n",
    "v7.write(\"out/mtz_4de3_isovolume_carved.py\")"
   ]
  },
  {
   "cell_type": "code",
   "execution_count": 12,
   "metadata": {},
   "outputs": [],
   "source": [
    "cmap = pmv.ColorMap([0, .7])\n",
    "v8 = pmv.IsoVolume(data, clims = np.linspace(0, 1, 32), name = \"mtz_4de3_volume\", colormap = cmap, carve = 2, selection = \"sele\")\n",
    "v8.alphas[v8.alphas > 0] = 1\n",
    "v8.alphas[v8.alphas == 0] = 0.05\n",
    "v8.write(\"out/mtz_4de3_isovolume_carved_sele.py\")"
   ]
  },
  {
   "cell_type": "code",
   "execution_count": 13,
   "metadata": {},
   "outputs": [
    {
     "data": {
      "image/png": "[encoded data removed]",
      "text/plain": [
       "<Figure size 864x72 with 1 Axes>"
      ]
     },
     "metadata": {
      "needs_background": "light"
     },
     "output_type": "display_data"
    }
   ],
   "source": [
    "cmap.get_figure(orientation = \"horizontal\", figsize = (12, 1))"
   ]
  },
  {
   "cell_type": "markdown",
   "metadata": {},
   "source": [
    "Here we had selected the entire region of the protein when reading in the mtz file and then carved down the display to the selection. A better way to do it would be to restrict the selection of the read in of the mtz file to the region you are interested in."
   ]
  },
  {
   "cell_type": "code",
   "execution_count": 14,
   "metadata": {},
   "outputs": [],
   "source": [
    "# bfs from a bromine\n",
    "bromine = [a for a in prot.GetAtoms() if a.GetAtomicNum() == 35][0]\n",
    "cur_indices = [bromine.GetIdx()]; found_indices = [bromine.GetIdx()]\n",
    "while(len(cur_indices) > 0):\n",
    "    next_indices = [a.GetIdx() for a in prot.GetAtomWithIdx(cur_indices[0]).GetNeighbors() if a.GetIdx() not in found_indices]\n",
    "    found_indices.extend(next_indices)\n",
    "    cur_indices.extend(next_indices)\n",
    "    cur_indices = cur_indices[1:]\n",
    "# determine box\n",
    "used_positions = np.array([positions[i] for i in found_indices])\n",
    "min_pos = np.min(used_positions, axis = 0) - buffer\n",
    "max_pos = np.max(used_positions, axis = 0) + buffer\n",
    "data = pmv.GridData.from_mtz('../data/4de3_phases.mtz', min_pos = min_pos, max_pos = max_pos, step_sizes = [1, 1, 1], name = 'mtz_4de3')\n",
    "cmap = pmv.ColorMap([0, 1])\n",
    "clims = np.linspace(0, 2, 32)\n",
    "v9 = pmv.IsoVolume(data, name = \"mtz_4de3_volume\", colormap = cmap, selection = \"sele\", carve = 2, clims = clims)\n",
    "v9.alphas[v9.alphas > 0] = 1\n",
    "v9.write(\"out/mtz_4de3_isovolume_small.py\")"
   ]
  },
  {
   "cell_type": "code",
   "execution_count": 15,
   "metadata": {},
   "outputs": [
    {
     "data": {
      "image/png": "[encoded data removed]",
      "text/plain": [
       "<Figure size 864x72 with 1 Axes>"
      ]
     },
     "metadata": {
      "needs_background": "light"
     },
     "output_type": "display_data"
    }
   ],
   "source": [
    "cmap.get_figure(orientation = \"horizontal\", figsize = (12, 1))"
   ]
  },
  {
   "cell_type": "markdown",
   "metadata": {},
   "source": []
  }
 ],
 "metadata": {
  "kernelspec": {
   "display_name": "DD_py38",
   "language": "python",
   "name": "python3"
  },
  "language_info": {
   "codemirror_mode": {
    "name": "ipython",
    "version": 3
   },
   "file_extension": ".py",
   "mimetype": "text/x-python",
   "name": "python",
   "nbconvert_exporter": "python",
   "pygments_lexer": "ipython3",
   "version": "3.8.12"
  },
  "orig_nbformat": 4
 },
 "nbformat": 4,
 "nbformat_minor": 2
}
