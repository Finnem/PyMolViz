{
 "cells": [
  {
   "cell_type": "code",
   "execution_count": 1,
   "metadata": {},
   "outputs": [],
   "source": [
    "import pymolviz as pmv\n",
    "import numpy as np"
   ]
  },
  {
   "cell_type": "markdown",
   "metadata": {},
   "source": [
    "## IsoSurfaces\n",
    "While transparent volumes are a good tool to show volumetric data, we are sometimes not interested in all of the volumetric data or we want to combine two different volumetric information. For this we can use _IsoSurfaces_. They are defined by _GridData_ and a _level_. The surface that is drawn is then determined by the points where the values of the GridData correspond to the _level_. As those points generally do not fall onto the grid points themselves, [PyMOL uses a form of marching cubes to determine the surface](https://pymolwiki.org/index.php/Isosurface).\n",
    "\n",
    "We'll start with our simple cube example to get a feeling for the IsoSurfaces:"
   ]
  },
  {
   "cell_type": "code",
   "execution_count": 2,
   "metadata": {},
   "outputs": [],
   "source": [
    "grid = np.array([[0, 0, 0],\n",
    "        [0, 0, 1],\n",
    "        [0, 1, 0],\n",
    "        [0, 1, 1],\n",
    "        [1, 0, 0],\n",
    "        [1, 0, 1],\n",
    "        [1, 1, 0],\n",
    "        [1, 1, 1]])\n",
    "\n",
    "values = np.sum(grid, axis=1)\n",
    "grid_data = pmv.GridData(values, grid, name = \"grid_data\")"
   ]
  },
  {
   "cell_type": "code",
   "execution_count": 3,
   "metadata": {},
   "outputs": [],
   "source": [
    "s1 = pmv.IsoSurface(grid_data, 1.5, name = \"basic_surface\")\n",
    "labels1 = pmv.Labels(grid, values, name = \"basic_labels\")\n",
    "pmv.Script([s1, labels1]).write(\"out/basic_surface.py\")"
   ]
  },
  {
   "cell_type": "markdown",
   "metadata": {},
   "source": [
    "One important use-case of _IsoSurfaces_ is to map data from different GridData onto it. For now we will create another mock-data giving the distance to \\[0, 0, 1\\]."
   ]
  },
  {
   "cell_type": "code",
   "execution_count": 4,
   "metadata": {},
   "outputs": [],
   "source": [
    "values2 = np.linalg.norm(grid - np.array([0,0,1]), axis=1)\n",
    "grid_data2 = pmv.GridData(values2, grid, name = \"grid_data2\")\n",
    "labels2 = pmv.Labels(grid, [f\"{v:.3f}\" for v in values2], name = \"basic_labels2\")\n",
    "pmv.Script([grid_data2, labels2]).write(\"out/grid_data2.py\")"
   ]
  },
  {
   "cell_type": "markdown",
   "metadata": {},
   "source": [
    "In order to color an _IsoSurface_ from another _GridData_, we now need to create a _ColorRamp_ object. _ColorRamps_ assign a color from a _ColorMap_ to every point of a _GridData_ based on its value on that point (similar to what is done with _Points_).\n",
    "Thus a _ColorRamp_ takes in a _GridData_ object under the keyword _data_, detailing the grid points and their values as well as a _colormap_ (which again can be a string mapping onto matplotlib colormaps, a matplotlib colormap itself or a PyMOLViz _ColorMap_).\n",
    "\n",
    "_ColorRamps_ are _Displayables_ and therefore have a _name_ and can be written directly as a script via the _write_ method.\n",
    "\n",
    "As an example, we will create a _ColorRamp_ from the euclidean distance data and map it onto the IsoSurface for the manhatten distance."
   ]
  },
  {
   "cell_type": "code",
   "execution_count": 5,
   "metadata": {},
   "outputs": [],
   "source": [
    "c_ramp = pmv.ColorRamp(grid_data2, name = \"color_ramp\")\n",
    "s2 = pmv.IsoSurface(grid_data, 1.5, name = \"colored_surface\", color = c_ramp)\n",
    "pmv.Script([s2, labels1]).write(\"out/colored_surface.py\")"
   ]
  },
  {
   "cell_type": "markdown",
   "metadata": {},
   "source": [
    "Using the N-methyl acetamide example, we can draw an IsoSurface at a density level of 0.01\n",
    "and color it by the electrostatic potential."
   ]
  },
  {
   "cell_type": "code",
   "execution_count": 15,
   "metadata": {},
   "outputs": [],
   "source": [
    "density_data = pmv.GridData.from_xyz(\"../data/td.xyz\", name = \"density_data\")\n",
    "potential_data = pmv.GridData.from_xyz(\"../data/tp.xyz\", name = \"potential_data\")\n",
    "cmap = pmv.ColorMap([0, 2])\n",
    "c_ramp2 = pmv.ColorRamp(potential_data, name = \"color_ramp2\", colormap = pmv.ColorMap([0, 2]))\n",
    "s3 = pmv.IsoSurface(density_data, 0.01, name = \"potential_surface\", color = c_ramp2, transparency = 0.5)\n",
    "s3.write(\"out/potential_surface.py\")"
   ]
  },
  {
   "cell_type": "code",
   "execution_count": 16,
   "metadata": {},
   "outputs": [
    {
     "data": {
      "image/png": "[encoded data removed]",
      "text/plain": [
       "<Figure size 72x432 with 1 Axes>"
      ]
     },
     "metadata": {
      "needs_background": "light"
     },
     "output_type": "display_data"
    }
   ],
   "source": [
    "cmap.get_figure()"
   ]
  },
  {
   "cell_type": "code",
   "execution_count": 12,
   "metadata": {},
   "outputs": [
    {
     "data": {
      "text/plain": [
       "0.00936803"
      ]
     },
     "execution_count": 12,
     "metadata": {},
     "output_type": "execute_result"
    }
   ],
   "source": [
    "np.min(potential_data.values)"
   ]
  },
  {
   "cell_type": "markdown",
   "metadata": {},
   "source": [
    "Using the data from before we can draw an IsoSurface at different levels of 2mFo-dFc density."
   ]
  },
  {
   "cell_type": "code",
   "execution_count": 7,
   "metadata": {},
   "outputs": [],
   "source": [
    "from rdkit import Chem\n",
    "prot = Chem.MolFromPDBFile('../data/4de3.pdb')\n",
    "positions = prot.GetConformer().GetPositions()\n",
    "buffer = 5\n"
   ]
  },
  {
   "cell_type": "code",
   "execution_count": 8,
   "metadata": {},
   "outputs": [],
   "source": [
    "# bfs from a bromine\n",
    "bromine = [a for a in prot.GetAtoms() if a.GetAtomicNum() == 35][0]\n",
    "cur_indices = [bromine.GetIdx()]; found_indices = [bromine.GetIdx()]\n",
    "while(len(cur_indices) > 0):\n",
    "    next_indices = [a.GetIdx() for a in prot.GetAtomWithIdx(cur_indices[0]).GetNeighbors() if a.GetIdx() not in found_indices]\n",
    "    found_indices.extend(next_indices)\n",
    "    cur_indices.extend(next_indices)\n",
    "    cur_indices = cur_indices[1:]\n",
    "# determine box\n",
    "used_positions = np.array([positions[i] for i in found_indices])\n",
    "min_pos = np.min(used_positions, axis = 0) - buffer\n",
    "max_pos = np.max(used_positions, axis = 0) + buffer\n",
    "data = pmv.GridData.from_mtz('../data/4de3_phases.mtz', min_pos = min_pos, max_pos = max_pos, step_sizes = [1, 1, 1], name = 'mtz_4de3')"
   ]
  },
  {
   "cell_type": "code",
   "execution_count": 9,
   "metadata": {},
   "outputs": [
    {
     "ename": "TypeError",
     "evalue": "__init__() got an unexpected keyword argument 'transparancy'",
     "output_type": "error",
     "traceback": [
      "\u001b[0;31m---------------------------------------------------------------------------\u001b[0m",
      "\u001b[0;31mTypeError\u001b[0m                                 Traceback (most recent call last)",
      "\u001b[0;32m/tmp/ipykernel_31328/2369904537.py\u001b[0m in \u001b[0;36m<module>\u001b[0;34m\u001b[0m\n\u001b[0;32m----> 1\u001b[0;31m \u001b[0ms1\u001b[0m \u001b[0;34m=\u001b[0m \u001b[0mpmv\u001b[0m\u001b[0;34m.\u001b[0m\u001b[0mIsoSurface\u001b[0m\u001b[0;34m(\u001b[0m\u001b[0mdata\u001b[0m\u001b[0;34m,\u001b[0m \u001b[0mname\u001b[0m \u001b[0;34m=\u001b[0m \u001b[0;34m\"mtz_4de3_surface\"\u001b[0m\u001b[0;34m,\u001b[0m \u001b[0mlevel\u001b[0m \u001b[0;34m=\u001b[0m \u001b[0;36m0\u001b[0m\u001b[0;34m,\u001b[0m \u001b[0mselection\u001b[0m \u001b[0;34m=\u001b[0m \u001b[0;34m\"sele\"\u001b[0m\u001b[0;34m,\u001b[0m \u001b[0mcarve\u001b[0m \u001b[0;34m=\u001b[0m \u001b[0;36m3\u001b[0m\u001b[0;34m,\u001b[0m \u001b[0mtransparancy\u001b[0m \u001b[0;34m=\u001b[0m \u001b[0;36m0.3\u001b[0m\u001b[0;34m)\u001b[0m\u001b[0;34m\u001b[0m\u001b[0;34m\u001b[0m\u001b[0m\n\u001b[0m\u001b[1;32m      2\u001b[0m \u001b[0ms1\u001b[0m\u001b[0;34m.\u001b[0m\u001b[0mwrite\u001b[0m\u001b[0;34m(\u001b[0m\u001b[0;34m\"out/mtz_4de3_surface.py\"\u001b[0m\u001b[0;34m)\u001b[0m\u001b[0;34m\u001b[0m\u001b[0;34m\u001b[0m\u001b[0m\n",
      "\u001b[0;31mTypeError\u001b[0m: __init__() got an unexpected keyword argument 'transparancy'"
     ]
    }
   ],
   "source": [
    "s1 = pmv.IsoSurface(data, name = \"mtz_4de3_surface\", level = 0, selection = \"sele\", carve = 3, transparancy = 0.3)\n",
    "s1.write(\"out/mtz_4de3_surface.py\")    "
   ]
  },
  {
   "cell_type": "markdown",
   "metadata": {},
   "source": []
  }
 ],
 "metadata": {
  "kernelspec": {
   "display_name": "DD_py38",
   "language": "python",
   "name": "python3"
  },
  "language_info": {
   "codemirror_mode": {
    "name": "ipython",
    "version": 3
   },
   "file_extension": ".py",
   "mimetype": "text/x-python",
   "name": "python",
   "nbconvert_exporter": "python",
   "pygments_lexer": "ipython3",
   "version": "3.8.12"
  },
  "orig_nbformat": 4
 },
 "nbformat": 4,
 "nbformat_minor": 2
}
