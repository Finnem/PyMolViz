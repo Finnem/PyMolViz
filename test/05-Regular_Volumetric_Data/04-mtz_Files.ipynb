{
 "cells": [
  {
   "cell_type": "code",
   "execution_count": 1,
   "metadata": {},
   "outputs": [],
   "source": [
    "from rdkit import Chem\n",
    "import pymolviz as pmv\n",
    "import numpy as np"
   ]
  },
  {
   "cell_type": "code",
   "execution_count": 3,
   "metadata": {},
   "outputs": [],
   "source": [
    "prot = Chem.MolFromPDBFile('4de3.pdb')\n",
    "positions = prot.GetConformer().GetPositions()\n",
    "buffer = 5\n",
    "min_pos = np.min(positions, axis = 0) - buffer\n",
    "max_pos = np.max(positions, axis = 0) + buffer"
   ]
  },
  {
   "cell_type": "code",
   "execution_count": 7,
   "metadata": {},
   "outputs": [
    {
     "name": "stdout",
     "output_type": "stream",
     "text": [
      "(667554, 3) (97, 74, 93)\n"
     ]
    }
   ],
   "source": [
    "data = pmv.GridData.from_mtz('4de3_phases.mtz', min_pos = min_pos, max_pos = max_pos, step_size = [1, 1, 1], name = 'mtz_4de3')"
   ]
  },
  {
   "cell_type": "code",
   "execution_count": 8,
   "metadata": {},
   "outputs": [
    {
     "name": "stderr",
     "output_type": "stream",
     "text": [
      "WARNING:root:No name provided for IsoVolume. Using default name: IsoVolume_1. It is highly recommended to provide meaningful names.\n"
     ]
    }
   ],
   "source": [
    "pmv.IsoVolume(data, colormap = pmv.ColorMap([-2, 3])).write(\"test_vol.py\")"
   ]
  },
  {
   "cell_type": "code",
   "execution_count": null,
   "metadata": {},
   "outputs": [],
   "source": []
  }
 ],
 "metadata": {
  "kernelspec": {
   "display_name": "DD_py38",
   "language": "python",
   "name": "python3"
  },
  "language_info": {
   "codemirror_mode": {
    "name": "ipython",
    "version": 3
   },
   "file_extension": ".py",
   "mimetype": "text/x-python",
   "name": "python",
   "nbconvert_exporter": "python",
   "pygments_lexer": "ipython3",
   "version": "3.8.12"
  },
  "orig_nbformat": 4
 },
 "nbformat": 4,
 "nbformat_minor": 2
}
