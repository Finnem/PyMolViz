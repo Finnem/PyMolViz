{
 "cells": [
  {
   "cell_type": "code",
   "execution_count": 1,
   "metadata": {},
   "outputs": [],
   "source": [
    "import pymolviz as pmv\n",
    "import numpy as np"
   ]
  },
  {
   "cell_type": "markdown",
   "metadata": {},
   "source": [
    "# States and volumes"
   ]
  },
  {
   "cell_type": "code",
   "execution_count": 3,
   "metadata": {},
   "outputs": [],
   "source": [
    "data = pmv.GridData.from_xyz(\"../data/td.xyz\", name = \"td\")\n",
    "data2 = pmv.GridData.from_xyz(\"../data/tp.xyz\", name = \"tp\")\n",
    "cmap = pmv.ColorMap([0, 0.5])\n",
    "v4 = pmv.Volume(data, name = \"volume\", colormap = cmap, state = 1)\n",
    "v5 = pmv.Volume(data2, name = \"volume\", colormap = cmap, state = 2)\n",
    "pmv.Script([v4, v5]).write(\"out/state_volume.py\")"
   ]
  },
  {
   "cell_type": "code",
   "execution_count": null,
   "metadata": {},
   "outputs": [],
   "source": []
  }
 ],
 "metadata": {
  "kernelspec": {
   "display_name": "DD_py38",
   "language": "python",
   "name": "python3"
  },
  "language_info": {
   "codemirror_mode": {
    "name": "ipython",
    "version": 3
   },
   "file_extension": ".py",
   "mimetype": "text/x-python",
   "name": "python",
   "nbconvert_exporter": "python",
   "pygments_lexer": "ipython3",
   "version": "3.8.12"
  },
  "orig_nbformat": 4
 },
 "nbformat": 4,
 "nbformat_minor": 2
}
