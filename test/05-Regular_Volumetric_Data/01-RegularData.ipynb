{
 "cells": [
  {
   "cell_type": "code",
   "execution_count": 1,
   "metadata": {},
   "outputs": [],
   "source": [
    "import pymolviz as pmv\n",
    "import numpy as np"
   ]
  },
  {
   "cell_type": "code",
   "execution_count": 2,
   "metadata": {},
   "outputs": [],
   "source": [
    "grid = np.array([[0, 0, 0],\n",
    "        [0, 0, 1],\n",
    "        [0, 1, 0],\n",
    "        [0, 1, 1],\n",
    "        [1, 0, 0],\n",
    "        [1, 0, 1],\n",
    "        [1, 1, 0],\n",
    "        [1, 1, 1]])\n",
    "\n",
    "values = np.sum(grid, axis=1)"
   ]
  },
  {
   "cell_type": "code",
   "execution_count": 3,
   "metadata": {},
   "outputs": [],
   "source": [
    "reg_data = pmv.RegularData(values, grid)"
   ]
  },
  {
   "cell_type": "code",
   "execution_count": 4,
   "metadata": {},
   "outputs": [
    {
     "name": "stderr",
     "output_type": "stream",
     "text": [
      "WARNING:root:No name provided for RegularData. Using default name: RegularData_0. It is highly recommended to provide meaningful names.\n"
     ]
    }
   ],
   "source": [
    "reg_data.write(\"basic_reg_data.py\")"
   ]
  },
  {
   "cell_type": "code",
   "execution_count": 5,
   "metadata": {},
   "outputs": [],
   "source": [
    "vol = pmv.Volume(reg_data)"
   ]
  },
  {
   "cell_type": "code",
   "execution_count": 6,
   "metadata": {},
   "outputs": [
    {
     "name": "stderr",
     "output_type": "stream",
     "text": [
      "WARNING:root:No name provided for Volume. Using default name: Volume_0. It is highly recommended to provide meaningful names.\n"
     ]
    }
   ],
   "source": [
    "vol.write(\"basic_vol.py\")"
   ]
  },
  {
   "cell_type": "code",
   "execution_count": 7,
   "metadata": {},
   "outputs": [
    {
     "name": "stderr",
     "output_type": "stream",
     "text": [
      "WARNING:root:No name provided for ColorMap. Using default name: ColorMap_0. It is highly recommended to provide meaningful names.\n"
     ]
    }
   ],
   "source": [
    "vol.colormap.write(\"basic_colormap.py\")"
   ]
  },
  {
   "cell_type": "code",
   "execution_count": 8,
   "metadata": {},
   "outputs": [],
   "source": [
    "cmap = pmv.ColorMap([0,1])"
   ]
  },
  {
   "cell_type": "code",
   "execution_count": 9,
   "metadata": {},
   "outputs": [
    {
     "data": {
      "text/plain": [
       "pymolviz.ColorMap.ColorMap"
      ]
     },
     "execution_count": 9,
     "metadata": {},
     "output_type": "execute_result"
    }
   ],
   "source": [
    "type(vol.colormap)"
   ]
  },
  {
   "cell_type": "code",
   "execution_count": 10,
   "metadata": {},
   "outputs": [
    {
     "data": {
      "image/png": "[encoded data removed]",
      "text/plain": [
       "<Figure size 72x432 with 1 Axes>"
      ]
     },
     "metadata": {
      "needs_background": "light"
     },
     "output_type": "display_data"
    }
   ],
   "source": [
    "cmap.get_figure()"
   ]
  },
  {
   "cell_type": "code",
   "execution_count": 11,
   "metadata": {},
   "outputs": [
    {
     "name": "stderr",
     "output_type": "stream",
     "text": [
      "WARNING:root:No name provided for ColorMap. Using default name: ColorMap_1. It is highly recommended to provide meaningful names.\n"
     ]
    }
   ],
   "source": [
    "cmap.write(\"basic_colormap2.py\")"
   ]
  },
  {
   "cell_type": "code",
   "execution_count": 12,
   "metadata": {},
   "outputs": [
    {
     "name": "stderr",
     "output_type": "stream",
     "text": [
      "WARNING:root:No name provided for RegularData. Using default name: RegularData_1. It is highly recommended to provide meaningful names.\n",
      "WARNING:root:No name provided for ColorRamp. Using default name: ColorRamp_0. It is highly recommended to provide meaningful names.\n",
      "WARNING:root:No name provided for IsoSurface. Using default name: IsoSurface_0. It is highly recommended to provide meaningful names.\n"
     ]
    }
   ],
   "source": [
    "\n",
    "values2 = grid[:,2]\n",
    "reg_data2 = pmv.RegularData(values2, grid)\n",
    "\n",
    "pmv.IsoSurface(reg_data, 1.5, color = pmv.ColorRamp(reg_data2)).write(\"basic_isosurface.py\")"
   ]
  },
  {
   "cell_type": "code",
   "execution_count": 13,
   "metadata": {},
   "outputs": [
    {
     "name": "stderr",
     "output_type": "stream",
     "text": [
      "WARNING:root:No name provided for RegularData. Using default name: RegularData_2. It is highly recommended to provide meaningful names.\n",
      "WARNING:root:No name provided for ColorRamp. Using default name: ColorRamp_1. It is highly recommended to provide meaningful names.\n",
      "WARNING:root:No name provided for IsoMesh. Using default name: IsoMesh_0. It is highly recommended to provide meaningful names.\n"
     ]
    }
   ],
   "source": [
    "\n",
    "values2 = grid[:,2]\n",
    "reg_data2 = pmv.RegularData(values2, grid)\n",
    "\n",
    "pmv.IsoMesh(reg_data, 1.5, color = pmv.ColorRamp(reg_data2)).write(\"basic_isomesh.py\")"
   ]
  },
  {
   "cell_type": "code",
   "execution_count": 15,
   "metadata": {},
   "outputs": [
    {
     "name": "stderr",
     "output_type": "stream",
     "text": [
      "WARNING:root:No name provided for IsoVolume. Using default name: IsoVolume_1. It is highly recommended to provide meaningful names.\n"
     ]
    }
   ],
   "source": [
    "vol2 = pmv.IsoVolume(reg_data, clims = [0, 0.5 ,1, 1.5, 2, 2.5]).write(\"basic_isovolume.py\")"
   ]
  },
  {
   "cell_type": "markdown",
   "metadata": {},
   "source": []
  },
  {
   "cell_type": "code",
   "execution_count": null,
   "metadata": {},
   "outputs": [],
   "source": []
  }
 ],
 "metadata": {
  "kernelspec": {
   "display_name": "DD_py38",
   "language": "python",
   "name": "python3"
  },
  "language_info": {
   "codemirror_mode": {
    "name": "ipython",
    "version": 3
   },
   "file_extension": ".py",
   "mimetype": "text/x-python",
   "name": "python",
   "nbconvert_exporter": "python",
   "pygments_lexer": "ipython3",
   "version": "3.8.12"
  },
  "orig_nbformat": 4
 },
 "nbformat": 4,
 "nbformat_minor": 2
}
