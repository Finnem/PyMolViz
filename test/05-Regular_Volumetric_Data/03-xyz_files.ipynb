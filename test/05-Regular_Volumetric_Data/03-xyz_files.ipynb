{
 "cells": [
  {
   "cell_type": "code",
   "execution_count": 1,
   "metadata": {},
   "outputs": [],
   "source": [
    "import numpy as np\n",
    "import scipy as sp"
   ]
  },
  {
   "cell_type": "code",
   "execution_count": 2,
   "metadata": {},
   "outputs": [],
   "source": [
    "import pymolviz as pmv"
   ]
  },
  {
   "cell_type": "code",
   "execution_count": 3,
   "metadata": {},
   "outputs": [],
   "source": [
    "d = pmv.GridData.from_xyz(\"td.xyz\")\n",
    "p = pmv.GridData.from_xyz(\"tp.xyz\")"
   ]
  },
  {
   "cell_type": "code",
   "execution_count": 4,
   "metadata": {},
   "outputs": [],
   "source": [
    "points_d = d.to_point_cloud(render_as = \"Dots\", name =\"Density_Dots\", colormap = pmv.ColorMap([0, 2]), filter = lambda x: x > 1e-1)\n",
    "points_p = p.to_point_cloud(render_as = \"Dots\", name =\"Potential_Dots\", colormap = pmv.ColorMap([-1, 1]), filter = lambda x: np.abs(x) > 1e-1)"
   ]
  },
  {
   "cell_type": "code",
   "execution_count": 5,
   "metadata": {},
   "outputs": [],
   "source": [
    "vol_d = pmv.Volume(d, name = \"Density\", colormap = pmv.ColorMap([0, 2]))\n",
    "vol_p = pmv.Volume(p, name = \"Potential\", colormap = pmv.ColorMap([-1, 1]))"
   ]
  },
  {
   "cell_type": "code",
   "execution_count": 6,
   "metadata": {},
   "outputs": [],
   "source": [
    "\n",
    "#vol_d = pmv.IsoVolume(d, name = \"Density\", colormap = pmv.ColorMap([0, 2]))\n",
    "#vol_p = pmv.IsoVolume(p, name = \"Potential\", colormap = pmv.ColorMap([-1, 1]))"
   ]
  },
  {
   "cell_type": "code",
   "execution_count": 7,
   "metadata": {},
   "outputs": [],
   "source": [
    "s = pmv.Script([points_d, points_p, vol_d, vol_p, p])"
   ]
  },
  {
   "cell_type": "code",
   "execution_count": 8,
   "metadata": {},
   "outputs": [
    {
     "name": "stderr",
     "output_type": "stream",
     "text": [
      "WARNING:root:No name provided for GridData. Using default name: GridData_0. It is highly recommended to provide meaningful names.\n",
      "WARNING:root:No name provided for GridData. Using default name: GridData_1. It is highly recommended to provide meaningful names.\n"
     ]
    }
   ],
   "source": [
    "s.write(\"test.py\")"
   ]
  },
  {
   "cell_type": "code",
   "execution_count": 9,
   "metadata": {},
   "outputs": [
    {
     "data": {
      "text/plain": [
       "<AxesSubplot:ylabel='Count'>"
      ]
     },
     "execution_count": 9,
     "metadata": {},
     "output_type": "execute_result"
    },
    {
     "data": {
      "image/png": "[encoded data removed]",
      "text/plain": [
       "<Figure size 432x288 with 1 Axes>"
      ]
     },
     "metadata": {
      "needs_background": "light"
     },
     "output_type": "display_data"
    }
   ],
   "source": [
    "import seaborn as sns\n",
    "sns.histplot(p.values.flatten(), bins = 100)"
   ]
  }
 ],
 "metadata": {
  "kernelspec": {
   "display_name": "tf_Finn",
   "language": "python",
   "name": "python3"
  },
  "language_info": {
   "codemirror_mode": {
    "name": "ipython",
    "version": 3
   },
   "file_extension": ".py",
   "mimetype": "text/x-python",
   "name": "python",
   "nbconvert_exporter": "python",
   "pygments_lexer": "ipython3",
   "version": "3.8.12"
  },
  "orig_nbformat": 4
 },
 "nbformat": 4,
 "nbformat_minor": 2
}
