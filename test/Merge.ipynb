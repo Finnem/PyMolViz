{
 "cells": [
  {
   "cell_type": "code",
   "execution_count": 1,
   "metadata": {},
   "outputs": [],
   "source": [
    "import pymolviz as pmv\n",
    "import numpy as np"
   ]
  },
  {
   "cell_type": "code",
   "execution_count": 2,
   "metadata": {},
   "outputs": [],
   "source": [
    "meshes = []\n",
    "meshes.append(pmv.Sphere(np.array([0.5, 0.3, 0.5]), 1))\n",
    "meshes.append(pmv.Sphere(np.array([0.7, 0.4, 1]), 1))\n",
    "meshes.append(pmv.Cylinder(np.array([-1, -1, -2]), np.array([1, 1.5, 1]), 0.5, \"red\"))\n",
    "bsp_trees = [pmv.BSP_Node.from_mesh(mesh) for mesh in meshes]"
   ]
  },
  {
   "cell_type": "code",
   "execution_count": 3,
   "metadata": {},
   "outputs": [
    {
     "data": {
      "text/plain": [
       "<pymolviz.meshes.Mesh.Mesh at 0x7f40a1afab80>"
      ]
     },
     "execution_count": 3,
     "metadata": {},
     "output_type": "execute_result"
    }
   ],
   "source": [
    "bsp_trees[0].to_mesh()"
   ]
  },
  {
   "cell_type": "code",
   "execution_count": 4,
   "metadata": {},
   "outputs": [],
   "source": [
    "union = bsp_trees[0].union(bsp_trees[1])\n",
    "subtraction = bsp_trees[1].subtract(bsp_trees[2])\n",
    "intersection = bsp_trees[0].intersect(bsp_trees[1])"
   ]
  },
  {
   "cell_type": "code",
   "execution_count": 5,
   "metadata": {},
   "outputs": [
    {
     "name": "stdout",
     "output_type": "stream",
     "text": [
      "[1051, 1090, 120]\n"
     ]
    }
   ],
   "source": [
    "print([len(node.all_polygons()) for node in bsp_trees])"
   ]
  },
  {
   "cell_type": "markdown",
   "metadata": {},
   "source": [
    "cur_level = [node1]\n",
    "next_level = []\n",
    "plane_meshes = []\n",
    "level_index = 0\n",
    "fronts = []\n",
    "backs = []\n",
    "while len(cur_level) > 0:\n",
    "    cur_meshes = []\n",
    "    front_meshes = []\n",
    "    back_meshes = []\n",
    "    for node in cur_level:\n",
    "        if node.front is not None:\n",
    "            if level_index < 4:\n",
    "                front_meshes.extend([p.to_mesh() for p in node.front.all_polygons()])\n",
    "            next_level.append(node.front)\n",
    "        if node.back is not None:\n",
    "            if level_index < 4:\n",
    "                back_meshes.extend([p.to_mesh() for p in node.back.all_polygons()])\n",
    "            next_level.append(node.back)\n",
    "        cur_meshes.append(pmv.Sphere(node.position, 0.1, \"red\"))\n",
    "        cur_meshes.append(node.plane_mesh())\n",
    "    fronts.append(pmv.Collection(front_meshes, name = f\"front_{level_index}\"))\n",
    "    backs.append(pmv.Collection(back_meshes, name = f\"back_{level_index}\"))\n",
    "    plane_meshes.append(pmv.Collection(cur_meshes, name = f\"level_{level_index}\"))\n",
    "    cur_level = next_level\n",
    "    level_index += 1\n",
    "    next_level = []"
   ]
  },
  {
   "cell_type": "code",
   "execution_count": 6,
   "metadata": {},
   "outputs": [],
   "source": [
    "reverted_meshes = [bsp_tree.to_mesh() for bsp_tree in bsp_trees]\n",
    "normal_meshes = [bsp_tree.to_normal_arrows() for bsp_tree in bsp_trees]"
   ]
  },
  {
   "cell_type": "code",
   "execution_count": 7,
   "metadata": {},
   "outputs": [],
   "source": [
    "union_collection = pmv.Collection([union.to_mesh()], \"union\")\n",
    "union_wireframe = pmv.Collection([union.to_mesh().to_wireframe()], \"union_wireframe\")\n",
    "intersection_collection = pmv.Collection([intersection.to_mesh()], \"intersection\")\n",
    "intersection_wireframe = pmv.Collection([intersection.to_mesh().to_wireframe()], \"intersection_wireframe\")\n",
    "difference_collection = pmv.Collection([subtraction.to_mesh()], \"difference\")\n",
    "difference_wireframe = pmv.Collection([subtraction.to_mesh().to_wireframe()], \"difference_wireframe\")"
   ]
  },
  {
   "cell_type": "code",
   "execution_count": 8,
   "metadata": {},
   "outputs": [],
   "source": [
    "reverted_collections = [pmv.Collection([reverted_mesh], f\"reverted_mesh_{i}\") for i, reverted_mesh in enumerate(reverted_meshes)]\n",
    "original_collections = [pmv.Collection([mesh], f\"original_mesh_{i}\") for i, mesh in enumerate(meshes)]\n",
    "normal_collections = [pmv.Collection([mesh], f\"polygon_normals_{i}\") for i, mesh in enumerate(normal_meshes)]\n",
    "wireframe_collections = [pmv.Collection([reverted_mesh.to_wireframe()], f\"reverted_wireframe_{i}\") for i, reverted_mesh in enumerate(reverted_meshes)]\n",
    "script = pmv.Script([union_collection, union_wireframe, intersection_collection, intersection_wireframe,  difference_collection, difference_wireframe, *normal_collections, *reverted_collections, *original_collections, *wireframe_collections])\n",
    "script.write(\"testMerge.py\")"
   ]
  },
  {
   "cell_type": "code",
   "execution_count": null,
   "metadata": {},
   "outputs": [],
   "source": []
  },
  {
   "cell_type": "code",
   "execution_count": null,
   "metadata": {},
   "outputs": [],
   "source": []
  }
 ],
 "metadata": {
  "kernelspec": {
   "display_name": "DD_py38",
   "language": "python",
   "name": "python3"
  },
  "language_info": {
   "codemirror_mode": {
    "name": "ipython",
    "version": 3
   },
   "file_extension": ".py",
   "mimetype": "text/x-python",
   "name": "python",
   "nbconvert_exporter": "python",
   "pygments_lexer": "ipython3",
   "version": "3.8.12 (default, Oct 12 2021, 13:49:34) \n[GCC 7.5.0]"
  },
  "orig_nbformat": 4,
  "vscode": {
   "interpreter": {
    "hash": "0fec36c6cc9fecd6772ab8fd06ffa6d80b76ac752b13c96f3aeec384733e9f4e"
   }
  }
 },
 "nbformat": 4,
 "nbformat_minor": 2
}
