{
 "cells": [
  {
   "cell_type": "code",
   "execution_count": null,
   "metadata": {},
   "outputs": [],
   "source": []
  },
  {
   "cell_type": "code",
   "execution_count": 1,
   "metadata": {},
   "outputs": [],
   "source": [
    "import pymolviz as pmv\n",
    "import numpy as np"
   ]
  },
  {
   "cell_type": "code",
   "execution_count": 2,
   "metadata": {},
   "outputs": [],
   "source": [
    "lines = pmv.Lines(np.random.random((3,10)))\n",
    "lines2 = pmv.Lines(np.random.random((3,10)))"
   ]
  },
  {
   "cell_type": "code",
   "execution_count": 3,
   "metadata": {},
   "outputs": [
    {
     "data": {
      "text/plain": [
       "<pymolviz.meshes.Lines.Lines at 0x7ff076475af0>"
      ]
     },
     "execution_count": 3,
     "metadata": {},
     "output_type": "execute_result"
    }
   ],
   "source": [
    "lines"
   ]
  },
  {
   "cell_type": "code",
   "execution_count": 11,
   "metadata": {},
   "outputs": [],
   "source": [
    "collection = pmv.MeshCollection([lines], \"test\")"
   ]
  },
  {
   "cell_type": "code",
   "execution_count": 12,
   "metadata": {},
   "outputs": [
    {
     "name": "stdout",
     "output_type": "stream",
     "text": [
      "(240, 3) (240, 3) (240, 3)\n"
     ]
    }
   ],
   "source": [
    "cylinder = pmv.Cylinder(np.array([1,0,0]), np.array([1,1,1]), 0.5)\n",
    "start_point = pmv.Points([np.array([1,0,0])], color = \"red\")\n",
    "end_point = pmv.Points([np.array([1,1,1])], color = \"green\")\n",
    "test=pmv.MeshCollection([cylinder, start_point, end_point], \"test\")\n",
    "test.to_script().write(\"cylinder.py\")"
   ]
  },
  {
   "attachments": {},
   "cell_type": "markdown",
   "metadata": {},
   "source": []
  },
  {
   "cell_type": "code",
   "execution_count": 13,
   "metadata": {},
   "outputs": [
    {
     "data": {
      "text/plain": [
       "<pymolviz.meshes.MeshCollection.MeshCollection at 0x7ff0757d4520>"
      ]
     },
     "execution_count": 13,
     "metadata": {},
     "output_type": "execute_result"
    }
   ],
   "source": [
    "collection"
   ]
  },
  {
   "cell_type": "code",
   "execution_count": 14,
   "metadata": {},
   "outputs": [],
   "source": [
    "script = pmv.Script()\n",
    "script.add({\"test2\" : collection, \"test3\" : lines2})"
   ]
  },
  {
   "cell_type": "code",
   "execution_count": 15,
   "metadata": {},
   "outputs": [
    {
     "data": {
      "text/plain": [
       "[<pymolviz.meshes.Lines.Lines at 0x7ff076475af0>]"
      ]
     },
     "execution_count": 15,
     "metadata": {},
     "output_type": "execute_result"
    }
   ],
   "source": [
    "collection.meshes"
   ]
  },
  {
   "cell_type": "code",
   "execution_count": 16,
   "metadata": {},
   "outputs": [],
   "source": [
    "script.write(\"test.py\")"
   ]
  },
  {
   "cell_type": "code",
   "execution_count": null,
   "metadata": {},
   "outputs": [],
   "source": []
  },
  {
   "cell_type": "code",
   "execution_count": 17,
   "metadata": {},
   "outputs": [
    {
     "name": "stderr",
     "output_type": "stream",
     "text": [
      "WARNING:root:No name provided for Collection. Using default name: Collection_0. It is highly recommended to provide meaningful names.\n",
      "WARNING:root:No name provided for mesh when creating script. Try passing a name(s) to the add function or a dictionary mapping names to the objects.\n"
     ]
    },
    {
     "name": "stdout",
     "output_type": "stream",
     "text": [
      "\n",
      "from pymol.cgo import *\n",
      "from pymol import cmd\n",
      "import numpy as np\n",
      "from chempy.brick import Brick\n",
      "\n",
      "        \n",
      "\n",
      "Collection_0 = [\n",
      "        \n",
      "LINEWIDTH,1,BEGIN,LINES,COLOR,1.0,1.0,1.0,VERTEX,0.20667120172492515,0.9010725035606415,0.7267814537452337,COLOR,1.0,1.0,1.0,VERTEX,0.5388648269496048,0.8247077070174388,0.6688500572835038,COLOR,1.0,1.0,1.0,VERTEX,0.9516034282702694,0.014096480784538512,0.004249264675698972,COLOR,1.0,1.0,1.0,VERTEX,0.8567755936487884,0.48102940727539245,0.9102863818913886,COLOR,1.0,1.0,1.0,VERTEX,0.3540847543633201,0.03675622210226126,0.6218168753858814,COLOR,1.0,1.0,1.0,VERTEX,0.3057436856377621,0.21246102272807688,0.8099212276257742,COLOR,1.0,1.0,1.0,VERTEX,0.1917832494657351,0.9502668434770849,0.5014033648570118,COLOR,1.0,1.0,1.0,VERTEX,0.08077906548751113,0.367381827099741,0.651552558676247,COLOR,1.0,1.0,1.0,VERTEX,0.15208172773649087,0.2858301494210401,0.570922421033042,COLOR,1.0,1.0,1.0,VERTEX,0.4944244861431677,0.3275963330474969,0.5416546790326858,END\n",
      "\n",
      "            ]\n",
      "cmd.load_cgo(Collection_0, \"Collection_0\")\n",
      "cmd.set(\"cgo_transparency\", 0, \"Collection_0\")\n",
      "        \n"
     ]
    }
   ],
   "source": [
    "print(str(lines.to_script()))"
   ]
  },
  {
   "cell_type": "code",
   "execution_count": null,
   "metadata": {},
   "outputs": [],
   "source": []
  }
 ],
 "metadata": {
  "kernelspec": {
   "display_name": "DD_py38",
   "language": "python",
   "name": "python3"
  },
  "language_info": {
   "codemirror_mode": {
    "name": "ipython",
    "version": 3
   },
   "file_extension": ".py",
   "mimetype": "text/x-python",
   "name": "python",
   "nbconvert_exporter": "python",
   "pygments_lexer": "ipython3",
   "version": "3.8.12"
  },
  "orig_nbformat": 4,
  "vscode": {
   "interpreter": {
    "hash": "0fec36c6cc9fecd6772ab8fd06ffa6d80b76ac752b13c96f3aeec384733e9f4e"
   }
  }
 },
 "nbformat": 4,
 "nbformat_minor": 2
}
