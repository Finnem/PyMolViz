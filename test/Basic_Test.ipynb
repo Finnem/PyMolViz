{
 "cells": [
  {
   "cell_type": "code",
   "execution_count": 1,
   "metadata": {},
   "outputs": [
    {
     "name": "stdout",
     "output_type": "stream",
     "text": [
      "Jupyter environment detected. Enabling Open3D WebVisualizer.\n",
      "[Open3D INFO] WebRTC GUI backend enabled.\n",
      "[Open3D INFO] WebRTCWindowSystem: HTTP handshake server disabled.\n"
     ]
    }
   ],
   "source": [
    "import pymolviz as pmv\n",
    "import numpy as np"
   ]
  },
  {
   "cell_type": "code",
   "execution_count": 2,
   "metadata": {},
   "outputs": [],
   "source": [
    "lines = pmv.Lines(np.random.random((3,10)))\n",
    "lines2 = pmv.Lines(np.random.random((3,10)))"
   ]
  },
  {
   "cell_type": "code",
   "execution_count": 3,
   "metadata": {},
   "outputs": [
    {
     "data": {
      "text/plain": [
       "<pymolviz.meshes.Lines.Lines at 0x7fe5cc28e820>"
      ]
     },
     "execution_count": 3,
     "metadata": {},
     "output_type": "execute_result"
    }
   ],
   "source": [
    "lines"
   ]
  },
  {
   "cell_type": "code",
   "execution_count": 4,
   "metadata": {},
   "outputs": [],
   "source": [
    "collection = pmv.Collection(\"test\", [lines])"
   ]
  },
  {
   "cell_type": "code",
   "execution_count": 5,
   "metadata": {},
   "outputs": [],
   "source": [
    "script = pmv.Script()\n",
    "script.add({\"test2\" : collection, \"test3\" : lines2})"
   ]
  },
  {
   "cell_type": "code",
   "execution_count": 6,
   "metadata": {},
   "outputs": [],
   "source": [
    "script.write(\"test.py\")"
   ]
  },
  {
   "cell_type": "code",
   "execution_count": null,
   "metadata": {},
   "outputs": [],
   "source": []
  },
  {
   "cell_type": "code",
   "execution_count": 7,
   "metadata": {},
   "outputs": [
    {
     "name": "stderr",
     "output_type": "stream",
     "text": [
      "WARNING:root:No name provided for Collection. Using default name: Collection_0. It is highly recommended to provide meaningful names.\n",
      "WARNING:root:No name provided for mesh when creating script. Try passing a name(s) to the add function or a dictionary mapping names to the objects.\n"
     ]
    },
    {
     "name": "stdout",
     "output_type": "stream",
     "text": [
      "\n",
      "from pymol.cgo import *\n",
      "from pymol import cmd\n",
      "\n",
      "        \n",
      "\n",
      "Collection_0 = [\n",
      "        \n",
      "LINEWIDTH,1,BEGIN,LINES,COLOR,1.0,1.0,1.0,VERTEX,0.8652201235771286,0.702747473744746,0.2799611038633548,COLOR,1.0,1.0,1.0,VERTEX,0.565721727736932,0.4257866249314317,0.9637845754647641,COLOR,1.0,1.0,1.0,VERTEX,0.3963115391972798,0.22978102876427364,0.041067033849743306,COLOR,1.0,1.0,1.0,VERTEX,0.37947702936402516,0.6406002242418549,0.12496865842774241,COLOR,1.0,1.0,1.0,VERTEX,0.35568995506025913,0.0006249269929854417,0.43769124084360245,COLOR,1.0,1.0,1.0,VERTEX,0.9550139309808632,0.3813852797761247,0.8532215856098315,COLOR,1.0,1.0,1.0,VERTEX,0.9383745389198845,0.046043281009755965,0.35764841806569747,COLOR,1.0,1.0,1.0,VERTEX,0.6066446164177136,0.6799873229175621,0.6826266464659286,COLOR,1.0,1.0,1.0,VERTEX,0.07190968483627469,0.789602122970143,0.1895783390343585,COLOR,1.0,1.0,1.0,VERTEX,0.8995612251348686,0.5010924149474166,0.9143535538520429,END\n",
      "\n",
      "            ]\n",
      "cmd.load_cgo(Collection_0, \"Collection_0\")\n",
      "cmd.set(\"cgo_transparency\", 0, \"Collection_0\")\n",
      "        \n"
     ]
    }
   ],
   "source": [
    "print(str(lines.to_script()))"
   ]
  },
  {
   "cell_type": "code",
   "execution_count": null,
   "metadata": {},
   "outputs": [],
   "source": []
  }
 ],
 "metadata": {
  "kernelspec": {
   "display_name": "DD_py38",
   "language": "python",
   "name": "python3"
  },
  "language_info": {
   "codemirror_mode": {
    "name": "ipython",
    "version": 3
   },
   "file_extension": ".py",
   "mimetype": "text/x-python",
   "name": "python",
   "nbconvert_exporter": "python",
   "pygments_lexer": "ipython3",
   "version": "3.8.12 (default, Oct 12 2021, 13:49:34) \n[GCC 7.5.0]"
  },
  "orig_nbformat": 4,
  "vscode": {
   "interpreter": {
    "hash": "0fec36c6cc9fecd6772ab8fd06ffa6d80b76ac752b13c96f3aeec384733e9f4e"
   }
  }
 },
 "nbformat": 4,
 "nbformat_minor": 2
}
