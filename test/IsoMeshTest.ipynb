{
 "cells": [
  {
   "cell_type": "code",
   "execution_count": 1,
   "metadata": {},
   "outputs": [],
   "source": [
    "import pymolviz as pmv\n",
    "import numpy as np\n",
    "import pandas as pd"
   ]
  },
  {
   "cell_type": "code",
   "execution_count": 2,
   "metadata": {},
   "outputs": [],
   "source": [
    "def read_xyz(file):\n",
    "    with open(file, 'r') as f:\n",
    "        lines = f.readlines()[11:]\n",
    "    coords = []\n",
    "    for line in lines:\n",
    "        coords.append([float(x) for x in line.split()[:5]])\n",
    "    df = pd.DataFrame(coords, columns=['x', 'y', 'z', 'density', 'potential']).dropna()\n",
    "    return df"
   ]
  },
  {
   "cell_type": "code",
   "execution_count": 3,
   "metadata": {},
   "outputs": [],
   "source": [
    "df = read_xyz('dirlig_0.xyz')"
   ]
  },
  {
   "cell_type": "code",
   "execution_count": 4,
   "metadata": {},
   "outputs": [],
   "source": [
    "regular_data = pmv.RegularData(df[['x', 'y', 'z']].values, {'density' : df['density'].values, 'potential' : df['potential'].values})"
   ]
  },
  {
   "cell_type": "code",
   "execution_count": 5,
   "metadata": {},
   "outputs": [],
   "source": [
    "std_density = regular_data.values['density'].std()\n",
    "mean_density = regular_data.values['density'].mean()\n",
    "std_potential = regular_data.values['potential'].std()\n",
    "mean_potential = regular_data.values['potential'].mean()"
   ]
  },
  {
   "cell_type": "code",
   "execution_count": 6,
   "metadata": {},
   "outputs": [],
   "source": [
    "c_ramp = pmv.ColorRamp(regular_data, \"test_cramp\", \"potential\", clims = [0, mean_potential + 2 * std_potential], colormap = \"RdYlBu_r\")"
   ]
  },
  {
   "cell_type": "code",
   "execution_count": 7,
   "metadata": {},
   "outputs": [
    {
     "data": {
      "text/plain": [
       "-0.8930302232609201"
      ]
     },
     "execution_count": 7,
     "metadata": {},
     "output_type": "execute_result"
    }
   ],
   "source": [
    "mean_potential - 2 * std_potential"
   ]
  },
  {
   "cell_type": "code",
   "execution_count": 14,
   "metadata": {},
   "outputs": [],
   "source": [
    "v1 = pmv.IsoMesh(regular_data, .1 * std_density, \"test_isomesh1\", value_label=\"density\", color = c_ramp)\n",
    "v2 = pmv.IsoSurface(regular_data, .1 * std_density, \"test_isosurface1\", value_label=\"density\", color = c_ramp, transparancy=0.1)\n"
   ]
  },
  {
   "cell_type": "code",
   "execution_count": 15,
   "metadata": {},
   "outputs": [],
   "source": [
    "s = pmv.Script([v1, v2])\n",
    "s.write(\"isomesh_test.py\")"
   ]
  },
  {
   "cell_type": "code",
   "execution_count": null,
   "metadata": {},
   "outputs": [],
   "source": []
  }
 ],
 "metadata": {
  "kernelspec": {
   "display_name": "DD_py38",
   "language": "python",
   "name": "python3"
  },
  "language_info": {
   "codemirror_mode": {
    "name": "ipython",
    "version": 3
   },
   "file_extension": ".py",
   "mimetype": "text/x-python",
   "name": "python",
   "nbconvert_exporter": "python",
   "pygments_lexer": "ipython3",
   "version": "3.8.12"
  },
  "orig_nbformat": 4
 },
 "nbformat": 4,
 "nbformat_minor": 2
}
