{
 "cells": [
  {
   "cell_type": "code",
   "execution_count": 2,
   "metadata": {},
   "outputs": [],
   "source": [
    "import os\n",
    "import time\n",
    "import pandas as pd\n",
    "from tqdm import tqdm\n",
    "import shutil"
   ]
  },
  {
   "cell_type": "code",
   "execution_count": 3,
   "metadata": {},
   "outputs": [],
   "source": [
    "bohr_to_angstrom_value = 0.52917721092\n",
    "def bohr_to_angstrom(x):\n",
    "    return x * bohr_to_angstrom_value"
   ]
  },
  {
   "cell_type": "code",
   "execution_count": 4,
   "metadata": {},
   "outputs": [],
   "source": [
    "def read_xyz(filename, name_4_column):\n",
    "    \"\"\"Reads an xyz file and returns a dataframe with the coordinates\"\"\"\n",
    "    #print(filename)\n",
    "    header = []\n",
    "    body = []\n",
    "\n",
    "    with open(filename, 'r') as f:\n",
    "        for no, line in enumerate(f):\n",
    "            #print(line)\n",
    "            if no in range(11):\n",
    "                header.append(line)\n",
    "            else:\n",
    "                body.append(line)\n",
    "\n",
    "        coords = []\n",
    "        for line in body:\n",
    "            coords.append([float(x) for x in line.split()[:4]])\n",
    "        #print(coords)\n",
    "        df = pd.DataFrame(coords, columns=['x', 'y', 'z', name_4_column])\n",
    "        df.index.name = 'idx'\n",
    "\n",
    "        return header, df"
   ]
  },
  {
   "cell_type": "code",
   "execution_count": 5,
   "metadata": {},
   "outputs": [],
   "source": [
    "def search_file(filename, path):\n",
    "    \"\"\"Searches for a file in a path and returns the full path\"\"\"\n",
    "    for root, dirs, files in os.walk(path):\n",
    "        if filename in files:\n",
    "            return os.path.join(root, filename)"
   ]
  },
  {
   "cell_type": "code",
   "execution_count": 6,
   "metadata": {},
   "outputs": [],
   "source": [
    "def save_xyz(path, df, header):\n",
    "    \"\"\"Saves a dataframe as an xyz file\"\"\"\n",
    "    with open(path, 'w') as f:\n",
    "        f.write(''.join(str(line) for line in header))\n",
    "    df.to_csv(path, mode='a', header=False, index=False, sep='\\t', float_format='%.8f')"
   ]
  },
  {
   "cell_type": "code",
   "execution_count": 7,
   "metadata": {},
   "outputs": [],
   "source": [
    "def copy_file_to_folder(from_file, to_file, filename):\n",
    "    \"\"\"Copies a file to a folder\"\"\"\n",
    "    shutil.copy(from_file, os.path.join(to_file, filename))"
   ]
  },
  {
   "cell_type": "code",
   "execution_count": 8,
   "metadata": {},
   "outputs": [],
   "source": [
    "def create_directory(path):\n",
    "    \"\"\"Creates a directory if it does not exist\"\"\"\n",
    "    if not os.path.exists(path):\n",
    "        os.makedirs(path)"
   ]
  },
  {
   "cell_type": "code",
   "execution_count": 13,
   "metadata": {},
   "outputs": [
    {
     "name": "stderr",
     "output_type": "stream",
     "text": [
      "100%|██████████| 134/134 [09:15<00:00,  4.14s/it]\n"
     ]
    }
   ],
   "source": [
    "### Bohr to Angstrom\n",
    "in_path = os.path.join(os.getcwd(), 'charge_0')\n",
    "out_path = '/home/xb/uni/MA/14_esp_mp2_opti/pot_den_angstrom'\n",
    "\n",
    "file_1 = 'coord.xyz'\n",
    "file_2 = 'dscf.out'\n",
    "file_3 = 'td.xyz'\n",
    "file_4 = 'tp.xyz'\n",
    "\n",
    "folder_list = os.listdir(in_path)\n",
    "\n",
    "with tqdm(folder_list, total=len(folder_list)) as pbar:\n",
    "        for f in pbar:\n",
    "                current_dir = os.path.join(in_path, f)\n",
    "                \n",
    "                header, density = read_xyz(search_file(file_3, current_dir), 'density')\n",
    "                _, potential = read_xyz(search_file(file_4, current_dir), 'potenial')\n",
    "                \n",
    "                header = header[:-1] + ['# cartesian coordinates x,y,z | density | potential\\n']\n",
    "                #print(header)\n",
    "                # combine coord, density and potential in one dataframe\n",
    "                df = density.merge(potential, on=['idx', 'x', 'y', 'z'], how='inner')\n",
    "\n",
    "                # convert bohr to angstrom\n",
    "                df['x'] = df['x'].apply(bohr_to_angstrom)\n",
    "                df['y'] = df['y'].apply(bohr_to_angstrom)\n",
    "                df['z'] = df['z'].apply(bohr_to_angstrom)\n",
    "\n",
    "                create_directory(out_path+'/'+f[:-4])\n",
    "                coord = search_file(file_1, current_dir)\n",
    "                dscf = search_file(file_2, current_dir)\n",
    "                \n",
    "                copy_file_to_folder(coord, out_path+'/'+f[:-4], 'coord.xyz')\n",
    "                copy_file_to_folder(dscf, out_path+'/'+f[:-4], 'dscf.out')\n",
    "                \n",
    "                #t0 = time.time()\n",
    "                save_xyz(out_path+'/'+f[:-4]+'/'+f'{f[:-4]}.xyz', df, header)\n",
    "                #d = time.time() - t0\n",
    "                #print(\"write duration: %.2f s.\" % d)"
   ]
  },
  {
   "cell_type": "code",
   "execution_count": null,
   "metadata": {},
   "outputs": [],
   "source": []
  }
 ],
 "metadata": {
  "kernelspec": {
   "display_name": "woopy",
   "language": "python",
   "name": "python3"
  },
  "language_info": {
   "codemirror_mode": {
    "name": "ipython",
    "version": 3
   },
   "file_extension": ".py",
   "mimetype": "text/x-python",
   "name": "python",
   "nbconvert_exporter": "python",
   "pygments_lexer": "ipython3",
   "version": "3.7.16"
  },
  "orig_nbformat": 4,
  "vscode": {
   "interpreter": {
    "hash": "937ba58a7bfd62ebb1b5a78e73c90ab59f04a5f3aca90612e6399c1d8b8cdf66"
   }
  }
 },
 "nbformat": 4,
 "nbformat_minor": 2
}
