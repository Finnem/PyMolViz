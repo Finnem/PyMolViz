{
 "cells": [
  {
   "cell_type": "code",
   "execution_count": 1,
   "metadata": {},
   "outputs": [],
   "source": [
    "import pymolviz as pmv\n",
    "from xbpy import rdutil\n",
    "import numpy as np"
   ]
  },
  {
   "cell_type": "code",
   "execution_count": 2,
   "metadata": {},
   "outputs": [],
   "source": [
    "mols = rdutil.read_molecules(\"bromine_systematic_surface.sdf\")"
   ]
  },
  {
   "cell_type": "code",
   "execution_count": 3,
   "metadata": {},
   "outputs": [],
   "source": [
    "energies = []\n",
    "for mol in mols:\n",
    "    energies.append(mol.GetPropsAsDict()[\"energy\"])"
   ]
  },
  {
   "cell_type": "code",
   "execution_count": 4,
   "metadata": {},
   "outputs": [],
   "source": [
    "positions = []\n",
    "for mol in mols:\n",
    "    positions.append(rdutil.position(mol.GetAtomWithIdx(6)))"
   ]
  },
  {
   "cell_type": "code",
   "execution_count": 5,
   "metadata": {},
   "outputs": [],
   "source": [
    "energies = np.array(energies)\n",
    "positions = np.array(positions)"
   ]
  },
  {
   "cell_type": "code",
   "execution_count": 6,
   "metadata": {},
   "outputs": [],
   "source": [
    "unique_indices = np.unique(positions, axis=0, return_index=True)[1]"
   ]
  },
  {
   "cell_type": "code",
   "execution_count": 7,
   "metadata": {},
   "outputs": [],
   "source": [
    "positions = positions[unique_indices]\n",
    "energies = energies[unique_indices]\n",
    "filter = energies < 0"
   ]
  },
  {
   "cell_type": "code",
   "execution_count": 8,
   "metadata": {},
   "outputs": [
    {
     "name": "stderr",
     "output_type": "stream",
     "text": [
      "WARNING:root:No name provided for Collection. Using default name: Collection_0. It is highly recommended to provide meaningful names.\n",
      "WARNING:root:No name provided for mesh when creating script. Try passing a name(s) to the add function or a dictionary mapping names to the objects.\n"
     ]
    },
    {
     "data": {
      "image/png": "[encoded data removed]",
      "text/plain": [
       "<Figure size 72x432 with 1 Axes>"
      ]
     },
     "execution_count": 8,
     "metadata": {},
     "output_type": "execute_result"
    },
    {
     "data": {
      "image/png": "[encoded data removed]",
      "text/plain": [
       "<Figure size 72x432 with 1 Axes>"
      ]
     },
     "metadata": {
      "needs_background": "light"
     },
     "output_type": "display_data"
    }
   ],
   "source": [
    "irregular_points = pmv.Points(positions[filter], -energies[filter], clims =(0,7), render_as_spheres=True, sphere_radius=0.03)\n",
    "irregular_points.to_script().write(\"iterpolate_irregular_base.py\")\n",
    "irregular_points.get_color_map()"
   ]
  },
  {
   "cell_type": "code",
   "execution_count": 9,
   "metadata": {},
   "outputs": [],
   "source": [
    "# for fixed step size\n",
    "step_size = np.array([.25, .25, .25])\n",
    "n = np.floor(np.min(positions, axis = 0)/step_size)\n",
    "new_min = n * step_size\n",
    "m = np.ceil((np.max(positions, axis = 0) - new_min)/step_size)\n",
    "new_max = new_min + m * step_size\n",
    "x,y,z = np.meshgrid(*[np.arange(new_min[i], new_max[i], step_size[i]) for i in range(3)])\n",
    "x = x.flatten()\n",
    "y = y.flatten()\n",
    "z = z.flatten()\n",
    "regular_positions = np.array([x,y,z]).T"
   ]
  },
  {
   "cell_type": "markdown",
   "metadata": {},
   "source": [
    "new_min = np.min(positions, axis = 0)\n",
    "new_max = np.max(positions, axis = 0)\n",
    "spacing = np.array([0.25, 0.25, 0.25])\n",
    "m = np.ceil((new_max - new_min) / spacing).astype(int)\n",
    "x,y,z = np.meshgrid(*[np.linspace(new_min[i], new_max[i], m[i]) for i in range(3)])\n",
    "x = x.flatten()\n",
    "y = y.flatten()\n",
    "z = z.flatten()\n",
    "regular_positions = np.array([x,y,z]).T"
   ]
  },
  {
   "attachments": {},
   "cell_type": "markdown",
   "metadata": {},
   "source": [
    "## custom interpolation /w falloff"
   ]
  },
  {
   "cell_type": "code",
   "execution_count": 10,
   "metadata": {},
   "outputs": [],
   "source": [
    "from scipy.spatial import KDTree"
   ]
  },
  {
   "cell_type": "code",
   "execution_count": 11,
   "metadata": {},
   "outputs": [],
   "source": [
    "irregular_kdtree = KDTree(positions)\n",
    "regular_kdtree = KDTree(regular_positions)"
   ]
  },
  {
   "cell_type": "code",
   "execution_count": 12,
   "metadata": {},
   "outputs": [],
   "source": [
    "radius = 1\n",
    "surrounding_points = regular_kdtree.query_ball_tree(irregular_kdtree, r=radius)"
   ]
  },
  {
   "cell_type": "code",
   "execution_count": 13,
   "metadata": {},
   "outputs": [
    {
     "data": {
      "text/plain": [
       "74088"
      ]
     },
     "execution_count": 13,
     "metadata": {},
     "output_type": "execute_result"
    }
   ],
   "source": [
    "len(surrounding_points)"
   ]
  },
  {
   "cell_type": "code",
   "execution_count": 14,
   "metadata": {},
   "outputs": [
    {
     "data": {
      "text/plain": [
       "74088"
      ]
     },
     "execution_count": 14,
     "metadata": {},
     "output_type": "execute_result"
    }
   ],
   "source": [
    "len(regular_positions)"
   ]
  },
  {
   "cell_type": "code",
   "execution_count": 15,
   "metadata": {},
   "outputs": [],
   "source": [
    "def weighting(distances):\n",
    "    return (-np.tanh((distances/0.25*4) - 2) + 1)/2\n",
    "\n",
    "def falloff(distances):\n",
    "    return (-np.tanh((distances/0.25*4) - 5) + 1)/2\n",
    "\n",
    "def interpolate(values, positions, position):\n",
    "    distances = np.linalg.norm(positions - position, axis=1)\n",
    "    weights = weighting(distances)\n",
    "    falloffs = falloff(distances)\n",
    "    if np.sum(weights) == 0:\n",
    "        return 0\n",
    "    return np.sum(values * weights*falloffs)/np.sum(weights)"
   ]
  },
  {
   "cell_type": "code",
   "execution_count": 16,
   "metadata": {},
   "outputs": [
    {
     "data": {
      "text/plain": [
       "[<matplotlib.lines.Line2D at 0x7f8390c0b8b0>]"
      ]
     },
     "execution_count": 16,
     "metadata": {},
     "output_type": "execute_result"
    },
    {
     "data": {
      "image/png": "[encoded data removed]",
      "text/plain": [
       "<Figure size 432x288 with 1 Axes>"
      ]
     },
     "metadata": {
      "needs_background": "light"
     },
     "output_type": "display_data"
    }
   ],
   "source": [
    "from matplotlib import pyplot as plt\n",
    "plt.plot(np.linspace(0,1,100), weighting(np.linspace(0,1,100)))"
   ]
  },
  {
   "cell_type": "code",
   "execution_count": 17,
   "metadata": {},
   "outputs": [],
   "source": [
    "custom_energies = []\n",
    "for i in range(len(regular_positions)):\n",
    "    filter = np.zeros(len(positions), dtype=bool)\n",
    "    filter[surrounding_points[i]] = True\n",
    "    custom_energies.append(interpolate(energies[filter], positions[filter], regular_positions[i]))"
   ]
  },
  {
   "cell_type": "code",
   "execution_count": 18,
   "metadata": {},
   "outputs": [],
   "source": [
    "custom_energies = np.array(custom_energies)"
   ]
  },
  {
   "cell_type": "code",
   "execution_count": 19,
   "metadata": {},
   "outputs": [
    {
     "data": {
      "text/plain": [
       "-12.79612126562763"
      ]
     },
     "execution_count": 19,
     "metadata": {},
     "output_type": "execute_result"
    }
   ],
   "source": [
    "np.min(custom_energies)"
   ]
  },
  {
   "cell_type": "code",
   "execution_count": 20,
   "metadata": {},
   "outputs": [],
   "source": [
    "custom_filter = custom_energies < -0.01"
   ]
  },
  {
   "cell_type": "code",
   "execution_count": 21,
   "metadata": {},
   "outputs": [
    {
     "data": {
      "image/png": "[encoded data removed]",
      "text/plain": [
       "<Figure size 72x432 with 1 Axes>"
      ]
     },
     "execution_count": 21,
     "metadata": {},
     "output_type": "execute_result"
    },
    {
     "data": {
      "image/png": "[encoded data removed]",
      "text/plain": [
       "<Figure size 72x432 with 1 Axes>"
      ]
     },
     "metadata": {
      "needs_background": "light"
     },
     "output_type": "display_data"
    }
   ],
   "source": [
    "p = pmv.Points(regular_positions[custom_filter], -custom_energies[custom_filter], clims=(0,12), render_as_spheres=True, sphere_radius=0.1)\n",
    "p.to_script(name=\"interpolate_custom\").write(\"iterpolate_custom.py\")\n",
    "p.get_color_map()"
   ]
  },
  {
   "cell_type": "markdown",
   "metadata": {},
   "source": [
    "p = pmv.Points(regular_positions[custom_filter] - min_boundary, -custom_energies[custom_filter], clims=(0,7), render_as_spheres=True, sphere_radius=0.05)\n",
    "p.to_script().write(\"iterpolate_custom_filtered.py\")\n",
    "p.get_color_map()"
   ]
  },
  {
   "cell_type": "code",
   "execution_count": 22,
   "metadata": {},
   "outputs": [],
   "source": [
    "import gemmi"
   ]
  },
  {
   "cell_type": "code",
   "execution_count": 23,
   "metadata": {},
   "outputs": [],
   "source": [
    "custom_energies = np.clip(-custom_energies, 0, 12)"
   ]
  },
  {
   "cell_type": "code",
   "execution_count": 24,
   "metadata": {},
   "outputs": [],
   "source": [
    "e = custom_energies.reshape(m.astype(np.int32)).astype(np.float32)\n",
    "e = np.swapaxes(e, 0, 1)\n",
    "grid = gemmi.FloatGrid(e)"
   ]
  },
  {
   "cell_type": "code",
   "execution_count": 25,
   "metadata": {},
   "outputs": [],
   "source": [
    "grid.set_unit_cell(gemmi.UnitCell(*(new_max - new_min),90,90,90))"
   ]
  },
  {
   "cell_type": "code",
   "execution_count": 26,
   "metadata": {},
   "outputs": [],
   "source": [
    "ccp4 = gemmi.Ccp4Map()\n",
    "ccp4.grid = grid\n",
    "ccp4.grid.spacegroup = gemmi.find_spacegroup_by_name(\"P 1\")\n",
    "ccp4.update_ccp4_header()\n",
    "ccp4.set_header_i32(5, n[0].astype(np.int32)), ccp4.set_header_i32(6, n[1].astype(np.int32)), ccp4.set_header_i32(7, n[2].astype(np.int32))\n",
    "ccp4.write_ccp4_map(\"custom3.ccp4\")"
   ]
  },
  {
   "cell_type": "code",
   "execution_count": 27,
   "metadata": {},
   "outputs": [],
   "source": [
    "# volume test_vol, custom3, 0.1 blue 0.05 6 yellow 0.005 12 red 0.1"
   ]
  },
  {
   "cell_type": "code",
   "execution_count": 29,
   "metadata": {},
   "outputs": [],
   "source": [
    "values = []\n",
    "eval_values = []\n",
    "positions = []\n",
    "for i in range(len(np.array(ccp4.grid).flatten())):\n",
    "    p = ccp4.grid.index_to_point(i)\n",
    "    positions.append(ccp4.grid.point_to_position(p))\n",
    "    values.append((p.value))\n",
    "    eval_values.append(ccp4.grid.interpolate_value(positions[-1]))"
   ]
  },
  {
   "cell_type": "code",
   "execution_count": 30,
   "metadata": {},
   "outputs": [],
   "source": [
    "positions = np.array([np.array([pos.x, pos.y, pos.z]) for pos in positions])\n",
    "values = np.array(values)"
   ]
  },
  {
   "cell_type": "code",
   "execution_count": 31,
   "metadata": {},
   "outputs": [
    {
     "data": {
      "text/plain": [
       "array([[ 0.  ,  0.  ,  0.  ],\n",
       "       [ 0.25,  0.  ,  0.  ],\n",
       "       [ 0.5 ,  0.  ,  0.  ],\n",
       "       ...,\n",
       "       [ 9.75, 10.25, 10.25],\n",
       "       [10.  , 10.25, 10.25],\n",
       "       [10.25, 10.25, 10.25]])"
      ]
     },
     "execution_count": 31,
     "metadata": {},
     "output_type": "execute_result"
    }
   ],
   "source": [
    "positions"
   ]
  },
  {
   "cell_type": "code",
   "execution_count": 32,
   "metadata": {},
   "outputs": [
    {
     "name": "stderr",
     "output_type": "stream",
     "text": [
      "WARNING:root:No name provided for Collection. Using default name: Collection_1. It is highly recommended to provide meaningful names.\n",
      "WARNING:root:No name provided for mesh when creating script. Try passing a name(s) to the add function or a dictionary mapping names to the objects.\n"
     ]
    },
    {
     "data": {
      "image/png": "[encoded data removed]",
      "text/plain": [
       "<Figure size 72x432 with 1 Axes>"
      ]
     },
     "execution_count": 32,
     "metadata": {},
     "output_type": "execute_result"
    },
    {
     "data": {
      "image/png": "[encoded data removed]",
      "text/plain": [
       "<Figure size 72x432 with 1 Axes>"
      ]
     },
     "metadata": {
      "needs_background": "light"
     },
     "output_type": "display_data"
    }
   ],
   "source": [
    "p = pmv.Points(positions[values > 0.1] + new_min, values[values > 0.1], render_as_spheres=True, sphere_radius=0.05)\n",
    "p.to_script().write(\"regrid.py\")\n",
    "p.get_color_map()"
   ]
  },
  {
   "cell_type": "code",
   "execution_count": 33,
   "metadata": {},
   "outputs": [
    {
     "data": {
      "text/plain": [
       "0.0"
      ]
     },
     "execution_count": 33,
     "metadata": {},
     "output_type": "execute_result"
    }
   ],
   "source": [
    "min(values)"
   ]
  },
  {
   "cell_type": "code",
   "execution_count": 34,
   "metadata": {},
   "outputs": [
    {
     "data": {
      "text/plain": [
       "array([-5.25, -5.25, -5.25])"
      ]
     },
     "execution_count": 34,
     "metadata": {},
     "output_type": "execute_result"
    }
   ],
   "source": [
    "new_min"
   ]
  },
  {
   "cell_type": "code",
   "execution_count": 35,
   "metadata": {},
   "outputs": [
    {
     "data": {
      "text/plain": [
       "12.0"
      ]
     },
     "execution_count": 35,
     "metadata": {},
     "output_type": "execute_result"
    }
   ],
   "source": [
    "max(custom_energies)"
   ]
  },
  {
   "cell_type": "code",
   "execution_count": 36,
   "metadata": {},
   "outputs": [
    {
     "data": {
      "text/plain": [
       "array([0., 0., 0.])"
      ]
     },
     "execution_count": 36,
     "metadata": {},
     "output_type": "execute_result"
    }
   ],
   "source": [
    "np.min(positions, axis=0)"
   ]
  },
  {
   "cell_type": "code",
   "execution_count": 37,
   "metadata": {},
   "outputs": [],
   "source": [
    "map = gemmi.read_ccp4_map(\"1a00_2fofc.ccp4\")"
   ]
  },
  {
   "cell_type": "code",
   "execution_count": 38,
   "metadata": {},
   "outputs": [
    {
     "data": {
      "text/plain": [
       "(15, 78, -54)"
      ]
     },
     "execution_count": 38,
     "metadata": {},
     "output_type": "execute_result"
    }
   ],
   "source": [
    "map.header_i32(5), map.header_i32(6), map.header_i32(7)"
   ]
  },
  {
   "cell_type": "code",
   "execution_count": null,
   "metadata": {},
   "outputs": [],
   "source": []
  }
 ],
 "metadata": {
  "kernelspec": {
   "display_name": "DD_py38",
   "language": "python",
   "name": "python3"
  },
  "language_info": {
   "codemirror_mode": {
    "name": "ipython",
    "version": 3
   },
   "file_extension": ".py",
   "mimetype": "text/x-python",
   "name": "python",
   "nbconvert_exporter": "python",
   "pygments_lexer": "ipython3",
   "version": "3.8.12"
  },
  "orig_nbformat": 4
 },
 "nbformat": 4,
 "nbformat_minor": 2
}
