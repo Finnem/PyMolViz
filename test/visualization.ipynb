{
 "cells": [
  {
   "cell_type": "code",
   "execution_count": 5,
   "metadata": {},
   "outputs": [],
   "source": [
    "import pymolviz as pmv\n",
    "import pandas as pd\n",
    "import numpy as np\n",
    "import matplotlib.pyplot as plt"
   ]
  },
  {
   "cell_type": "code",
   "execution_count": 6,
   "metadata": {},
   "outputs": [],
   "source": [
    "def read_xyz(file):\n",
    "    with open(file, 'r') as f:\n",
    "        lines = f.readlines()[11:]\n",
    "    coords = []\n",
    "    for line in lines:\n",
    "        coords.append([float(x) for x in line.split()[:5]])\n",
    "    df = pd.DataFrame(coords, columns=['x', 'y', 'z', 'density', 'potential']).dropna()\n",
    "    return df"
   ]
  },
  {
   "cell_type": "code",
   "execution_count": 18,
   "metadata": {},
   "outputs": [],
   "source": [
    "## Load data\n",
    "lig = 'lig_12'\n",
    "in_path = f'../pot_den_angstrom/dir{lig}/dir{lig}.xyz'\n",
    "df = read_xyz(in_path)"
   ]
  },
  {
   "cell_type": "code",
   "execution_count": 21,
   "metadata": {},
   "outputs": [
    {
     "name": "stdout",
     "output_type": "stream",
     "text": [
      "22293\n",
      "0.99999252\n"
     ]
    },
    {
     "data": {
      "image/png": "[encoded data removed]",
      "text/plain": [
       "<Figure size 100x600 with 1 Axes>"
      ]
     },
     "metadata": {},
     "output_type": "display_data"
    }
   ],
   "source": [
    "## Potential\n",
    "\n",
    "df_pot = df[df['potential'] > 0.08] # lower limit\n",
    "df_pot = df_pot[df_pot['potential'] <= 1] # upper limit\n",
    "print(len(df_pot['potential']))\n",
    "print(max(df_pot['potential']))\n",
    "\n",
    "coords = np.array(df_pot[['x', 'y', 'z']].values)\n",
    "potential = df_pot['potential'].values\n",
    "\n",
    "points_pot = pmv.Points(coords, potential, colormap = 'rainbow')\n",
    "points_pot.to_script(f'pot_{lig}').write(f'pot_{lig}.py')\n",
    "\n",
    "fig = points_pot.get_color_map()\n",
    "fig.savefig(f'colorbar/pot_{lig}.png', bbox_inches='tight')"
   ]
  },
  {
   "cell_type": "code",
   "execution_count": 23,
   "metadata": {},
   "outputs": [
    {
     "name": "stdout",
     "output_type": "stream",
     "text": [
      "16294\n",
      "0.99512233\n"
     ]
    },
    {
     "data": {
      "image/png": "[encoded data removed]",
      "text/plain": [
       "<Figure size 100x600 with 1 Axes>"
      ]
     },
     "metadata": {},
     "output_type": "display_data"
    }
   ],
   "source": [
    "## Density\n",
    "\n",
    "df_den = df[df['density'] > 0.05] # lower limit\n",
    "df_den = df_den[df_den['density'] <= 1] # upper limit\n",
    "print(len(df_den['density']))\n",
    "print(max(df_den['density']))\n",
    "coords = np.array(df_den[['x', 'y', 'z']].values)\n",
    "density = np.array(df_den['density'].values)\n",
    "\n",
    "points_den = pmv.Points(coords, density, colormap = 'rainbow_r')\n",
    "points_den.to_script(f'density_{lig}').write(f'density_{lig}.py')\n",
    "\n",
    "fig = points_den.get_color_map()\n",
    "fig.savefig(f'colorbar/density_{lig}.png', bbox_inches='tight')"
   ]
  },
  {
   "cell_type": "code",
   "execution_count": null,
   "metadata": {},
   "outputs": [],
   "source": []
  }
 ],
 "metadata": {
  "kernelspec": {
   "display_name": "woopy",
   "language": "python",
   "name": "python3"
  },
  "language_info": {
   "codemirror_mode": {
    "name": "ipython",
    "version": 3
   },
   "file_extension": ".py",
   "mimetype": "text/x-python",
   "name": "python",
   "nbconvert_exporter": "python",
   "pygments_lexer": "ipython3",
   "version": "3.7.16"
  },
  "orig_nbformat": 4,
  "vscode": {
   "interpreter": {
    "hash": "937ba58a7bfd62ebb1b5a78e73c90ab59f04a5f3aca90612e6399c1d8b8cdf66"
   }
  }
 },
 "nbformat": 4,
 "nbformat_minor": 2
}
