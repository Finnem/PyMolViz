{
 "cells": [
  {
   "cell_type": "code",
   "execution_count": 9,
   "metadata": {},
   "outputs": [],
   "source": [
    "import pymolviz as pmv\n",
    "import numpy as np"
   ]
  },
  {
   "cell_type": "code",
   "execution_count": 10,
   "metadata": {},
   "outputs": [],
   "source": [
    "c1 = np.array([0.5, 0.5, 0.5]); r1 = 1\n",
    "c2 = np.array([0.5, 0.5, -.9]); r2 = 0.6\n",
    "\n",
    "s1 = pmv.Sphere(c1, r1, resolution=20, color=\"grey\")\n",
    "s2 = pmv.Sphere(c2, r2, color = \"grey\")\n",
    "death_start = s1.difference(s2)"
   ]
  },
  {
   "cell_type": "code",
   "execution_count": 11,
   "metadata": {},
   "outputs": [],
   "source": [
    "position = np.array([124.648, 101.059, -46.674]) - (c2 + 1 * (c2 - c1))"
   ]
  },
  {
   "cell_type": "code",
   "execution_count": 12,
   "metadata": {},
   "outputs": [],
   "source": [
    "points = np.linspace(0, 1, 10) * 2 * np.pi\n",
    "d = np.linalg.norm(c2 - c1)\n",
    "h = 1/2 + (r1 * r1 - r2 * r2)/(2 * d * d)\n",
    "c = c1 + h * (c2 - c1)\n",
    "r = np.sqrt(r1 * r1 - h * h * d * d)\n",
    "\n",
    "t = pmv.get_perp(c2 - c1)\n",
    "b = np.cross(t, c2 - c1); b = b / np.linalg.norm(b)\n",
    "\n",
    "points = c + r * np.cos(points)[:, None] * t + r * np.sin(points)[:, None] * b\n",
    "lasers = [pmv.Cylinder(start = p - 0.03 * (c2 - c1), end = c2, width = 0.01, color=\"green\") for p in points]\n",
    "lasers.append(pmv.Cylinder(start = c2, end = c2 + 1 * (c2 - c1), width = 0.01, color=\"green\"))\n",
    "lasers = pmv.Collection(lasers, name = \"Lasers\")"
   ]
  },
  {
   "cell_type": "code",
   "execution_count": 13,
   "metadata": {},
   "outputs": [],
   "source": [
    "death_start.vertices += position\n",
    "for laser in lasers.meshes:\n",
    "    laser.vertices += position"
   ]
  },
  {
   "cell_type": "code",
   "execution_count": null,
   "metadata": {},
   "outputs": [],
   "source": []
  },
  {
   "cell_type": "code",
   "execution_count": 14,
   "metadata": {},
   "outputs": [],
   "source": [
    "pmv.Script([death_start, lasers], name=[\"death_star\"]).write(\"testDeathStar.py\")"
   ]
  },
  {
   "cell_type": "code",
   "execution_count": null,
   "metadata": {},
   "outputs": [],
   "source": []
  },
  {
   "cell_type": "code",
   "execution_count": null,
   "metadata": {},
   "outputs": [],
   "source": []
  }
 ],
 "metadata": {
  "kernelspec": {
   "display_name": "DD_py38",
   "language": "python",
   "name": "python3"
  },
  "language_info": {
   "codemirror_mode": {
    "name": "ipython",
    "version": 3
   },
   "file_extension": ".py",
   "mimetype": "text/x-python",
   "name": "python",
   "nbconvert_exporter": "python",
   "pygments_lexer": "ipython3",
   "version": "3.8.12"
  },
  "orig_nbformat": 4,
  "vscode": {
   "interpreter": {
    "hash": "0fec36c6cc9fecd6772ab8fd06ffa6d80b76ac752b13c96f3aeec384733e9f4e"
   }
  }
 },
 "nbformat": 4,
 "nbformat_minor": 2
}
