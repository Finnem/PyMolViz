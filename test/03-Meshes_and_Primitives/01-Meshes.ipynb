{
 "cells": [
  {
   "cell_type": "markdown",
   "metadata": {},
   "source": [
    "# Meshes\n",
    "Meshes are a very general type of CGO, where effectively any type of 3d object can be displayed as a (triangle) mesh. Meshes connect 3 points to a face. Thus the mesh constructor takes, in addition to vertex positions and colors also sets of vertex indices which should be connected to a face. Additionally vertex normals can be passed which can be used to determine the lighting conditions of the mesh.\n",
    "\n",
    "Meshes inherit from Points, thus the coloring follows a similar scheme."
   ]
  },
  {
   "cell_type": "markdown",
   "metadata": {},
   "source": [
    "## Imports and Setup"
   ]
  },
  {
   "cell_type": "code",
   "execution_count": 21,
   "metadata": {},
   "outputs": [],
   "source": [
    "import numpy as np\n",
    "import pymolviz as pmv"
   ]
  },
  {
   "cell_type": "markdown",
   "metadata": {},
   "source": [
    "## Basic Mesh"
   ]
  },
  {
   "cell_type": "code",
   "execution_count": null,
   "metadata": {},
   "outputs": [],
   "source": []
  },
  {
   "cell_type": "code",
   "execution_count": 22,
   "metadata": {},
   "outputs": [],
   "source": [
    "# creating dummy points\n",
    "points = np.array([[0, 0, 0], [0, 0, 1], [0, 1, 0]])\n",
    "colors = np.array([\"red\", \"green\", \"blue\"])\n",
    "\n",
    "# creating a point mesh of the dummy points, rendering the points as spheres\n",
    "p = pmv.Points(points, color = colors, name =\"points\", radius = 0.05)\n",
    "\n",
    "# creating the actual mesh. As we dont know the vertex normals, we set them to 0 vectors. The faces input means, the points at index 0, 1 and 2 should be connected to create a triangle. Any color between vertices is interpolated (by PyMOLs shaders).\n",
    "m = pmv.Mesh(points, faces = [[0, 1, 2]], normals = np.zeros_like(points), color = colors, name = \"mesh\")\n",
    "\n",
    "pmv.Script([m, p]).write(\"out/test_mesh.py\")"
   ]
  },
  {
   "cell_type": "markdown",
   "metadata": {},
   "source": [
    "## Larger Mesh\n",
    "We can load meshes into PyMOL to display arbitrary objects:"
   ]
  },
  {
   "cell_type": "code",
   "execution_count": 23,
   "metadata": {},
   "outputs": [],
   "source": [
    "bunny_points = np.load('../data/Bunny.npy')\n",
    "m2 = pmv.Mesh(bunny_points, color = \"beige\", name = \"bunny\")\n",
    "m2.write(\"out/bunny.py\")"
   ]
  },
  {
   "cell_type": "code",
   "execution_count": 24,
   "metadata": {},
   "outputs": [],
   "source": [
    "bunny_points = np.load('../data/Bunny.npy')\n",
    "l = m2.to_wireframe(name = \"bunny_wireframe\")\n",
    "l.colormap = pmv.ColorMap(\"black\")\n",
    "l.write(\"out/bunny_wireframe.py\")"
   ]
  },
  {
   "cell_type": "code",
   "execution_count": 5,
   "metadata": {},
   "outputs": [
    {
     "name": "stderr",
     "output_type": "stream",
     "text": [
      "WARNING:root:No name provided for Plane. Using default name: Plane_0. It is highly recommended to provide meaningful names.\n"
     ]
    }
   ],
   "source": [
    "pmv.Plane(np.zeros(3), np.array([0, 0, 1])).write(\"plane.py\")"
   ]
  },
  {
   "cell_type": "code",
   "execution_count": 7,
   "metadata": {},
   "outputs": [
    {
     "name": "stderr",
     "output_type": "stream",
     "text": [
      "WARNING:root:No name provided for Sphere. Using default name: Sphere_0. It is highly recommended to provide meaningful names.\n"
     ]
    }
   ],
   "source": [
    "\n",
    "pmv.Sphere(np.array([2, 0, 1]), 3).write(\"sphere.py\")"
   ]
  },
  {
   "cell_type": "code",
   "execution_count": null,
   "metadata": {},
   "outputs": [],
   "source": []
  }
 ],
 "metadata": {
  "kernelspec": {
   "display_name": "DD_py38",
   "language": "python",
   "name": "python3"
  },
  "language_info": {
   "codemirror_mode": {
    "name": "ipython",
    "version": 3
   },
   "file_extension": ".py",
   "mimetype": "text/x-python",
   "name": "python",
   "nbconvert_exporter": "python",
   "pygments_lexer": "ipython3",
   "version": "3.8.12"
  },
  "orig_nbformat": 4
 },
 "nbformat": 4,
 "nbformat_minor": 2
}
