{
 "cells": [
  {
   "cell_type": "markdown",
   "metadata": {},
   "source": [
    "# Meshes\n",
    "Meshes are a very general type of CGO, where effectively any type of 3d object can be displayed as a (triangle) mesh. Meshes connect 3 points to a face. Thus the mesh constructor takes, in addition to vertex positions and colors also sets of vertex indices which should be connected to a face. Additionally vertex normals can be passed which can be used to determine the lighting conditions of the mesh.\n",
    "\n",
    "Meshes inherit from Points, thus the coloring follows a similar scheme."
   ]
  },
  {
   "cell_type": "markdown",
   "metadata": {},
   "source": [
    "## Imports and Setup"
   ]
  },
  {
   "cell_type": "code",
   "execution_count": 21,
   "metadata": {},
   "outputs": [],
   "source": [
    "import numpy as np\n",
    "import pymolviz as pmv"
   ]
  },
  {
   "cell_type": "markdown",
   "metadata": {},
   "source": [
    "## Basic Mesh"
   ]
  },
  {
   "cell_type": "code",
   "execution_count": null,
   "metadata": {},
   "outputs": [],
   "source": []
  },
  {
   "cell_type": "code",
   "execution_count": 22,
   "metadata": {},
   "outputs": [],
   "source": [
    "# creating dummy points\n",
    "points = np.array([[0, 0, 0], [0, 0, 1], [0, 1, 0]])\n",
    "colors = np.array([\"red\", \"green\", \"blue\"])\n",
    "\n",
    "# creating a point mesh of the dummy points, rendering the points as spheres\n",
    "p = pmv.Points(points, color = colors, name =\"points\", radius = 0.05)\n",
    "\n",
    "# creating the actual mesh. As we dont know the vertex normals, we set them to 0 vectors. The faces input means, the points at index 0, 1 and 2 should be connected to create a triangle. Any color between vertices is interpolated (by PyMOLs shaders).\n",
    "m = pmv.Mesh(points, faces = [[0, 1, 2]], normals = np.zeros_like(points), color = colors, name = \"mesh\")\n",
    "\n",
    "pmv.Script([m, p]).write(\"out/test_mesh.py\")"
   ]
  },
  {
   "cell_type": "markdown",
   "metadata": {},
   "source": [
    "## Larger Mesh\n",
    "We can load meshes into PyMOL to display arbitrary objects:"
   ]
  },
  {
   "cell_type": "code",
   "execution_count": 23,
   "metadata": {},
   "outputs": [],
   "source": [
    "bunny_points = np.load('../data/Bunny.npy')\n",
    "m2 = pmv.Mesh(bunny_points, color = \"beige\", name = \"bunny\")\n",
    "m2.write(\"out/bunny.py\")"
   ]
  },
  {
   "cell_type": "markdown",
   "metadata": {},
   "source": [
    "And as a wireframe:"
   ]
  },
  {
   "cell_type": "code",
   "execution_count": 24,
   "metadata": {},
   "outputs": [],
   "source": [
    "bunny_points = np.load('../data/Bunny.npy')\n",
    "l = m2.to_wireframe(name = \"bunny_wireframe\")\n",
    "l.colormap = pmv.ColorMap(\"black\")\n",
    "l.write(\"out/bunny_wireframe.py\")"
   ]
  },
  {
   "cell_type": "markdown",
   "metadata": {},
   "source": [
    "## Primitives\n",
    "PyMOLViz currently also provides the _Plane_, _Cylinder_ and _Sphere_ classes, which allow to instantiate cylinder and sphere meshes more easily."
   ]
  },
  {
   "cell_type": "code",
   "execution_count": 29,
   "metadata": {},
   "outputs": [],
   "source": [
    "start_point = np.array([1,1,1])\n",
    "\n",
    "# creating plane\n",
    "normal = np.array([1,1,-1])\n",
    "plane = pmv.Plane(start_point, normal, scale = 2, color = \"blue\", name = \"plane\")\n",
    "\n",
    "# creating sphere\n",
    "sphere = pmv.Sphere(start_point, 0.3, color = \"green\", name = \"sphere\")\n",
    "\n",
    "# joining meshes into a script\n",
    "s = pmv.Script([plane, sphere])\n",
    "s.write(\"out/primitives.py\")"
   ]
  },
  {
   "cell_type": "code",
   "execution_count": null,
   "metadata": {},
   "outputs": [],
   "source": []
  }
 ],
 "metadata": {
  "kernelspec": {
   "display_name": "DD_py38",
   "language": "python",
   "name": "python3"
  },
  "language_info": {
   "codemirror_mode": {
    "name": "ipython",
    "version": 3
   },
   "file_extension": ".py",
   "mimetype": "text/x-python",
   "name": "python",
   "nbconvert_exporter": "python",
   "pygments_lexer": "ipython3",
   "version": "3.8.12"
  },
  "orig_nbformat": 4
 },
 "nbformat": 4,
 "nbformat_minor": 2
}
