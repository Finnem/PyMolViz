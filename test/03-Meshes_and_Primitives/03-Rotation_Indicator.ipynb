{
 "cells": [
  {
   "cell_type": "code",
   "execution_count": 1,
   "metadata": {},
   "outputs": [],
   "source": [
    "import pymolviz as pmv\n",
    "import numpy as np"
   ]
  },
  {
   "cell_type": "code",
   "execution_count": 2,
   "metadata": {},
   "outputs": [],
   "source": [
    "point = np.array([1, 3, 5],dtype = float)\n",
    "axis = np.array([0, 0, 1], dtype = float)"
   ]
  },
  {
   "cell_type": "markdown",
   "metadata": {},
   "source": []
  },
  {
   "cell_type": "code",
   "execution_count": 3,
   "metadata": {},
   "outputs": [
    {
     "name": "stderr",
     "output_type": "stream",
     "text": [
      "WARNING:root:No name provided for Points. Using default name: Points_0. It is highly recommended to provide meaningful names.\n",
      "WARNING:root:No name provided for Arrows. Using default name: Arrows_0. It is highly recommended to provide meaningful names.\n",
      "WARNING:root:No name provided for Rotation_Indicator. Using default name: Rotation_Indicator_0. It is highly recommended to provide meaningful names.\n",
      "WARNING:root:No name provided for Points. Using default name: Points_1. It is highly recommended to provide meaningful names.\n"
     ]
    }
   ],
   "source": [
    "point_cgo = pmv.Points(point, color='red')\n",
    "axis_cgo = pmv.Arrows(np.hstack([point, point + axis]), color='blue')\n",
    "rotation_indicator = pmv.Rotation_Indicator(point, axis, linewith = .1)\n",
    "test_points = pmv.Points(rotation_indicator.vertices, color=\"green\", render_as=\"dots\")\n",
    "pmv.Group([point_cgo, axis_cgo, rotation_indicator, test_points], name =\"rot_indicator_test\").write(\"rot_indicator_test.py\")"
   ]
  },
  {
   "cell_type": "code",
   "execution_count": null,
   "metadata": {},
   "outputs": [],
   "source": []
  }
 ],
 "metadata": {
  "kernelspec": {
   "display_name": "DD_py38",
   "language": "python",
   "name": "python3"
  },
  "language_info": {
   "codemirror_mode": {
    "name": "ipython",
    "version": 3
   },
   "file_extension": ".py",
   "mimetype": "text/x-python",
   "name": "python",
   "nbconvert_exporter": "python",
   "pygments_lexer": "ipython3",
   "version": "3.8.12"
  }
 },
 "nbformat": 4,
 "nbformat_minor": 2
}
