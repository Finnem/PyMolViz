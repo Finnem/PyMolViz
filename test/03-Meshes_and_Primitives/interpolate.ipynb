{
 "cells": [
  {
   "cell_type": "code",
   "execution_count": 1,
   "metadata": {},
   "outputs": [],
   "source": [
    "import pymolviz as pmv\n",
    "import numpy as np"
   ]
  },
  {
   "cell_type": "code",
   "execution_count": 4,
   "metadata": {},
   "outputs": [
    {
     "name": "stderr",
     "output_type": "stream",
     "text": [
      "WARNING:root:No name provided for Points. Using default name: Points_1. It is highly recommended to provide meaningful names.\n"
     ]
    }
   ],
   "source": [
    "p = pmv.Points(np.array([[0, 0, 0], [1, 1, 1], [2, 1, 2]]), color='red', radius=0.5)\n",
    "s = p.to_surface(name =\"iterp\")\n",
    "pmv.Group([p, s], \"iterptest\").write(\"interp.py\")"
   ]
  },
  {
   "cell_type": "code",
   "execution_count": 3,
   "metadata": {},
   "outputs": [
    {
     "name": "stdout",
     "output_type": "stream",
     "text": [
      "\u001b[0;31mInit signature:\u001b[0m\n",
      "\u001b[0mpmv\u001b[0m\u001b[0;34m.\u001b[0m\u001b[0mIsoSurface\u001b[0m\u001b[0;34m(\u001b[0m\u001b[0;34m\u001b[0m\n",
      "\u001b[0;34m\u001b[0m    \u001b[0mgrid_data\u001b[0m\u001b[0;34m:\u001b[0m \u001b[0mpymolviz\u001b[0m\u001b[0;34m.\u001b[0m\u001b[0mvolumetric\u001b[0m\u001b[0;34m.\u001b[0m\u001b[0mGridData\u001b[0m\u001b[0;34m.\u001b[0m\u001b[0mGridData\u001b[0m\u001b[0;34m,\u001b[0m\u001b[0;34m\u001b[0m\n",
      "\u001b[0;34m\u001b[0m    \u001b[0mlevel\u001b[0m\u001b[0;34m:\u001b[0m \u001b[0mfloat\u001b[0m\u001b[0;34m,\u001b[0m\u001b[0;34m\u001b[0m\n",
      "\u001b[0;34m\u001b[0m    \u001b[0mname\u001b[0m\u001b[0;34m=\u001b[0m\u001b[0;32mNone\u001b[0m\u001b[0;34m,\u001b[0m\u001b[0;34m\u001b[0m\n",
      "\u001b[0;34m\u001b[0m    \u001b[0mcolor\u001b[0m\u001b[0;34m=\u001b[0m\u001b[0;32mNone\u001b[0m\u001b[0;34m,\u001b[0m\u001b[0;34m\u001b[0m\n",
      "\u001b[0;34m\u001b[0m    \u001b[0mtransparency\u001b[0m\u001b[0;34m=\u001b[0m\u001b[0;36m0\u001b[0m\u001b[0;34m,\u001b[0m\u001b[0;34m\u001b[0m\n",
      "\u001b[0;34m\u001b[0m    \u001b[0mselection\u001b[0m\u001b[0;34m=\u001b[0m\u001b[0;34m''\u001b[0m\u001b[0;34m,\u001b[0m\u001b[0;34m\u001b[0m\n",
      "\u001b[0;34m\u001b[0m    \u001b[0mcarve\u001b[0m\u001b[0;34m=\u001b[0m\u001b[0;32mNone\u001b[0m\u001b[0;34m,\u001b[0m\u001b[0;34m\u001b[0m\n",
      "\u001b[0;34m\u001b[0m    \u001b[0mside\u001b[0m\u001b[0;34m=\u001b[0m\u001b[0;36m1\u001b[0m\u001b[0;34m,\u001b[0m\u001b[0;34m\u001b[0m\n",
      "\u001b[0;34m\u001b[0m\u001b[0;34m)\u001b[0m\u001b[0;34m\u001b[0m\u001b[0;34m\u001b[0m\u001b[0m\n",
      "\u001b[0;31mDocstring:\u001b[0m     \n",
      "Base class for all objects that can be displayed in PyMol.\n",
      "\n",
      "\n",
      "Attributes:\n",
      "    name (str): Optional. Defaults to None. The name of the object.\n",
      "    dependencies (list): Optional. Defaults to None. A list of objects that this object depends on. If any of the dependencies changes, this object will be updated.\n",
      "\u001b[0;31mInit docstring:\u001b[0m\n",
      "Computes and collects pymol commands to load in regular data and display an iso mesh at the given level.\n",
      "Note that, since this is based on volumetric data it is different from the pmv.Mesh class.\n",
      "\n",
      "Args:\n",
      "    grid_data (pymolviz.GridData): The data to use for the iso surface.\n",
      "    level (float): The level at which to display the iso surface.\n",
      "    name (str): Optional. Defaults to None. The name of the object.\n",
      "    color (str or list of float): Optional. Defaults to None. The color of the object.\n",
      "    transparency (float): Optional. Defaults to 0. The transparency value of the object.\n",
      "    selection (str): Optional. Defaults to None. The selection to use.\n",
      "    carve (float): Optional. Defaults to None. The carve value to use.\n",
      "    side (int): Optional. Defaults to 1. The side to use.\n",
      "    \n",
      "\u001b[0;31mFile:\u001b[0m           ~/Workspace/Python_Libraries/PyMolViz/module/pymolviz/volumetric/IsoSurface.py\n",
      "\u001b[0;31mType:\u001b[0m           type\n",
      "\u001b[0;31mSubclasses:\u001b[0m     IsoMesh\n"
     ]
    }
   ],
   "source": [
    "pmv.IsoSurface?"
   ]
  },
  {
   "cell_type": "code",
   "execution_count": null,
   "metadata": {},
   "outputs": [],
   "source": []
  }
 ],
 "metadata": {
  "kernelspec": {
   "display_name": "DD_py38",
   "language": "python",
   "name": "python3"
  },
  "language_info": {
   "codemirror_mode": {
    "name": "ipython",
    "version": 3
   },
   "file_extension": ".py",
   "mimetype": "text/x-python",
   "name": "python",
   "nbconvert_exporter": "python",
   "pygments_lexer": "ipython3",
   "version": "3.8.12"
  }
 },
 "nbformat": 4,
 "nbformat_minor": 2
}
