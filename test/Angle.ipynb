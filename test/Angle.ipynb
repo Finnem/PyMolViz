{
 "cells": [
  {
   "cell_type": "markdown",
   "metadata": {},
   "source": []
  },
  {
   "cell_type": "code",
   "execution_count": 2,
   "metadata": {},
   "outputs": [],
   "source": [
    "import pymolviz as pmv\n",
    "import numpy as np"
   ]
  },
  {
   "cell_type": "markdown",
   "metadata": {},
   "source": []
  },
  {
   "cell_type": "markdown",
   "metadata": {},
   "source": []
  },
  {
   "cell_type": "code",
   "execution_count": 3,
   "metadata": {},
   "outputs": [
    {
     "name": "stderr",
     "output_type": "stream",
     "text": [
      "WARNING:root:No name provided for Collection. Using default name: Collection_0. It is highly recommended to provide meaningful names.\n"
     ]
    },
    {
     "name": "stdout",
     "output_type": "stream",
     "text": [
      "[0.  0.  0.  1.  1.  1.  1.  0.5 0.2 0.2 1.  2. ]\n"
     ]
    }
   ],
   "source": [
    "l1 = np.array([0,0,0, 1,1,1])\n",
    "l2 = np.array([1,0.5,0.2, .2,1,2])\n",
    "l3 = np.array([0,1,2, 1,2,3]) \n",
    "l1 = pmv.Lines([l1], color = [\"blue\", \"yellow\"], linewidth = 5)\n",
    "l2 = pmv.Lines([l2], color = [\"red\", \"green\"], linewidth = 5)\n",
    "test = pmv.Mesh.combine([l1, l2])\n",
    "angle_collection = test.angle_mesh(colors=[0,3], clims = (-1, 5))"
   ]
  },
  {
   "cell_type": "code",
   "execution_count": 4,
   "metadata": {},
   "outputs": [],
   "source": [
    "test_cylinder = pmv.Cylinder([0,0,0], [1,1,1], .1, 1, clims = (0,3),resolution = 100)"
   ]
  },
  {
   "cell_type": "code",
   "execution_count": 5,
   "metadata": {},
   "outputs": [
    {
     "data": {
      "text/plain": [
       "False"
      ]
     },
     "execution_count": 5,
     "metadata": {},
     "output_type": "execute_result"
    }
   ],
   "source": [
    "hasattr(test_cylinder, \"clims\")"
   ]
  },
  {
   "cell_type": "code",
   "execution_count": 4,
   "metadata": {},
   "outputs": [
    {
     "name": "stderr",
     "output_type": "stream",
     "text": [
      "WARNING:root:No name provided for Collection. Using default name: Collection_1. It is highly recommended to provide meaningful names.\n",
      "WARNING:root:No name provided for mesh when creating script. Try passing a name(s) to the add function or a dictionary mapping names to the objects.\n"
     ]
    }
   ],
   "source": [
    "line_collections = pmv.Collection([test], f\"lines\")\n",
    "script = pmv.Script([test_cylinder, angle_collection])\n",
    "script.write(\"testLines.py\")"
   ]
  },
  {
   "cell_type": "code",
   "execution_count": null,
   "metadata": {},
   "outputs": [],
   "source": []
  },
  {
   "cell_type": "code",
   "execution_count": null,
   "metadata": {},
   "outputs": [],
   "source": []
  }
 ],
 "metadata": {
  "kernelspec": {
   "display_name": "DD_py38",
   "language": "python",
   "name": "python3"
  },
  "language_info": {
   "codemirror_mode": {
    "name": "ipython",
    "version": 3
   },
   "file_extension": ".py",
   "mimetype": "text/x-python",
   "name": "python",
   "nbconvert_exporter": "python",
   "pygments_lexer": "ipython3",
   "version": "3.8.12"
  },
  "orig_nbformat": 4,
  "vscode": {
   "interpreter": {
    "hash": "0fec36c6cc9fecd6772ab8fd06ffa6d80b76ac752b13c96f3aeec384733e9f4e"
   }
  }
 },
 "nbformat": 4,
 "nbformat_minor": 2
}
