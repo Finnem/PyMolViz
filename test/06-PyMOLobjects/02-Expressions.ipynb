{
 "cells": [
  {
   "cell_type": "markdown",
   "metadata": {},
   "source": [
    "# Expressions\n",
    "While PyMolViz currently does not support loading molecules directly, it is possible to color by arbitrary expressions in PyMOL. Here we will load in a trajectory file and color each molecule by its computed energy."
   ]
  },
  {
   "cell_type": "markdown",
   "metadata": {},
   "source": [
    "## Imports and Setup"
   ]
  },
  {
   "cell_type": "code",
   "execution_count": 1,
   "metadata": {},
   "outputs": [],
   "source": [
    "import numpy as np\n",
    "import pymolviz as pmv\n",
    "from rdkit import Chem"
   ]
  },
  {
   "cell_type": "markdown",
   "metadata": {},
   "source": [
    "## Reading in molecules and extracting energies\n",
    "First we read in our example file:"
   ]
  },
  {
   "cell_type": "code",
   "execution_count": 2,
   "metadata": {},
   "outputs": [],
   "source": [
    "mol_name = \"82_trj_wE\"\n",
    "mols = Chem.SDMolSupplier(f\"../data/{mol_name}.sdf\")"
   ]
  },
  {
   "cell_type": "code",
   "execution_count": 3,
   "metadata": {},
   "outputs": [],
   "source": [
    "energies = [mol.GetDoubleProp(\"energy\") for mol in mols]"
   ]
  },
  {
   "cell_type": "markdown",
   "metadata": {},
   "source": [
    "## Creating the Expressions\n",
    "We want to color the carbon atoms of the molcules by the energy."
   ]
  },
  {
   "cell_type": "code",
   "execution_count": 4,
   "metadata": {},
   "outputs": [
    {
     "data": {
      "text/plain": [
       "['82_trj_wE and e. C and state 1',\n",
       " '82_trj_wE and e. C and state 2',\n",
       " '82_trj_wE and e. C and state 3',\n",
       " '82_trj_wE and e. C and state 4',\n",
       " '82_trj_wE and e. C and state 5',\n",
       " '82_trj_wE and e. C and state 6',\n",
       " '82_trj_wE and e. C and state 7',\n",
       " '82_trj_wE and e. C and state 8',\n",
       " '82_trj_wE and e. C and state 9',\n",
       " '82_trj_wE and e. C and state 10']"
      ]
     },
     "execution_count": 4,
     "metadata": {},
     "output_type": "execute_result"
    }
   ],
   "source": [
    "expressions = [f\"{mol_name} and e. C and state {i + 1}\" for i in range(len(mols))]\n",
    "expressions"
   ]
  },
  {
   "cell_type": "markdown",
   "metadata": {},
   "source": [
    "Then we create the Expressions object and write it to a script:"
   ]
  },
  {
   "cell_type": "code",
   "execution_count": 5,
   "metadata": {},
   "outputs": [],
   "source": [
    "expr = pmv.Expressions(expressions, energies)\n",
    "labels = [pmv.Labels([0.7, 0.87], f\"{energies[i]:.3f} kJ/mol\", fixed=True, name = \"Energy Display\", state=i + 1, size = 32) for i in range(len(energies))]\n",
    "pmv.Script([expr, expr.colormap, *labels]).write(f\"out/{mol_name}_coloring.py\")"
   ]
  },
  {
   "cell_type": "code",
   "execution_count": null,
   "metadata": {},
   "outputs": [],
   "source": []
  }
 ],
 "metadata": {
  "kernelspec": {
   "display_name": "DD_py38",
   "language": "python",
   "name": "python3"
  },
  "language_info": {
   "codemirror_mode": {
    "name": "ipython",
    "version": 3
   },
   "file_extension": ".py",
   "mimetype": "text/x-python",
   "name": "python",
   "nbconvert_exporter": "python",
   "pygments_lexer": "ipython3",
   "version": "3.8.12"
  },
  "orig_nbformat": 4
 },
 "nbformat": 4,
 "nbformat_minor": 2
}
