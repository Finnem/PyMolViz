{
 "cells": [
  {
   "cell_type": "markdown",
   "metadata": {},
   "source": [
    "# Points\n",
    "One of the most common use-cases for fast visualization is to quickly show multiple points in PyMol. While this can also be done using pseudo-atoms, a CGO representation is more performant.\n",
    "\n",
    "PyMolViz additionally allows to quickly color any points by given values, automatically normalizing and assigning colors from a given colormap."
   ]
  },
  {
   "cell_type": "markdown",
   "metadata": {},
   "source": [
    "## Imports and Setup"
   ]
  },
  {
   "cell_type": "code",
   "execution_count": 25,
   "metadata": {},
   "outputs": [],
   "source": [
    "import numpy as np\n",
    "import pymolviz as pmv"
   ]
  },
  {
   "cell_type": "markdown",
   "metadata": {},
   "source": [
    "## Basic points\n",
    "We can create basic points as in the introduction."
   ]
  },
  {
   "cell_type": "code",
   "execution_count": 26,
   "metadata": {},
   "outputs": [],
   "source": [
    "vertices = np.random.rand(10,3) * 10\n",
    "p = pmv.Points(vertices, color = \"red\", name = \"basic_points\")"
   ]
  },
  {
   "cell_type": "code",
   "execution_count": 27,
   "metadata": {},
   "outputs": [],
   "source": [
    "p.write(\"out/basic_points.py\")"
   ]
  },
  {
   "cell_type": "markdown",
   "metadata": {},
   "source": [
    "## Render Types\n",
    "Points can be rendered as spheres or as points. The default is spheres."
   ]
  },
  {
   "cell_type": "code",
   "execution_count": 28,
   "metadata": {},
   "outputs": [],
   "source": [
    "p2 = pmv.Points(vertices, render_as=\"Dots\", name = \"dot_points\")\n",
    "p2.write(\"out/dot_points.py\")"
   ]
  },
  {
   "cell_type": "markdown",
   "metadata": {},
   "source": [
    "When rendering as spheres you can change the radius:"
   ]
  },
  {
   "cell_type": "code",
   "execution_count": 29,
   "metadata": {},
   "outputs": [],
   "source": [
    "p3 = pmv.Points(vertices, radius = 1, name = \"larger_points\")\n",
    "p3.write(\"out/larger_points.py\")"
   ]
  },
  {
   "cell_type": "markdown",
   "metadata": {},
   "source": [
    "## Color by value\n",
    "We can pass values to the color argument to automatically color the points by those values."
   ]
  },
  {
   "cell_type": "code",
   "execution_count": 16,
   "metadata": {},
   "outputs": [],
   "source": [
    "values = np.linalg.norm(vertices, axis = 1)\n",
    "p4 = pmv.Points(vertices, color = values, name = \"colored_points\")\n",
    "p4.write(\"out/colored_points.py\")"
   ]
  },
  {
   "cell_type": "markdown",
   "metadata": {},
   "source": [
    "The used colormap can be changed via the _colormap_ keyword."
   ]
  },
  {
   "cell_type": "code",
   "execution_count": 17,
   "metadata": {},
   "outputs": [],
   "source": [
    "p5 = pmv.Points(vertices, color = values, name = \"viridis_points\", colormap=\"viridis\")\n",
    "p5.write(\"out/viridis_points.py\")"
   ]
  },
  {
   "cell_type": "markdown",
   "metadata": {},
   "source": [
    "## Custom Colormaps\n",
    "Sometimes you want to control how colors are inferred by changing the colormap. While colormaps are explained in more detail in a different notebook, here is a quick example of how to create a custom colormap. First we read in example data:"
   ]
  },
  {
   "cell_type": "code",
   "execution_count": 34,
   "metadata": {},
   "outputs": [],
   "source": [
    "data = pmv.GridData.from_xyz(\"../data/td.xyz\")\n",
    "values = data.values\n",
    "vertices = data.get_positions()\n",
    "vertices = vertices[values > 1e-2]; values = values[values > 1e-2]\n",
    "p6 = pmv.Points(vertices, color = values, render_as=\"Dots\", name = \"td_points\")\n",
    "p6.write(\"out/td_points.py\")"
   ]
  },
  {
   "cell_type": "code",
   "execution_count": 33,
   "metadata": {},
   "outputs": [],
   "source": [
    "\n",
    "p6 = pmv.Points(vertices, color = values, render_as=\"Dots\", name = \"td_points\", colormap = pmv.ColorMap([0, 0.5]))\n",
    "p6.write(\"out/td_points.py\")"
   ]
  }
 ],
 "metadata": {
  "kernelspec": {
   "display_name": "DD_py38",
   "language": "python",
   "name": "python3"
  },
  "language_info": {
   "codemirror_mode": {
    "name": "ipython",
    "version": 3
   },
   "file_extension": ".py",
   "mimetype": "text/x-python",
   "name": "python",
   "nbconvert_exporter": "python",
   "pygments_lexer": "ipython3",
   "version": "3.8.12"
  },
  "orig_nbformat": 4
 },
 "nbformat": 4,
 "nbformat_minor": 2
}
