{
 "cells": [
  {
   "cell_type": "markdown",
   "metadata": {},
   "source": [
    "# Pseudoatoms\n",
    "In order to interact with points using the PyMOL GUI it can be useful to instead use PseudoAtoms or to convert a set of pymolviz Points to Pseudoatoms."
   ]
  },
  {
   "cell_type": "markdown",
   "metadata": {},
   "source": [
    "## Imports and Setup"
   ]
  },
  {
   "cell_type": "code",
   "execution_count": 1,
   "metadata": {},
   "outputs": [],
   "source": [
    "import numpy as np\n",
    "import pymolviz as pmv"
   ]
  },
  {
   "cell_type": "markdown",
   "metadata": {},
   "source": [
    "## Basic points\n",
    "We can create basic points as in the introduction."
   ]
  },
  {
   "cell_type": "code",
   "execution_count": 2,
   "metadata": {},
   "outputs": [],
   "source": [
    "vertices = np.random.rand(10,3) * 10\n",
    "p = pmv.PseudoAtoms(vertices, color = \"red\", name = \"basic_pseudoatoms\")"
   ]
  },
  {
   "cell_type": "code",
   "execution_count": 3,
   "metadata": {},
   "outputs": [],
   "source": [
    "p.write(\"out/basic_pseudoatoms.py\")"
   ]
  },
  {
   "cell_type": "markdown",
   "metadata": {},
   "source": [
    "## Color by value\n",
    "We can pass values to the color argument to automatically color the points by those values."
   ]
  },
  {
   "cell_type": "code",
   "execution_count": 4,
   "metadata": {},
   "outputs": [],
   "source": [
    "values = np.linalg.norm(vertices, axis = 1)\n",
    "p4 = pmv.PseudoAtoms(vertices, color = values, name = \"colored_pseudoatoms\")\n",
    "p4.write(\"out/colored_pseudoatoms.py\")"
   ]
  },
  {
   "cell_type": "markdown",
   "metadata": {},
   "source": [
    "The used colormap can be changed via the _colormap_ keyword."
   ]
  },
  {
   "cell_type": "code",
   "execution_count": 5,
   "metadata": {},
   "outputs": [],
   "source": [
    "p5 = pmv.PseudoAtoms(vertices, color = values, name = \"viridis_pseudoatoms\", colormap=\"viridis\")\n",
    "p5.write(\"out/viridis_pseudoatoms.py\")"
   ]
  },
  {
   "cell_type": "code",
   "execution_count": 6,
   "metadata": {},
   "outputs": [],
   "source": [
    "p6 = pmv.Points(vertices, color = values, name = \"viridis_pseudoatoms2\", colormap=\"viridis\")\n",
    "p6.as_pseudoatoms().write(\"out/from_points_pseudoatoms.py\")"
   ]
  },
  {
   "cell_type": "code",
   "execution_count": null,
   "metadata": {},
   "outputs": [],
   "source": []
  }
 ],
 "metadata": {
  "kernelspec": {
   "display_name": "DD_py38",
   "language": "python",
   "name": "python3"
  },
  "language_info": {
   "codemirror_mode": {
    "name": "ipython",
    "version": 3
   },
   "file_extension": ".py",
   "mimetype": "text/x-python",
   "name": "python",
   "nbconvert_exporter": "python",
   "pygments_lexer": "ipython3",
   "version": "3.8.12"
  },
  "orig_nbformat": 4
 },
 "nbformat": 4,
 "nbformat_minor": 2
}
