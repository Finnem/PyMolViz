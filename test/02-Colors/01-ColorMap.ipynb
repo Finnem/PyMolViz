{
 "cells": [
  {
   "cell_type": "markdown",
   "metadata": {},
   "source": [
    "# ColorMap\n",
    "One of the most reoccuring tasks is to apply a colormap to a set of values. In order to simplify this as much as possible, PyMolViz has implemented an auxiliary ColorMap class which automatically tries to gracefully interpret different types of input:\n",
    "\n",
    "**Single Color Input**\n",
    "Sometimes instead of a color for every point / line / mesh, you just want a single color (this is in fact the default if no color is passed). For this the colormap can be passed only a single color and will assign this color to any value that is passed to it.\n",
    "Single Color Inputs can be:\n",
    "* A colors name\n",
    "* An elements name (which then gets converted based on pymols element colors)\n",
    "* An array-like with 3 or 4 entries as rgb (a), either indicating values as float between 0 and 1 or as integer between 0 and 255.\n",
    "\n",
    "**Multiple Color Input**\n",
    "The more interesting case is if you want to assing different colors to different values. For this the ColorMap class can infer the colormap scaling from a set of values passed to it. In this case the passed *colormap* keyword is used to infer the colormaps colors. Alternatively if a list of single colors (see above) is passed to it, it will map each index to the corresponding color.\n",
    "Multiple Color Inputs can be:\n",
    "* An array-like containing float-like values (colors are taken from a matplotlib colormap corresponding to the passed *colormap* argument. Defaults to *\"RdYlBu_r\"*.)\n",
    "* An array-like containing single colors (see above)\n",
    "\n",
    "**Linear Segmented Color Input**\n",
    "If you want to assign certain colors to certain values, you can pass a list of tuples to the ColorMap, with each tuple (value, color) containing the value and the corresponding single color (see above).\n",
    "Alternatively tuples of (value, color_value) pairs can be passed. In this case color_value may be a float between 0 and 1 or an integer between 0 and 255 indicating the color based on the passed *colormap* keyword.\n",
    "Linear Segmented Color Inputs can be:\n",
    "* An array-like containing tuples of (float-like, single color (see above)).\n",
    "* An array-like containing tupes of (float-like, color-indicator) with color-indicator being a float between 0 and 1. The colors are then determined by passing the color-indicator to the matplotlib colormap corresponding to the passed *colormap* argument (Defaults to *\"RdYlBu_r\"*).\n"
   ]
  },
  {
   "cell_type": "markdown",
   "metadata": {},
   "source": [
    "## Setup & Imports"
   ]
  },
  {
   "cell_type": "code",
   "execution_count": 1,
   "metadata": {},
   "outputs": [],
   "source": [
    "import numpy as np\n",
    "import pymolviz as pmv\n",
    "import matplotlib.pyplot as plt\n",
    "plt.rcParams['figure.figsize'] = [10, 1]"
   ]
  },
  {
   "cell_type": "markdown",
   "metadata": {},
   "source": [
    "In order to get some idea of how the colormap performs, we define a function which plots given points with the color assigned by the colormap. Additionally the function shows the colorbar associated with the colormap."
   ]
  },
  {
   "cell_type": "code",
   "execution_count": 2,
   "metadata": {},
   "outputs": [],
   "source": [
    "def plot_colors(cmap, x):\n",
    "    # plotting given points\n",
    "    print(f\"{x=}\")\n",
    "    test_colors = cmap.get_color(x)\n",
    "    print(\"\\n\\nColored points:\")\n",
    "    plt.scatter(x, np.full_like(x, 0.5), color = test_colors)\n",
    "    plt.show()\n",
    "\n",
    "    #plotting the colorbar\n",
    "    print(\"Colorbar:\")\n",
    "    cmap.get_figure(orientation = \"horizontal\", figsize=(10, 1))"
   ]
  },
  {
   "cell_type": "markdown",
   "metadata": {},
   "source": [
    "## Single Color Inputs\n",
    "First we will test the single color inputs.\n",
    "In order to test them, we create the colormap and then pass 10 random values and plot the values with the assigned colors."
   ]
  },
  {
   "cell_type": "markdown",
   "metadata": {},
   "source": [
    "#### Color Name\n",
    "For a test we pass \"red\" as a color name."
   ]
  },
  {
   "cell_type": "code",
   "execution_count": 3,
   "metadata": {},
   "outputs": [
    {
     "name": "stdout",
     "output_type": "stream",
     "text": [
      "x=array([1.83009336, 7.69121663, 9.18675573, 1.4182859 , 8.26856302,\n",
      "       3.02653656, 5.58897402, 5.57697122, 2.08848639, 6.15484909])\n",
      "\n",
      "\n",
      "Colored points:\n"
     ]
    },
    {
     "data": {
      "image/png": "[encoded data removed]",
      "text/plain": [
       "<Figure size 720x72 with 1 Axes>"
      ]
     },
     "metadata": {
      "needs_background": "light"
     },
     "output_type": "display_data"
    },
    {
     "name": "stdout",
     "output_type": "stream",
     "text": [
      "Colorbar:\n"
     ]
    },
    {
     "data": {
      "image/png": "[encoded data removed]",
      "text/plain": [
       "<Figure size 720x72 with 1 Axes>"
      ]
     },
     "metadata": {
      "needs_background": "light"
     },
     "output_type": "display_data"
    }
   ],
   "source": [
    "cmap = pmv.ColorMap(\"red\")\n",
    "plot_colors(cmap, np.random.rand(10) * 10)\n",
    "    "
   ]
  },
  {
   "cell_type": "markdown",
   "metadata": {},
   "source": [
    "#### Element Name\n",
    "For a test we pass \"I\" as an element name."
   ]
  },
  {
   "cell_type": "code",
   "execution_count": 4,
   "metadata": {},
   "outputs": [
    {
     "name": "stdout",
     "output_type": "stream",
     "text": [
      "x=array([5.39023571, 2.44979008, 9.99402871, 5.12161144, 7.9853746 ,\n",
      "       9.1340363 , 5.56479233, 8.40704813, 7.18535759, 9.29372679])\n",
      "\n",
      "\n",
      "Colored points:\n"
     ]
    },
    {
     "data": {
      "image/png": "[encoded data removed]",
      "text/plain": [
       "<Figure size 720x72 with 1 Axes>"
      ]
     },
     "metadata": {
      "needs_background": "light"
     },
     "output_type": "display_data"
    },
    {
     "name": "stdout",
     "output_type": "stream",
     "text": [
      "Colorbar:\n"
     ]
    },
    {
     "data": {
      "image/png": "[encoded data removed]",
      "text/plain": [
       "<Figure size 720x72 with 1 Axes>"
      ]
     },
     "metadata": {
      "needs_background": "light"
     },
     "output_type": "display_data"
    }
   ],
   "source": [
    "cmap = pmv.ColorMap(\"I\")\n",
    "plot_colors(cmap, np.random.rand(10) * 10)"
   ]
  },
  {
   "cell_type": "markdown",
   "metadata": {},
   "source": [
    "#### Single RGB(A) Values\n",
    "As examples we pass (0.1, 0.9, 0.5), (105, 55, 10), and (0.4, 1, 0.9, 0.6)."
   ]
  },
  {
   "cell_type": "markdown",
   "metadata": {},
   "source": [
    "#### **Disambiguation between rgba values and multiple color input with color inference from values.**\n",
    "In rare cases you might want to pass 3 or 4 values not as a color but as values to infer a color from. While the ColorMap class defaults to the single color case, it is best to differentiate here with the *values_are_single_color* keyword."
   ]
  },
  {
   "cell_type": "code",
   "execution_count": 5,
   "metadata": {},
   "outputs": [
    {
     "name": "stderr",
     "output_type": "stream",
     "text": [
      "WARNING:root:Interpreted 3 values as a single color. If you intended them to be values to extrapolate from, set values_are_single_color to False. If you intended them to be a color, set values_are_single_color to True to suppress this warning.\n"
     ]
    },
    {
     "name": "stdout",
     "output_type": "stream",
     "text": [
      "x=array([4.19048788, 0.84121165, 3.27874539, 6.21175217, 0.34944734,\n",
      "       7.71958924, 5.38933282, 2.03586969, 9.29605819, 3.85197517])\n",
      "\n",
      "\n",
      "Colored points:\n"
     ]
    },
    {
     "data": {
      "image/png": "[encoded data removed]",
      "text/plain": [
       "<Figure size 720x72 with 1 Axes>"
      ]
     },
     "metadata": {
      "needs_background": "light"
     },
     "output_type": "display_data"
    },
    {
     "name": "stdout",
     "output_type": "stream",
     "text": [
      "Colorbar:\n"
     ]
    },
    {
     "data": {
      "image/png": "[encoded data removed]",
      "text/plain": [
       "<Figure size 720x72 with 1 Axes>"
      ]
     },
     "metadata": {
      "needs_background": "light"
     },
     "output_type": "display_data"
    }
   ],
   "source": [
    "cmap = pmv.ColorMap([0.1, 0.9, 0.5])\n",
    "plot_colors(cmap, np.random.rand(10) * 10)"
   ]
  },
  {
   "cell_type": "code",
   "execution_count": 6,
   "metadata": {},
   "outputs": [
    {
     "name": "stdout",
     "output_type": "stream",
     "text": [
      "x=array([6.46234285, 6.87423573, 9.50103915, 3.14438876, 7.1177577 ,\n",
      "       5.88776443, 3.38726092, 3.36233011, 1.62252727, 1.10037292])\n",
      "\n",
      "\n",
      "Colored points:\n"
     ]
    },
    {
     "data": {
      "image/png": "[encoded data removed]",
      "text/plain": [
       "<Figure size 720x72 with 1 Axes>"
      ]
     },
     "metadata": {
      "needs_background": "light"
     },
     "output_type": "display_data"
    },
    {
     "name": "stdout",
     "output_type": "stream",
     "text": [
      "Colorbar:\n"
     ]
    },
    {
     "data": {
      "image/png": "[encoded data removed]",
      "text/plain": [
       "<Figure size 720x72 with 1 Axes>"
      ]
     },
     "metadata": {
      "needs_background": "light"
     },
     "output_type": "display_data"
    }
   ],
   "source": [
    "cmap = pmv.ColorMap([105, 55, 10], values_are_single_color=True)\n",
    "plot_colors(cmap, np.random.rand(10) * 10)"
   ]
  },
  {
   "cell_type": "code",
   "execution_count": 7,
   "metadata": {},
   "outputs": [
    {
     "name": "stdout",
     "output_type": "stream",
     "text": [
      "x=array([9.87263892, 2.75395064, 5.14867925, 3.65135013, 7.20666002,\n",
      "       5.9565412 , 7.37328069, 0.12737065, 9.5488124 , 9.39830768])\n",
      "\n",
      "\n",
      "Colored points:\n"
     ]
    },
    {
     "data": {
      "image/png": "[encoded data removed]",
      "text/plain": [
       "<Figure size 720x72 with 1 Axes>"
      ]
     },
     "metadata": {
      "needs_background": "light"
     },
     "output_type": "display_data"
    },
    {
     "name": "stdout",
     "output_type": "stream",
     "text": [
      "Colorbar:\n"
     ]
    },
    {
     "data": {
      "image/png": "[encoded data removed]",
      "text/plain": [
       "<Figure size 720x72 with 1 Axes>"
      ]
     },
     "metadata": {
      "needs_background": "light"
     },
     "output_type": "display_data"
    }
   ],
   "source": [
    "cmap = pmv.ColorMap((0.4, 1, 0.9, 0.6), values_are_single_color=True)\n",
    "plot_colors(cmap, np.random.rand(10) * 10)"
   ]
  },
  {
   "cell_type": "markdown",
   "metadata": {},
   "source": [
    "## Multi Color Inputs\n",
    "Next we will test the multi-color inputs.\n",
    "In order to test them, we create the colormap and then pass 10 random values and plot the values with the assigned colors."
   ]
  },
  {
   "cell_type": "markdown",
   "metadata": {},
   "source": [
    "#### Color Inference from values\n",
    "In the following examples colors are inferred from passed values. Note that in this case the colormap argument is important. Additionally, only the minimum and maximum values of the passed value actually have an impact on the colormap."
   ]
  },
  {
   "cell_type": "code",
   "execution_count": 8,
   "metadata": {},
   "outputs": [
    {
     "name": "stdout",
     "output_type": "stream",
     "text": [
      "x=array([5.26898499, 9.01666428, 5.84726948, 0.79485336, 2.01609534,\n",
      "       4.11070588, 1.24522499, 1.65412333, 9.38136022, 8.10157045])\n",
      "\n",
      "\n",
      "Colored points:\n"
     ]
    },
    {
     "data": {
      "image/png": "[encoded data removed]",
      "text/plain": [
       "<Figure size 720x72 with 1 Axes>"
      ]
     },
     "metadata": {
      "needs_background": "light"
     },
     "output_type": "display_data"
    },
    {
     "name": "stdout",
     "output_type": "stream",
     "text": [
      "Colorbar:\n"
     ]
    },
    {
     "data": {
      "image/png": "[encoded data removed]",
      "text/plain": [
       "<Figure size 720x72 with 1 Axes>"
      ]
     },
     "metadata": {
      "needs_background": "light"
     },
     "output_type": "display_data"
    }
   ],
   "source": [
    "values = np.random.rand(10) * 10\n",
    "cmap = pmv.ColorMap(values)\n",
    "plot_colors(cmap, values)"
   ]
  },
  {
   "cell_type": "code",
   "execution_count": 9,
   "metadata": {},
   "outputs": [
    {
     "name": "stdout",
     "output_type": "stream",
     "text": [
      "x=array([3.95551766, 8.05518136, 1.13305241, 5.78001007, 3.70059064,\n",
      "       9.14828999, 4.49479077, 7.06858694, 4.54923097, 0.12274724])\n",
      "\n",
      "\n",
      "Colored points:\n"
     ]
    },
    {
     "data": {
      "image/png": "[encoded data removed]",
      "text/plain": [
       "<Figure size 720x72 with 1 Axes>"
      ]
     },
     "metadata": {
      "needs_background": "light"
     },
     "output_type": "display_data"
    },
    {
     "name": "stdout",
     "output_type": "stream",
     "text": [
      "Colorbar:\n"
     ]
    },
    {
     "data": {
      "image/png": "[encoded data removed]",
      "text/plain": [
       "<Figure size 720x72 with 1 Axes>"
      ]
     },
     "metadata": {
      "needs_background": "light"
     },
     "output_type": "display_data"
    }
   ],
   "source": [
    "values = np.random.rand(10) * 10\n",
    "cmap = pmv.ColorMap(values, colormap=\"viridis\")\n",
    "plot_colors(cmap, values)"
   ]
  },
  {
   "cell_type": "markdown",
   "metadata": {},
   "source": [
    "#### **Disambiguation between rgba values and multiple color input with color inference from values.**\n",
    "In rare cases you might want to pass 3 or 4 values not as a color but as values to infer a color from. While the ColorMap class defaults to the single color case, it is best to differentiate here with the *values_are_single_color* keyword."
   ]
  },
  {
   "cell_type": "code",
   "execution_count": 10,
   "metadata": {},
   "outputs": [
    {
     "name": "stderr",
     "output_type": "stream",
     "text": [
      "WARNING:root:Interpreted 3 values as a single color. If you intended them to be values to extrapolate from, set values_are_single_color to False. If you intended them to be a color, set values_are_single_color to True to suppress this warning.\n"
     ]
    },
    {
     "name": "stdout",
     "output_type": "stream",
     "text": [
      "===== Without values_are_single_color =====\n",
      "x=array([0.63182111, 0.99041219, 0.12133185])\n",
      "\n",
      "\n",
      "Colored points:\n"
     ]
    },
    {
     "data": {
      "image/png": "[encoded data removed]",
      "text/plain": [
       "<Figure size 720x72 with 1 Axes>"
      ]
     },
     "metadata": {
      "needs_background": "light"
     },
     "output_type": "display_data"
    },
    {
     "name": "stdout",
     "output_type": "stream",
     "text": [
      "Colorbar:\n"
     ]
    },
    {
     "data": {
      "image/png": "[encoded data removed]",
      "text/plain": [
       "<Figure size 720x72 with 1 Axes>"
      ]
     },
     "metadata": {
      "needs_background": "light"
     },
     "output_type": "display_data"
    }
   ],
   "source": [
    "values = np.random.rand(3)\n",
    "print(\"===== Without values_are_single_color =====\")\n",
    "cmap = pmv.ColorMap(values, colormap=\"viridis\")\n",
    "plot_colors(cmap, values)\n"
   ]
  },
  {
   "cell_type": "code",
   "execution_count": 11,
   "metadata": {},
   "outputs": [
    {
     "name": "stdout",
     "output_type": "stream",
     "text": [
      "===== With values_are_single_color =====\n",
      "x=array([0.63182111, 0.99041219, 0.12133185])\n",
      "\n",
      "\n",
      "Colored points:\n"
     ]
    },
    {
     "data": {
      "image/png": "[encoded data removed]",
      "text/plain": [
       "<Figure size 720x72 with 1 Axes>"
      ]
     },
     "metadata": {
      "needs_background": "light"
     },
     "output_type": "display_data"
    },
    {
     "name": "stdout",
     "output_type": "stream",
     "text": [
      "Colorbar:\n"
     ]
    },
    {
     "data": {
      "image/png": "[encoded data removed]",
      "text/plain": [
       "<Figure size 720x72 with 1 Axes>"
      ]
     },
     "metadata": {
      "needs_background": "light"
     },
     "output_type": "display_data"
    }
   ],
   "source": [
    "print(\"===== With values_are_single_color =====\")\n",
    "cmap = pmv.ColorMap(values, colormap=\"Greens\", values_are_single_color=False)\n",
    "plot_colors(cmap, values)"
   ]
  },
  {
   "cell_type": "markdown",
   "metadata": {},
   "source": [
    "#### Multiple Colors\n",
    "Instead of passing values you can also pass mutiple single colors. As an example we will pass [\"red\", \"I\", [0.3, 0.4, 0.7], [50, 200, 100]]. Each of the indices are then mapped to the color."
   ]
  },
  {
   "cell_type": "code",
   "execution_count": 12,
   "metadata": {},
   "outputs": [
    {
     "name": "stdout",
     "output_type": "stream",
     "text": [
      "x=range(0, 4)\n",
      "\n",
      "\n",
      "Colored points:\n"
     ]
    },
    {
     "data": {
      "image/png": "[encoded data removed]",
      "text/plain": [
       "<Figure size 720x72 with 1 Axes>"
      ]
     },
     "metadata": {
      "needs_background": "light"
     },
     "output_type": "display_data"
    },
    {
     "name": "stdout",
     "output_type": "stream",
     "text": [
      "Colorbar:\n"
     ]
    },
    {
     "data": {
      "image/png": "[encoded data removed]",
      "text/plain": [
       "<Figure size 720x72 with 1 Axes>"
      ]
     },
     "metadata": {
      "needs_background": "light"
     },
     "output_type": "display_data"
    }
   ],
   "source": [
    "cmap = pmv.ColorMap([\"red\", \"I\", [0.3, 0.4, 0.7], [10, 250, 100]])\n",
    "plot_colors(cmap, range(4))"
   ]
  },
  {
   "cell_type": "markdown",
   "metadata": {},
   "source": [
    "## Linear Segmented Color Inputs\n",
    "Finally we will show linear segmented color inputs. In this case the colormap is constructed by mapping the given values to the given colors and linearly interpolating for any value inbetween."
   ]
  },
  {
   "cell_type": "markdown",
   "metadata": {},
   "source": [
    "#### Value - Color pairs\n",
    "As an input we use [(0.1, (50, 10, 255)), (0.5, \"Br\"), (0.6, \"Cl\"), (2, \"black\")]."
   ]
  },
  {
   "cell_type": "code",
   "execution_count": 13,
   "metadata": {},
   "outputs": [
    {
     "name": "stdout",
     "output_type": "stream",
     "text": [
      "x=[0.1, 0.5, 0.6, 2]\n",
      "\n",
      "\n",
      "Colored points:\n"
     ]
    },
    {
     "data": {
      "image/png": "[encoded data removed]",
      "text/plain": [
       "<Figure size 720x72 with 1 Axes>"
      ]
     },
     "metadata": {
      "needs_background": "light"
     },
     "output_type": "display_data"
    },
    {
     "name": "stdout",
     "output_type": "stream",
     "text": [
      "Colorbar:\n"
     ]
    },
    {
     "data": {
      "image/png": "[encoded data removed]",
      "text/plain": [
       "<Figure size 720x72 with 1 Axes>"
      ]
     },
     "metadata": {
      "needs_background": "light"
     },
     "output_type": "display_data"
    }
   ],
   "source": [
    "values = [0.1, 0.5, 0.6, 2]\n",
    "colors = [(50, 10, 255), \"Br\", \"Cl\", \"black\"]\n",
    "cmap = pmv.ColorMap(list(zip(values, colors)))\n",
    "plot_colors(cmap, values)"
   ]
  },
  {
   "cell_type": "markdown",
   "metadata": {},
   "source": [
    "#### Value - Value pairs\n",
    "As input we use [(0, 0), (0.5, 0.3), (0.51, 0.7), (1, 1)]"
   ]
  },
  {
   "cell_type": "code",
   "execution_count": 14,
   "metadata": {},
   "outputs": [
    {
     "name": "stdout",
     "output_type": "stream",
     "text": [
      "x=[-2, 0, 0, 3]\n",
      "\n",
      "\n",
      "Colored points:\n"
     ]
    },
    {
     "data": {
      "image/png": "[encoded data removed]",
      "text/plain": [
       "<Figure size 720x72 with 1 Axes>"
      ]
     },
     "metadata": {
      "needs_background": "light"
     },
     "output_type": "display_data"
    },
    {
     "name": "stdout",
     "output_type": "stream",
     "text": [
      "Colorbar:\n"
     ]
    },
    {
     "data": {
      "image/png": "[encoded data removed]",
      "text/plain": [
       "<Figure size 720x72 with 1 Axes>"
      ]
     },
     "metadata": {
      "needs_background": "light"
     },
     "output_type": "display_data"
    }
   ],
   "source": [
    "values = [-2, 0, 0, 3]\n",
    "color_values = [0, 0.4, 0.65, 1]\n",
    "cmap = pmv.ColorMap(list(zip(values, color_values)))\n",
    "plot_colors(cmap, values)"
   ]
  },
  {
   "cell_type": "markdown",
   "metadata": {},
   "source": [
    "## Displayable\n",
    "While not natively a PyMOL object, Colormaps inherit from the Displayable class. This is implemented by creating a dummy GridData object and creating a ColorRamp that can be shown in PyMOL."
   ]
  },
  {
   "cell_type": "code",
   "execution_count": 17,
   "metadata": {},
   "outputs": [],
   "source": [
    "cmap.name = \"colormap\"\n",
    "cmap.write(\"out/colormap.py\")"
   ]
  },
  {
   "cell_type": "code",
   "execution_count": null,
   "metadata": {},
   "outputs": [],
   "source": []
  }
 ],
 "metadata": {
  "kernelspec": {
   "display_name": "DD_py38",
   "language": "python",
   "name": "python3"
  },
  "language_info": {
   "codemirror_mode": {
    "name": "ipython",
    "version": 3
   },
   "file_extension": ".py",
   "mimetype": "text/x-python",
   "name": "python",
   "nbconvert_exporter": "python",
   "pygments_lexer": "ipython3",
   "version": "3.8.12"
  },
  "orig_nbformat": 4
 },
 "nbformat": 4,
 "nbformat_minor": 2
}
